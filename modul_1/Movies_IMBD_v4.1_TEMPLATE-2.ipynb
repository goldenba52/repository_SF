{
  "cells": [
    {
      "cell_type": "code",
      "metadata": {
        "_cell_guid": "b1076dfc-b9ad-4769-8c92-a6c4dae69d19",
        "_uuid": "8f2839f25d086af736a60e9eeb907d3b93b6e0e5",
        "colab": {},
        "colab_type": "code",
        "id": "U2D2gTdJVp90",
        "cell_id": "00000-fb6030b6-2c2b-43f1-b15f-b3087a936dd8",
        "deepnote_to_be_reexecuted": false,
        "source_hash": "90e21284",
        "execution_millis": 679,
        "execution_start": 1615836198142,
        "deepnote_cell_type": "code"
      },
      "source": "import numpy as np\nimport pandas as pd\nimport seaborn as sns\nimport matplotlib.pyplot as plt\nfrom collections import Counter\nimport itertools",
      "execution_count": 1,
      "outputs": []
    },
    {
      "cell_type": "code",
      "metadata": {
        "_cell_guid": "79c7e3d0-c299-4dcb-8224-4455121ee9b0",
        "_uuid": "d629ff2d2480ee46fbb7e2d37f6b5fab8052498a",
        "colab": {},
        "colab_type": "code",
        "id": "oyGfxL3eVp9-",
        "cell_id": "00001-d99ab978-d0ba-4a3c-be8e-ee9db64ce8fc",
        "deepnote_to_be_reexecuted": false,
        "source_hash": "7f247d6b",
        "execution_millis": 75,
        "execution_start": 1615836198825,
        "deepnote_cell_type": "code"
      },
      "source": "data = pd.read_csv('movie_bd_v5.csv')\ndata.sample(5)",
      "execution_count": 2,
      "outputs": [
        {
          "output_type": "execute_result",
          "execution_count": 2,
          "data": {
            "application/vnd.deepnote.dataframe.v2+json": {
              "row_count": 5,
              "column_count": 14,
              "columns": [
                {
                  "name": "imdb_id",
                  "dtype": "object",
                  "stats": {
                    "unique_count": 5,
                    "nan_count": 0,
                    "categories": [
                      {
                        "name": "tt0499448",
                        "count": 1
                      },
                      {
                        "name": "tt0383222",
                        "count": 1
                      },
                      {
                        "name": "3 others",
                        "count": 3
                      }
                    ]
                  }
                },
                {
                  "name": "budget",
                  "dtype": "int64",
                  "stats": {
                    "unique_count": 5,
                    "nan_count": 0,
                    "min": 25000000,
                    "max": 225000000,
                    "histogram": [
                      {
                        "bin_start": 25000000,
                        "bin_end": 45000000,
                        "count": 2
                      },
                      {
                        "bin_start": 45000000,
                        "bin_end": 65000000,
                        "count": 1
                      },
                      {
                        "bin_start": 65000000,
                        "bin_end": 85000000,
                        "count": 0
                      },
                      {
                        "bin_start": 85000000,
                        "bin_end": 105000000,
                        "count": 0
                      },
                      {
                        "bin_start": 105000000,
                        "bin_end": 125000000,
                        "count": 0
                      },
                      {
                        "bin_start": 125000000,
                        "bin_end": 145000000,
                        "count": 1
                      },
                      {
                        "bin_start": 145000000,
                        "bin_end": 165000000,
                        "count": 0
                      },
                      {
                        "bin_start": 165000000,
                        "bin_end": 185000000,
                        "count": 0
                      },
                      {
                        "bin_start": 185000000,
                        "bin_end": 205000000,
                        "count": 0
                      },
                      {
                        "bin_start": 205000000,
                        "bin_end": 225000000,
                        "count": 1
                      }
                    ]
                  }
                },
                {
                  "name": "revenue",
                  "dtype": "int64",
                  "stats": {
                    "unique_count": 5,
                    "nan_count": 0,
                    "min": 2405420,
                    "max": 419651413,
                    "histogram": [
                      {
                        "bin_start": 2405420,
                        "bin_end": 44130019.3,
                        "count": 2
                      },
                      {
                        "bin_start": 44130019.3,
                        "bin_end": 85854618.6,
                        "count": 0
                      },
                      {
                        "bin_start": 85854618.6,
                        "bin_end": 127579217.89999999,
                        "count": 0
                      },
                      {
                        "bin_start": 127579217.89999999,
                        "bin_end": 169303817.2,
                        "count": 0
                      },
                      {
                        "bin_start": 169303817.2,
                        "bin_end": 211028416.5,
                        "count": 0
                      },
                      {
                        "bin_start": 211028416.5,
                        "bin_end": 252753015.79999998,
                        "count": 2
                      },
                      {
                        "bin_start": 252753015.79999998,
                        "bin_end": 294477615.09999996,
                        "count": 0
                      },
                      {
                        "bin_start": 294477615.09999996,
                        "bin_end": 336202214.4,
                        "count": 0
                      },
                      {
                        "bin_start": 336202214.4,
                        "bin_end": 377926813.7,
                        "count": 0
                      },
                      {
                        "bin_start": 377926813.7,
                        "bin_end": 419651413,
                        "count": 1
                      }
                    ]
                  }
                },
                {
                  "name": "original_title",
                  "dtype": "object",
                  "stats": {
                    "unique_count": 5,
                    "nan_count": 0,
                    "categories": [
                      {
                        "name": "The Chronicles of Narnia: Prince Caspian",
                        "count": 1
                      },
                      {
                        "name": "BloodRayne",
                        "count": 1
                      },
                      {
                        "name": "3 others",
                        "count": 3
                      }
                    ]
                  }
                },
                {
                  "name": "cast",
                  "dtype": "object",
                  "stats": {
                    "unique_count": 5,
                    "nan_count": 0,
                    "categories": [
                      {
                        "name": "Ben Barnes|William Moseley|Anna Popplewell|Skandar Keynes|Georgie Henley",
                        "count": 1
                      },
                      {
                        "name": "Kristanna Loken|Ben Kingsley|Michelle Rodriguez|Michael Madsen|Matthew Davis",
                        "count": 1
                      },
                      {
                        "name": "3 others",
                        "count": 3
                      }
                    ]
                  }
                },
                {
                  "name": "director",
                  "dtype": "object",
                  "stats": {
                    "unique_count": 5,
                    "nan_count": 0,
                    "categories": [
                      {
                        "name": "Andrew Adamson",
                        "count": 1
                      },
                      {
                        "name": "Uwe Boll",
                        "count": 1
                      },
                      {
                        "name": "3 others",
                        "count": 3
                      }
                    ]
                  }
                },
                {
                  "name": "tagline",
                  "dtype": "object",
                  "stats": {
                    "unique_count": 5,
                    "nan_count": 0,
                    "categories": [
                      {
                        "name": "Hope has a new face.",
                        "count": 1
                      },
                      {
                        "name": "Revenge never tasted so sweet.",
                        "count": 1
                      },
                      {
                        "name": "3 others",
                        "count": 3
                      }
                    ]
                  }
                },
                {
                  "name": "overview",
                  "dtype": "object",
                  "stats": {
                    "unique_count": 5,
                    "nan_count": 0,
                    "categories": [
                      {
                        "name": "One year after their incredible adventures in the Lion, the Witch and the Wardrobe, Peter, Edmund, Lucy and Susan Pevensie return to Narnia to aid a young prince whose life has been threatened by the evil King Miraz. Now, with the help of a colorful cast of new characters, including Trufflehunter the badger and Nikabrik the dwarf, the Pevensie clan embarks on an incredible quest to ensure that Narnia is returned to its rightful heir.",
                        "count": 1
                      },
                      {
                        "name": "In eighteenth century Romania, Rayne, a dhampir (half-human, half-vampire), prone to fits of blind blood rage but saddled with a compunction for humans, strives to avenge her mother's rape by her father, Kagan, King of Vampires. Two vampire hunters, Sebastian and Vladimir, from the Brimstone Society persuade her to join their cause.",
                        "count": 1
                      },
                      {
                        "name": "3 others",
                        "count": 3
                      }
                    ]
                  }
                },
                {
                  "name": "runtime",
                  "dtype": "int64",
                  "stats": {
                    "unique_count": 5,
                    "nan_count": 0,
                    "min": 95,
                    "max": 150,
                    "histogram": [
                      {
                        "bin_start": 95,
                        "bin_end": 100.5,
                        "count": 2
                      },
                      {
                        "bin_start": 100.5,
                        "bin_end": 106,
                        "count": 2
                      },
                      {
                        "bin_start": 106,
                        "bin_end": 111.5,
                        "count": 0
                      },
                      {
                        "bin_start": 111.5,
                        "bin_end": 117,
                        "count": 0
                      },
                      {
                        "bin_start": 117,
                        "bin_end": 122.5,
                        "count": 0
                      },
                      {
                        "bin_start": 122.5,
                        "bin_end": 128,
                        "count": 0
                      },
                      {
                        "bin_start": 128,
                        "bin_end": 133.5,
                        "count": 0
                      },
                      {
                        "bin_start": 133.5,
                        "bin_end": 139,
                        "count": 0
                      },
                      {
                        "bin_start": 139,
                        "bin_end": 144.5,
                        "count": 0
                      },
                      {
                        "bin_start": 144.5,
                        "bin_end": 150,
                        "count": 1
                      }
                    ]
                  }
                },
                {
                  "name": "genres",
                  "dtype": "object",
                  "stats": {
                    "unique_count": 5,
                    "nan_count": 0,
                    "categories": [
                      {
                        "name": "Adventure|Family|Fantasy",
                        "count": 1
                      },
                      {
                        "name": "Action|Adventure|Fantasy|Horror",
                        "count": 1
                      },
                      {
                        "name": "3 others",
                        "count": 3
                      }
                    ]
                  }
                },
                {
                  "name": "production_companies",
                  "dtype": "object",
                  "stats": {
                    "unique_count": 5,
                    "nan_count": 0,
                    "categories": [
                      {
                        "name": "Walt Disney|Walden Media|Stillking Films|Ozumi Films|Propeler",
                        "count": 1
                      },
                      {
                        "name": "Boll KG",
                        "count": 1
                      },
                      {
                        "name": "3 others",
                        "count": 3
                      }
                    ]
                  }
                },
                {
                  "name": "release_date",
                  "dtype": "object",
                  "stats": {
                    "unique_count": 5,
                    "nan_count": 0,
                    "categories": [
                      {
                        "name": "5/15/2008",
                        "count": 1
                      },
                      {
                        "name": "10/22/2005",
                        "count": 1
                      },
                      {
                        "name": "3 others",
                        "count": 3
                      }
                    ]
                  }
                },
                {
                  "name": "vote_average",
                  "dtype": "float64",
                  "stats": {
                    "unique_count": 5,
                    "nan_count": 0,
                    "min": 3.8,
                    "max": 6.1,
                    "histogram": [
                      {
                        "bin_start": 3.8,
                        "bin_end": 4.029999999999999,
                        "count": 1
                      },
                      {
                        "bin_start": 4.029999999999999,
                        "bin_end": 4.26,
                        "count": 0
                      },
                      {
                        "bin_start": 4.26,
                        "bin_end": 4.49,
                        "count": 0
                      },
                      {
                        "bin_start": 4.49,
                        "bin_end": 4.72,
                        "count": 0
                      },
                      {
                        "bin_start": 4.72,
                        "bin_end": 4.949999999999999,
                        "count": 0
                      },
                      {
                        "bin_start": 4.949999999999999,
                        "bin_end": 5.18,
                        "count": 1
                      },
                      {
                        "bin_start": 5.18,
                        "bin_end": 5.41,
                        "count": 0
                      },
                      {
                        "bin_start": 5.41,
                        "bin_end": 5.64,
                        "count": 0
                      },
                      {
                        "bin_start": 5.64,
                        "bin_end": 5.869999999999999,
                        "count": 1
                      },
                      {
                        "bin_start": 5.869999999999999,
                        "bin_end": 6.1,
                        "count": 2
                      }
                    ]
                  }
                },
                {
                  "name": "release_year",
                  "dtype": "int64",
                  "stats": {
                    "unique_count": 4,
                    "nan_count": 0,
                    "min": 2003,
                    "max": 2013,
                    "histogram": [
                      {
                        "bin_start": 2003,
                        "bin_end": 2004,
                        "count": 1
                      },
                      {
                        "bin_start": 2004,
                        "bin_end": 2005,
                        "count": 0
                      },
                      {
                        "bin_start": 2005,
                        "bin_end": 2006,
                        "count": 1
                      },
                      {
                        "bin_start": 2006,
                        "bin_end": 2007,
                        "count": 0
                      },
                      {
                        "bin_start": 2007,
                        "bin_end": 2008,
                        "count": 0
                      },
                      {
                        "bin_start": 2008,
                        "bin_end": 2009,
                        "count": 2
                      },
                      {
                        "bin_start": 2009,
                        "bin_end": 2010,
                        "count": 0
                      },
                      {
                        "bin_start": 2010,
                        "bin_end": 2011,
                        "count": 0
                      },
                      {
                        "bin_start": 2011,
                        "bin_end": 2012,
                        "count": 0
                      },
                      {
                        "bin_start": 2012,
                        "bin_end": 2013,
                        "count": 1
                      }
                    ]
                  }
                },
                {
                  "name": "_deepnote_index_column",
                  "dtype": "int64"
                }
              ],
              "rows_top": [
                {
                  "imdb_id": "tt0499448",
                  "budget": 225000000,
                  "revenue": 419651413,
                  "original_title": "The Chronicles of Narnia: Prince Caspian",
                  "cast": "Ben Barnes|William Moseley|Anna Popplewell|Skandar Keynes|Georgie Henley",
                  "director": "Andrew Adamson",
                  "tagline": "Hope has a new face.",
                  "overview": "One year after their incredible adventures in the Lion, the Witch and the Wardrobe, Peter, Edmund, Lucy and Susan Pevensie return to Narnia to aid a young prince whose life has been threatened by the evil King Miraz. Now, with the help of a colorful cast of new characters, including Trufflehunter the badger and Nikabrik the dwarf, the Pevensie clan embarks on an incredible quest to ensure that Narnia is returned to its rightful heir.",
                  "runtime": 150,
                  "genres": "Adventure|Family|Fantasy",
                  "production_companies": "Walt Disney|Walden Media|Stillking Films|Ozumi Films|Propeler",
                  "release_date": "5/15/2008",
                  "vote_average": 6.1,
                  "release_year": 2008,
                  "_deepnote_index_column": 624
                },
                {
                  "imdb_id": "tt0383222",
                  "budget": 25000000,
                  "revenue": 2405420,
                  "original_title": "BloodRayne",
                  "cast": "Kristanna Loken|Ben Kingsley|Michelle Rodriguez|Michael Madsen|Matthew Davis",
                  "director": "Uwe Boll",
                  "tagline": "Revenge never tasted so sweet.",
                  "overview": "In eighteenth century Romania, Rayne, a dhampir (half-human, half-vampire), prone to fits of blind blood rage but saddled with a compunction for humans, strives to avenge her mother's rape by her father, Kagan, King of Vampires. Two vampire hunters, Sebastian and Vladimir, from the Brimstone Society persuade her to join their cause.",
                  "runtime": 95,
                  "genres": "Action|Adventure|Fantasy|Horror",
                  "production_companies": "Boll KG",
                  "release_date": "10/22/2005",
                  "vote_average": 3.8,
                  "release_year": 2005,
                  "_deepnote_index_column": 1404
                },
                {
                  "imdb_id": "tt1815862",
                  "budget": 130000000,
                  "revenue": 243843127,
                  "original_title": "After Earth",
                  "cast": "Jaden Smith|Will Smith|Sophie Okonedo|ZoÃ« Kravitz|Glenn Morshower",
                  "director": "M. Night Shyamalan",
                  "tagline": "Danger is real, fear is a choice",
                  "overview": "One thousand years after cataclysmic events forced humanity's escape from Earth, Nova Prime has become mankind's new home. Legendary General Cypher Raige returns from an extended tour of duty to his estranged family, ready to be a father to his 13-year-old son, Kitai. When an asteroid storm damages Cypher and Kitai's craft, they crash-land on a now unfamiliar and dangerous Earth. As his father lies dying in the cockpit, Kitai must trek across the hostile terrain to recover their rescue beacon. His whole life, Kitai has wanted nothing more than to be a soldier like his father. Today, he gets his chance.",
                  "runtime": 100,
                  "genres": "Science Fiction|Action|Adventure",
                  "production_companies": "Columbia Pictures|Blinding Edge Pictures|Overbrook Entertainment",
                  "release_date": "5/30/2013",
                  "vote_average": 5.1,
                  "release_year": 2013,
                  "_deepnote_index_column": 1241
                },
                {
                  "imdb_id": "tt0483607",
                  "budget": 30000000,
                  "revenue": 22211426,
                  "original_title": "Doomsday",
                  "cast": "Rhona Mitra|Bob Hoskins|Malcolm McDowell|Alexander Siddig|David O'Hara",
                  "director": "Neil Marshall",
                  "tagline": "Mankind has an expiration date.",
                  "overview": "A lethal virus spreads throughout the British isles,infecting millions and killing hundreds of thousands. To contain the threat, acting authorities brutally quarantine the country as it succumbs to fear and chaos. The quarantine is successful. Three decades later, the Reaper virus violently resurfaces in a major city. An elite group of specialists is urgently dispatched into the still-quarantined country to retrieve a cure by any means necessary. Shut off from the rest of the world, the unit must battle through a landscape that has become a waking nightmare.",
                  "runtime": 105,
                  "genres": "Action|Thriller|Science Fiction",
                  "production_companies": "Rogue Pictures|Intrepid Pictures|Scion Films|Moonlighting Films|Internationale Filmproduktion Blackbird Dritte",
                  "release_date": "3/14/2008",
                  "vote_average": 5.8,
                  "release_year": 2008,
                  "_deepnote_index_column": 691
                },
                {
                  "imdb_id": "tt0328828",
                  "budget": 55000000,
                  "revenue": 231449203,
                  "original_title": "American Wedding",
                  "cast": "Jason Biggs|Alyson Hannigan|Seann William Scott|Eddie Kaye Thomas|Thomas Ian Nicholas",
                  "director": "Jesse Dylan",
                  "tagline": "Forever hold your piece.",
                  "overview": "With high school a distant memory, Jim and Michelle are getting married -- and in a hurry, since Jim's grandmother is sick and wants to see him walk down the aisle -- prompting Stifler to throw the ultimate bachelor party. And Jim's dad is reliable as ever, doling out advice no one wants to hear.",
                  "runtime": 103,
                  "genres": "Comedy|Romance",
                  "production_companies": "Universal Pictures|Zide-Perry Productions|LivePlanet|Loumolo & Co.",
                  "release_date": "8/1/2003",
                  "vote_average": 6,
                  "release_year": 2003,
                  "_deepnote_index_column": 1094
                }
              ],
              "rows_bottom": null
            },
            "text/plain": "        imdb_id     budget    revenue  \\\n624   tt0499448  225000000  419651413   \n1404  tt0383222   25000000    2405420   \n1241  tt1815862  130000000  243843127   \n691   tt0483607   30000000   22211426   \n1094  tt0328828   55000000  231449203   \n\n                                original_title  \\\n624   The Chronicles of Narnia: Prince Caspian   \n1404                                BloodRayne   \n1241                               After Earth   \n691                                   Doomsday   \n1094                          American Wedding   \n\n                                                   cast            director  \\\n624   Ben Barnes|William Moseley|Anna Popplewell|Ska...      Andrew Adamson   \n1404  Kristanna Loken|Ben Kingsley|Michelle Rodrigue...            Uwe Boll   \n1241  Jaden Smith|Will Smith|Sophie Okonedo|ZoÃ« Kra...  M. Night Shyamalan   \n691   Rhona Mitra|Bob Hoskins|Malcolm McDowell|Alexa...       Neil Marshall   \n1094  Jason Biggs|Alyson Hannigan|Seann William Scot...         Jesse Dylan   \n\n                               tagline  \\\n624               Hope has a new face.   \n1404    Revenge never tasted so sweet.   \n1241  Danger is real, fear is a choice   \n691    Mankind has an expiration date.   \n1094          Forever hold your piece.   \n\n                                               overview  runtime  \\\n624   One year after their incredible adventures in ...      150   \n1404  In eighteenth century Romania, Rayne, a dhampi...       95   \n1241  One thousand years after cataclysmic events fo...      100   \n691   A lethal virus spreads throughout the British ...      105   \n1094  With high school a distant memory, Jim and Mic...      103   \n\n                                genres  \\\n624           Adventure|Family|Fantasy   \n1404   Action|Adventure|Fantasy|Horror   \n1241  Science Fiction|Action|Adventure   \n691    Action|Thriller|Science Fiction   \n1094                    Comedy|Romance   \n\n                                   production_companies release_date  \\\n624   Walt Disney|Walden Media|Stillking Films|Ozumi...    5/15/2008   \n1404                                            Boll KG   10/22/2005   \n1241  Columbia Pictures|Blinding Edge Pictures|Overb...    5/30/2013   \n691   Rogue Pictures|Intrepid Pictures|Scion Films|M...    3/14/2008   \n1094  Universal Pictures|Zide-Perry Productions|Live...     8/1/2003   \n\n      vote_average  release_year  \n624            6.1          2008  \n1404           3.8          2005  \n1241           5.1          2013  \n691            5.8          2008  \n1094           6.0          2003  ",
            "text/html": "<div>\n<style scoped>\n    .dataframe tbody tr th:only-of-type {\n        vertical-align: middle;\n    }\n\n    .dataframe tbody tr th {\n        vertical-align: top;\n    }\n\n    .dataframe thead th {\n        text-align: right;\n    }\n</style>\n<table border=\"1\" class=\"dataframe\">\n  <thead>\n    <tr style=\"text-align: right;\">\n      <th></th>\n      <th>imdb_id</th>\n      <th>budget</th>\n      <th>revenue</th>\n      <th>original_title</th>\n      <th>cast</th>\n      <th>director</th>\n      <th>tagline</th>\n      <th>overview</th>\n      <th>runtime</th>\n      <th>genres</th>\n      <th>production_companies</th>\n      <th>release_date</th>\n      <th>vote_average</th>\n      <th>release_year</th>\n    </tr>\n  </thead>\n  <tbody>\n    <tr>\n      <th>624</th>\n      <td>tt0499448</td>\n      <td>225000000</td>\n      <td>419651413</td>\n      <td>The Chronicles of Narnia: Prince Caspian</td>\n      <td>Ben Barnes|William Moseley|Anna Popplewell|Ska...</td>\n      <td>Andrew Adamson</td>\n      <td>Hope has a new face.</td>\n      <td>One year after their incredible adventures in ...</td>\n      <td>150</td>\n      <td>Adventure|Family|Fantasy</td>\n      <td>Walt Disney|Walden Media|Stillking Films|Ozumi...</td>\n      <td>5/15/2008</td>\n      <td>6.1</td>\n      <td>2008</td>\n    </tr>\n    <tr>\n      <th>1404</th>\n      <td>tt0383222</td>\n      <td>25000000</td>\n      <td>2405420</td>\n      <td>BloodRayne</td>\n      <td>Kristanna Loken|Ben Kingsley|Michelle Rodrigue...</td>\n      <td>Uwe Boll</td>\n      <td>Revenge never tasted so sweet.</td>\n      <td>In eighteenth century Romania, Rayne, a dhampi...</td>\n      <td>95</td>\n      <td>Action|Adventure|Fantasy|Horror</td>\n      <td>Boll KG</td>\n      <td>10/22/2005</td>\n      <td>3.8</td>\n      <td>2005</td>\n    </tr>\n    <tr>\n      <th>1241</th>\n      <td>tt1815862</td>\n      <td>130000000</td>\n      <td>243843127</td>\n      <td>After Earth</td>\n      <td>Jaden Smith|Will Smith|Sophie Okonedo|ZoÃ« Kra...</td>\n      <td>M. Night Shyamalan</td>\n      <td>Danger is real, fear is a choice</td>\n      <td>One thousand years after cataclysmic events fo...</td>\n      <td>100</td>\n      <td>Science Fiction|Action|Adventure</td>\n      <td>Columbia Pictures|Blinding Edge Pictures|Overb...</td>\n      <td>5/30/2013</td>\n      <td>5.1</td>\n      <td>2013</td>\n    </tr>\n    <tr>\n      <th>691</th>\n      <td>tt0483607</td>\n      <td>30000000</td>\n      <td>22211426</td>\n      <td>Doomsday</td>\n      <td>Rhona Mitra|Bob Hoskins|Malcolm McDowell|Alexa...</td>\n      <td>Neil Marshall</td>\n      <td>Mankind has an expiration date.</td>\n      <td>A lethal virus spreads throughout the British ...</td>\n      <td>105</td>\n      <td>Action|Thriller|Science Fiction</td>\n      <td>Rogue Pictures|Intrepid Pictures|Scion Films|M...</td>\n      <td>3/14/2008</td>\n      <td>5.8</td>\n      <td>2008</td>\n    </tr>\n    <tr>\n      <th>1094</th>\n      <td>tt0328828</td>\n      <td>55000000</td>\n      <td>231449203</td>\n      <td>American Wedding</td>\n      <td>Jason Biggs|Alyson Hannigan|Seann William Scot...</td>\n      <td>Jesse Dylan</td>\n      <td>Forever hold your piece.</td>\n      <td>With high school a distant memory, Jim and Mic...</td>\n      <td>103</td>\n      <td>Comedy|Romance</td>\n      <td>Universal Pictures|Zide-Perry Productions|Live...</td>\n      <td>8/1/2003</td>\n      <td>6.0</td>\n      <td>2003</td>\n    </tr>\n  </tbody>\n</table>\n</div>"
          },
          "metadata": {}
        }
      ]
    },
    {
      "cell_type": "code",
      "metadata": {
        "colab": {},
        "colab_type": "code",
        "id": "CoYUnagMVp-C",
        "cell_id": "00002-55950b6f-4bf7-4373-ab17-e7b64eff8889",
        "deepnote_to_be_reexecuted": false,
        "source_hash": "d786443f",
        "execution_millis": 40,
        "execution_start": 1615836198896,
        "deepnote_cell_type": "code"
      },
      "source": "data.describe()",
      "execution_count": 3,
      "outputs": [
        {
          "output_type": "execute_result",
          "execution_count": 3,
          "data": {
            "application/vnd.deepnote.dataframe.v2+json": {
              "row_count": 8,
              "column_count": 5,
              "columns": [
                {
                  "name": "budget",
                  "dtype": "float64",
                  "stats": {
                    "unique_count": 8,
                    "nan_count": 0,
                    "min": 1889,
                    "max": 380000000,
                    "histogram": [
                      {
                        "bin_start": 1889,
                        "bin_end": 38001700.1,
                        "count": 4
                      },
                      {
                        "bin_start": 38001700.1,
                        "bin_end": 76001511.2,
                        "count": 3
                      },
                      {
                        "bin_start": 76001511.2,
                        "bin_end": 114001322.30000001,
                        "count": 0
                      },
                      {
                        "bin_start": 114001322.30000001,
                        "bin_end": 152001133.4,
                        "count": 0
                      },
                      {
                        "bin_start": 152001133.4,
                        "bin_end": 190000944.5,
                        "count": 0
                      },
                      {
                        "bin_start": 190000944.5,
                        "bin_end": 228000755.60000002,
                        "count": 0
                      },
                      {
                        "bin_start": 228000755.60000002,
                        "bin_end": 266000566.70000002,
                        "count": 0
                      },
                      {
                        "bin_start": 266000566.70000002,
                        "bin_end": 304000377.8,
                        "count": 0
                      },
                      {
                        "bin_start": 304000377.8,
                        "bin_end": 342000188.90000004,
                        "count": 0
                      },
                      {
                        "bin_start": 342000188.90000004,
                        "bin_end": 380000000,
                        "count": 1
                      }
                    ]
                  }
                },
                {
                  "name": "revenue",
                  "dtype": "float64",
                  "stats": {
                    "unique_count": 8,
                    "nan_count": 0,
                    "min": 1889,
                    "max": 2781505847,
                    "histogram": [
                      {
                        "bin_start": 1889,
                        "bin_end": 278152284.8,
                        "count": 7
                      },
                      {
                        "bin_start": 278152284.8,
                        "bin_end": 556302680.6,
                        "count": 0
                      },
                      {
                        "bin_start": 556302680.6,
                        "bin_end": 834453076.4000001,
                        "count": 0
                      },
                      {
                        "bin_start": 834453076.4000001,
                        "bin_end": 1112603472.2,
                        "count": 0
                      },
                      {
                        "bin_start": 1112603472.2,
                        "bin_end": 1390753868,
                        "count": 0
                      },
                      {
                        "bin_start": 1390753868,
                        "bin_end": 1668904263.8000002,
                        "count": 0
                      },
                      {
                        "bin_start": 1668904263.8000002,
                        "bin_end": 1947054659.6000001,
                        "count": 0
                      },
                      {
                        "bin_start": 1947054659.6000001,
                        "bin_end": 2225205055.4,
                        "count": 0
                      },
                      {
                        "bin_start": 2225205055.4,
                        "bin_end": 2503355451.2000003,
                        "count": 0
                      },
                      {
                        "bin_start": 2503355451.2000003,
                        "bin_end": 2781505847,
                        "count": 1
                      }
                    ]
                  }
                },
                {
                  "name": "runtime",
                  "dtype": "float64",
                  "stats": {
                    "unique_count": 8,
                    "nan_count": 0,
                    "min": 18.01704061004691,
                    "max": 1889,
                    "histogram": [
                      {
                        "bin_start": 18.01704061004691,
                        "bin_end": 205.1153365490422,
                        "count": 6
                      },
                      {
                        "bin_start": 205.1153365490422,
                        "bin_end": 392.21363248803755,
                        "count": 1
                      },
                      {
                        "bin_start": 392.21363248803755,
                        "bin_end": 579.3119284270329,
                        "count": 0
                      },
                      {
                        "bin_start": 579.3119284270329,
                        "bin_end": 766.4102243660282,
                        "count": 0
                      },
                      {
                        "bin_start": 766.4102243660282,
                        "bin_end": 953.5085203050235,
                        "count": 0
                      },
                      {
                        "bin_start": 953.5085203050235,
                        "bin_end": 1140.6068162440188,
                        "count": 0
                      },
                      {
                        "bin_start": 1140.6068162440188,
                        "bin_end": 1327.705112183014,
                        "count": 0
                      },
                      {
                        "bin_start": 1327.705112183014,
                        "bin_end": 1514.8034081220094,
                        "count": 0
                      },
                      {
                        "bin_start": 1514.8034081220094,
                        "bin_end": 1701.9017040610047,
                        "count": 0
                      },
                      {
                        "bin_start": 1701.9017040610047,
                        "bin_end": 1889,
                        "count": 1
                      }
                    ]
                  }
                },
                {
                  "name": "vote_average",
                  "dtype": "float64",
                  "stats": {
                    "unique_count": 8,
                    "nan_count": 0,
                    "min": 0.7647633476446175,
                    "max": 1889,
                    "histogram": [
                      {
                        "bin_start": 0.7647633476446175,
                        "bin_end": 189.58828701288016,
                        "count": 7
                      },
                      {
                        "bin_start": 189.58828701288016,
                        "bin_end": 378.4118106781157,
                        "count": 0
                      },
                      {
                        "bin_start": 378.4118106781157,
                        "bin_end": 567.2353343433512,
                        "count": 0
                      },
                      {
                        "bin_start": 567.2353343433512,
                        "bin_end": 756.0588580085868,
                        "count": 0
                      },
                      {
                        "bin_start": 756.0588580085868,
                        "bin_end": 944.8823816738224,
                        "count": 0
                      },
                      {
                        "bin_start": 944.8823816738224,
                        "bin_end": 1133.7059053390578,
                        "count": 0
                      },
                      {
                        "bin_start": 1133.7059053390578,
                        "bin_end": 1322.5294290042934,
                        "count": 0
                      },
                      {
                        "bin_start": 1322.5294290042934,
                        "bin_end": 1511.352952669529,
                        "count": 0
                      },
                      {
                        "bin_start": 1511.352952669529,
                        "bin_end": 1700.1764763347646,
                        "count": 0
                      },
                      {
                        "bin_start": 1700.1764763347646,
                        "bin_end": 1889,
                        "count": 1
                      }
                    ]
                  }
                },
                {
                  "name": "release_year",
                  "dtype": "float64",
                  "stats": {
                    "unique_count": 8,
                    "nan_count": 0,
                    "min": 4.468841235383238,
                    "max": 2015,
                    "histogram": [
                      {
                        "bin_start": 4.468841235383238,
                        "bin_end": 205.52195711184493,
                        "count": 1
                      },
                      {
                        "bin_start": 205.52195711184493,
                        "bin_end": 406.5750729883066,
                        "count": 0
                      },
                      {
                        "bin_start": 406.5750729883066,
                        "bin_end": 607.6281888647683,
                        "count": 0
                      },
                      {
                        "bin_start": 607.6281888647683,
                        "bin_end": 808.68130474123,
                        "count": 0
                      },
                      {
                        "bin_start": 808.68130474123,
                        "bin_end": 1009.7344206176916,
                        "count": 0
                      },
                      {
                        "bin_start": 1009.7344206176916,
                        "bin_end": 1210.7875364941533,
                        "count": 0
                      },
                      {
                        "bin_start": 1210.7875364941533,
                        "bin_end": 1411.840652370615,
                        "count": 0
                      },
                      {
                        "bin_start": 1411.840652370615,
                        "bin_end": 1612.8937682470767,
                        "count": 0
                      },
                      {
                        "bin_start": 1612.8937682470767,
                        "bin_end": 1813.9468841235382,
                        "count": 0
                      },
                      {
                        "bin_start": 1813.9468841235382,
                        "bin_end": 2015,
                        "count": 7
                      }
                    ]
                  }
                },
                {
                  "name": "_deepnote_index_column",
                  "dtype": "object"
                }
              ],
              "rows_top": [
                {
                  "budget": 1889,
                  "revenue": 1889,
                  "runtime": 1889,
                  "vote_average": 1889,
                  "release_year": 1889,
                  "_deepnote_index_column": "count"
                },
                {
                  "budget": 54310829.63843303,
                  "revenue": 155365321.08417153,
                  "runtime": 109.6585494970884,
                  "vote_average": 6.140762308099524,
                  "release_year": 2007.860772895712,
                  "_deepnote_index_column": "mean"
                },
                {
                  "budget": 48587207.4455653,
                  "revenue": 214669813.14849004,
                  "runtime": 18.01704061004691,
                  "vote_average": 0.7647633476446175,
                  "release_year": 4.468841235383238,
                  "_deepnote_index_column": "std"
                },
                {
                  "budget": 5000000,
                  "revenue": 2033165,
                  "runtime": 63,
                  "vote_average": 3.3,
                  "release_year": 2000,
                  "_deepnote_index_column": "min"
                },
                {
                  "budget": 20000000,
                  "revenue": 34560577,
                  "runtime": 97,
                  "vote_average": 5.6,
                  "release_year": 2004,
                  "_deepnote_index_column": "25%"
                },
                {
                  "budget": 38000000,
                  "revenue": 83615414,
                  "runtime": 107,
                  "vote_average": 6.1,
                  "release_year": 2008,
                  "_deepnote_index_column": "50%"
                },
                {
                  "budget": 72000000,
                  "revenue": 178262620,
                  "runtime": 120,
                  "vote_average": 6.6,
                  "release_year": 2012,
                  "_deepnote_index_column": "75%"
                },
                {
                  "budget": 380000000,
                  "revenue": 2781505847,
                  "runtime": 214,
                  "vote_average": 8.1,
                  "release_year": 2015,
                  "_deepnote_index_column": "max"
                }
              ],
              "rows_bottom": null
            },
            "text/plain": "             budget       revenue      runtime  vote_average  release_year\ncount  1.889000e+03  1.889000e+03  1889.000000   1889.000000   1889.000000\nmean   5.431083e+07  1.553653e+08   109.658549      6.140762   2007.860773\nstd    4.858721e+07  2.146698e+08    18.017041      0.764763      4.468841\nmin    5.000000e+06  2.033165e+06    63.000000      3.300000   2000.000000\n25%    2.000000e+07  3.456058e+07    97.000000      5.600000   2004.000000\n50%    3.800000e+07  8.361541e+07   107.000000      6.100000   2008.000000\n75%    7.200000e+07  1.782626e+08   120.000000      6.600000   2012.000000\nmax    3.800000e+08  2.781506e+09   214.000000      8.100000   2015.000000",
            "text/html": "<div>\n<style scoped>\n    .dataframe tbody tr th:only-of-type {\n        vertical-align: middle;\n    }\n\n    .dataframe tbody tr th {\n        vertical-align: top;\n    }\n\n    .dataframe thead th {\n        text-align: right;\n    }\n</style>\n<table border=\"1\" class=\"dataframe\">\n  <thead>\n    <tr style=\"text-align: right;\">\n      <th></th>\n      <th>budget</th>\n      <th>revenue</th>\n      <th>runtime</th>\n      <th>vote_average</th>\n      <th>release_year</th>\n    </tr>\n  </thead>\n  <tbody>\n    <tr>\n      <th>count</th>\n      <td>1.889000e+03</td>\n      <td>1.889000e+03</td>\n      <td>1889.000000</td>\n      <td>1889.000000</td>\n      <td>1889.000000</td>\n    </tr>\n    <tr>\n      <th>mean</th>\n      <td>5.431083e+07</td>\n      <td>1.553653e+08</td>\n      <td>109.658549</td>\n      <td>6.140762</td>\n      <td>2007.860773</td>\n    </tr>\n    <tr>\n      <th>std</th>\n      <td>4.858721e+07</td>\n      <td>2.146698e+08</td>\n      <td>18.017041</td>\n      <td>0.764763</td>\n      <td>4.468841</td>\n    </tr>\n    <tr>\n      <th>min</th>\n      <td>5.000000e+06</td>\n      <td>2.033165e+06</td>\n      <td>63.000000</td>\n      <td>3.300000</td>\n      <td>2000.000000</td>\n    </tr>\n    <tr>\n      <th>25%</th>\n      <td>2.000000e+07</td>\n      <td>3.456058e+07</td>\n      <td>97.000000</td>\n      <td>5.600000</td>\n      <td>2004.000000</td>\n    </tr>\n    <tr>\n      <th>50%</th>\n      <td>3.800000e+07</td>\n      <td>8.361541e+07</td>\n      <td>107.000000</td>\n      <td>6.100000</td>\n      <td>2008.000000</td>\n    </tr>\n    <tr>\n      <th>75%</th>\n      <td>7.200000e+07</td>\n      <td>1.782626e+08</td>\n      <td>120.000000</td>\n      <td>6.600000</td>\n      <td>2012.000000</td>\n    </tr>\n    <tr>\n      <th>max</th>\n      <td>3.800000e+08</td>\n      <td>2.781506e+09</td>\n      <td>214.000000</td>\n      <td>8.100000</td>\n      <td>2015.000000</td>\n    </tr>\n  </tbody>\n</table>\n</div>"
          },
          "metadata": {}
        }
      ]
    },
    {
      "cell_type": "markdown",
      "source": "# Предобработка",
      "metadata": {
        "colab_type": "text",
        "id": "DTIt7ezGVp-G",
        "cell_id": "00003-5e1db49d-cbf4-4a23-abae-c5d127f042e6",
        "deepnote_cell_type": "markdown"
      }
    },
    {
      "cell_type": "code",
      "metadata": {
        "colab": {},
        "colab_type": "code",
        "id": "jNb40DwKVp-H",
        "cell_id": "00004-02d0e029-08b7-4b87-b4ae-d1e615b7c3ca",
        "deepnote_to_be_reexecuted": false,
        "source_hash": "8b26df8",
        "execution_millis": 93,
        "execution_start": 1615836198940,
        "deepnote_cell_type": "code"
      },
      "source": "answers = {} # создадим словарь для ответов\n\n# тут другие ваши предобработки колонок например:\n\n#the time given in the dataset is in string format.\n#So we need to change this in datetime format\n# ...\ndata['release_date'] = pd.to_datetime(data['release_date'])\n\n#Расширяем датафрейм data столбцом profit\ndata['profit'] = data.revenue - data.budget\n\n\n'''Функция, которая преобразует строку в столбцах, где есть несколько смысловых значений, в список этих значений'''\n\ndef unpack(string):\n    new_list = string.split('|')\n    return new_list",
      "execution_count": 4,
      "outputs": []
    },
    {
      "cell_type": "markdown",
      "source": "# 1. У какого фильма из списка самый большой бюджет?",
      "metadata": {
        "colab_type": "text",
        "id": "YxZaH-nPVp-L",
        "cell_id": "00005-40a1f740-4fb3-438b-84cf-054147b2a417",
        "deepnote_cell_type": "markdown"
      }
    },
    {
      "cell_type": "markdown",
      "source": "Использовать варианты ответов в коде решения запрещено.    \nВы думаете и в жизни у вас будут варианты ответов?)",
      "metadata": {
        "colab_type": "text",
        "id": "Nd-G5gX6Vp-M",
        "cell_id": "00006-a6a4ad19-19bd-4480-aaa7-cb097f40d47a",
        "deepnote_cell_type": "markdown"
      }
    },
    {
      "cell_type": "code",
      "metadata": {
        "colab": {},
        "colab_type": "code",
        "id": "uVnXAY5RVp-O",
        "cell_id": "00007-1afa9882-a968-473e-8436-cba5b121fe91",
        "deepnote_to_be_reexecuted": false,
        "source_hash": "e9fd87e6",
        "execution_millis": 0,
        "execution_start": 1615836199079,
        "deepnote_cell_type": "code"
      },
      "source": "# в словарь вставляем номер вопроса и ваш ответ на него\n# Пример: \nanswers['1'] = '2. Spider-Man 3 (tt0413300)'\n# запишите свой вариант ответа\nanswers['1'] = 'Pirates of the Caribbean: On Stranger Tides (tt1298650)'\n# если ответили верно, можете добавить комментарий со значком \"+\"",
      "execution_count": 5,
      "outputs": []
    },
    {
      "cell_type": "code",
      "metadata": {
        "colab": {},
        "colab_type": "code",
        "id": "dZwb3m28Vp-S",
        "cell_id": "00008-27454afc-a5d6-40d1-9bc2-cd81655ca76e",
        "deepnote_to_be_reexecuted": false,
        "source_hash": "63852bcf",
        "execution_millis": 60,
        "execution_start": 1615836199079,
        "deepnote_cell_type": "code"
      },
      "source": "# тут пишем ваш код для решения данного вопроса:\ndata.loc[data.budget == data.budget.max()]",
      "execution_count": 6,
      "outputs": [
        {
          "name": "stderr",
          "text": "/shared-libs/python3.7/py/lib/python3.7/site-packages/numpy/lib/histograms.py:822: RuntimeWarning: divide by zero encountered in double_scalars\n  norm = n_equal_bins / _unsigned_subtract(last_edge, first_edge)\n/shared-libs/python3.7/py/lib/python3.7/site-packages/numpy/lib/histograms.py:850: RuntimeWarning: invalid value encountered in multiply\n  f_indices = _unsigned_subtract(tmp_a, first_edge) * norm\n",
          "output_type": "stream"
        },
        {
          "output_type": "execute_result",
          "execution_count": 6,
          "data": {
            "application/vnd.deepnote.dataframe.v2+json": {
              "row_count": 1,
              "column_count": 15,
              "columns": [
                {
                  "name": "imdb_id",
                  "dtype": "object",
                  "stats": {
                    "unique_count": 1,
                    "nan_count": 0,
                    "categories": [
                      {
                        "name": "tt1298650",
                        "count": 1
                      }
                    ]
                  }
                },
                {
                  "name": "budget",
                  "dtype": "int64",
                  "stats": {
                    "unique_count": 1,
                    "nan_count": 0,
                    "min": 380000000,
                    "max": 380000000,
                    "histogram": [
                      {
                        "bin_start": 379999999.5,
                        "bin_end": 379999999.6,
                        "count": 0
                      },
                      {
                        "bin_start": 379999999.6,
                        "bin_end": 379999999.7,
                        "count": 0
                      },
                      {
                        "bin_start": 379999999.7,
                        "bin_end": 379999999.8,
                        "count": 0
                      },
                      {
                        "bin_start": 379999999.8,
                        "bin_end": 379999999.9,
                        "count": 0
                      },
                      {
                        "bin_start": 379999999.9,
                        "bin_end": 380000000,
                        "count": 0
                      },
                      {
                        "bin_start": 380000000,
                        "bin_end": 380000000.1,
                        "count": 1
                      },
                      {
                        "bin_start": 380000000.1,
                        "bin_end": 380000000.2,
                        "count": 0
                      },
                      {
                        "bin_start": 380000000.2,
                        "bin_end": 380000000.3,
                        "count": 0
                      },
                      {
                        "bin_start": 380000000.3,
                        "bin_end": 380000000.4,
                        "count": 0
                      },
                      {
                        "bin_start": 380000000.4,
                        "bin_end": 380000000.5,
                        "count": 0
                      }
                    ]
                  }
                },
                {
                  "name": "revenue",
                  "dtype": "int64",
                  "stats": {
                    "unique_count": 1,
                    "nan_count": 0,
                    "min": 1021683000,
                    "max": 1021683000,
                    "histogram": [
                      {
                        "bin_start": 1021682999.5,
                        "bin_end": 1021682999.6,
                        "count": 0
                      },
                      {
                        "bin_start": 1021682999.6,
                        "bin_end": 1021682999.7,
                        "count": 0
                      },
                      {
                        "bin_start": 1021682999.7,
                        "bin_end": 1021682999.8,
                        "count": 0
                      },
                      {
                        "bin_start": 1021682999.8,
                        "bin_end": 1021682999.9,
                        "count": 0
                      },
                      {
                        "bin_start": 1021682999.9,
                        "bin_end": 1021683000,
                        "count": 0
                      },
                      {
                        "bin_start": 1021683000,
                        "bin_end": 1021683000.1,
                        "count": 1
                      },
                      {
                        "bin_start": 1021683000.1,
                        "bin_end": 1021683000.2,
                        "count": 0
                      },
                      {
                        "bin_start": 1021683000.2,
                        "bin_end": 1021683000.3,
                        "count": 0
                      },
                      {
                        "bin_start": 1021683000.3,
                        "bin_end": 1021683000.4,
                        "count": 0
                      },
                      {
                        "bin_start": 1021683000.4,
                        "bin_end": 1021683000.5,
                        "count": 0
                      }
                    ]
                  }
                },
                {
                  "name": "original_title",
                  "dtype": "object",
                  "stats": {
                    "unique_count": 1,
                    "nan_count": 0,
                    "categories": [
                      {
                        "name": "Pirates of the Caribbean: On Stranger Tides",
                        "count": 1
                      }
                    ]
                  }
                },
                {
                  "name": "cast",
                  "dtype": "object",
                  "stats": {
                    "unique_count": 1,
                    "nan_count": 0,
                    "categories": [
                      {
                        "name": "Johnny Depp|PenÃ©lope Cruz|Geoffrey Rush|Ian McShane|Kevin McNally",
                        "count": 1
                      }
                    ]
                  }
                },
                {
                  "name": "director",
                  "dtype": "object",
                  "stats": {
                    "unique_count": 1,
                    "nan_count": 0,
                    "categories": [
                      {
                        "name": "Rob Marshall",
                        "count": 1
                      }
                    ]
                  }
                },
                {
                  "name": "tagline",
                  "dtype": "object",
                  "stats": {
                    "unique_count": 1,
                    "nan_count": 0,
                    "categories": [
                      {
                        "name": "Live Forever Or Die Trying.",
                        "count": 1
                      }
                    ]
                  }
                },
                {
                  "name": "overview",
                  "dtype": "object",
                  "stats": {
                    "unique_count": 1,
                    "nan_count": 0,
                    "categories": [
                      {
                        "name": "Captain Jack Sparrow crosses paths with a woman from his past, and he's not sure if it's love -- or if she's a ruthless con artist who's using him to find the fabled Fountain of Youth. When she forces him aboard the Queen Anne's Revenge, the ship of the formidable pirate Blackbeard, Jack finds himself on an unexpected adventure in which he doesn't know who to fear more: Blackbeard or the woman from his past.",
                        "count": 1
                      }
                    ]
                  }
                },
                {
                  "name": "runtime",
                  "dtype": "int64",
                  "stats": {
                    "unique_count": 1,
                    "nan_count": 0,
                    "min": 136,
                    "max": 136,
                    "histogram": [
                      {
                        "bin_start": 135.5,
                        "bin_end": 135.6,
                        "count": 0
                      },
                      {
                        "bin_start": 135.6,
                        "bin_end": 135.7,
                        "count": 0
                      },
                      {
                        "bin_start": 135.7,
                        "bin_end": 135.8,
                        "count": 0
                      },
                      {
                        "bin_start": 135.8,
                        "bin_end": 135.9,
                        "count": 0
                      },
                      {
                        "bin_start": 135.9,
                        "bin_end": 136,
                        "count": 0
                      },
                      {
                        "bin_start": 136,
                        "bin_end": 136.1,
                        "count": 1
                      },
                      {
                        "bin_start": 136.1,
                        "bin_end": 136.2,
                        "count": 0
                      },
                      {
                        "bin_start": 136.2,
                        "bin_end": 136.3,
                        "count": 0
                      },
                      {
                        "bin_start": 136.3,
                        "bin_end": 136.4,
                        "count": 0
                      },
                      {
                        "bin_start": 136.4,
                        "bin_end": 136.5,
                        "count": 0
                      }
                    ]
                  }
                },
                {
                  "name": "genres",
                  "dtype": "object",
                  "stats": {
                    "unique_count": 1,
                    "nan_count": 0,
                    "categories": [
                      {
                        "name": "Adventure|Action|Fantasy",
                        "count": 1
                      }
                    ]
                  }
                },
                {
                  "name": "production_companies",
                  "dtype": "object",
                  "stats": {
                    "unique_count": 1,
                    "nan_count": 0,
                    "categories": [
                      {
                        "name": "Walt Disney Pictures|Jerry Bruckheimer Films|Moving Picture Company (MPC)",
                        "count": 1
                      }
                    ]
                  }
                },
                {
                  "name": "release_date",
                  "dtype": "datetime64[ns]",
                  "stats": {
                    "unique_count": 1,
                    "nan_count": 0,
                    "min": "2011-05-11T00:00:00.000000",
                    "max": "2011-05-11T00:00:00.000000",
                    "histogram": null
                  }
                },
                {
                  "name": "vote_average",
                  "dtype": "float64",
                  "stats": {
                    "unique_count": 1,
                    "nan_count": 0,
                    "min": 6.3,
                    "max": 6.3,
                    "histogram": [
                      {
                        "bin_start": 5.8,
                        "bin_end": 5.8999999999999995,
                        "count": 0
                      },
                      {
                        "bin_start": 5.8999999999999995,
                        "bin_end": 6,
                        "count": 0
                      },
                      {
                        "bin_start": 6,
                        "bin_end": 6.1,
                        "count": 0
                      },
                      {
                        "bin_start": 6.1,
                        "bin_end": 6.2,
                        "count": 0
                      },
                      {
                        "bin_start": 6.2,
                        "bin_end": 6.3,
                        "count": 0
                      },
                      {
                        "bin_start": 6.3,
                        "bin_end": 6.4,
                        "count": 1
                      },
                      {
                        "bin_start": 6.4,
                        "bin_end": 6.5,
                        "count": 0
                      },
                      {
                        "bin_start": 6.5,
                        "bin_end": 6.6,
                        "count": 0
                      },
                      {
                        "bin_start": 6.6,
                        "bin_end": 6.7,
                        "count": 0
                      },
                      {
                        "bin_start": 6.7,
                        "bin_end": 6.8,
                        "count": 0
                      }
                    ]
                  }
                },
                {
                  "name": "release_year",
                  "dtype": "int64",
                  "stats": {
                    "unique_count": 1,
                    "nan_count": 0,
                    "min": 2011,
                    "max": 2011,
                    "histogram": [
                      {
                        "bin_start": 2010.5,
                        "bin_end": 2010.6,
                        "count": 0
                      },
                      {
                        "bin_start": 2010.6,
                        "bin_end": 2010.7,
                        "count": 0
                      },
                      {
                        "bin_start": 2010.7,
                        "bin_end": 2010.8,
                        "count": 0
                      },
                      {
                        "bin_start": 2010.8,
                        "bin_end": 2010.9,
                        "count": 0
                      },
                      {
                        "bin_start": 2010.9,
                        "bin_end": 2011,
                        "count": 0
                      },
                      {
                        "bin_start": 2011,
                        "bin_end": 2011.1,
                        "count": 1
                      },
                      {
                        "bin_start": 2011.1,
                        "bin_end": 2011.2,
                        "count": 0
                      },
                      {
                        "bin_start": 2011.2,
                        "bin_end": 2011.3,
                        "count": 0
                      },
                      {
                        "bin_start": 2011.3,
                        "bin_end": 2011.4,
                        "count": 0
                      },
                      {
                        "bin_start": 2011.4,
                        "bin_end": 2011.5,
                        "count": 0
                      }
                    ]
                  }
                },
                {
                  "name": "profit",
                  "dtype": "int64",
                  "stats": {
                    "unique_count": 1,
                    "nan_count": 0,
                    "min": 641683000,
                    "max": 641683000,
                    "histogram": [
                      {
                        "bin_start": 641682999.5,
                        "bin_end": 641682999.6,
                        "count": 0
                      },
                      {
                        "bin_start": 641682999.6,
                        "bin_end": 641682999.7,
                        "count": 0
                      },
                      {
                        "bin_start": 641682999.7,
                        "bin_end": 641682999.8,
                        "count": 0
                      },
                      {
                        "bin_start": 641682999.8,
                        "bin_end": 641682999.9,
                        "count": 0
                      },
                      {
                        "bin_start": 641682999.9,
                        "bin_end": 641683000,
                        "count": 0
                      },
                      {
                        "bin_start": 641683000,
                        "bin_end": 641683000.1,
                        "count": 1
                      },
                      {
                        "bin_start": 641683000.1,
                        "bin_end": 641683000.2,
                        "count": 0
                      },
                      {
                        "bin_start": 641683000.2,
                        "bin_end": 641683000.3,
                        "count": 0
                      },
                      {
                        "bin_start": 641683000.3,
                        "bin_end": 641683000.4,
                        "count": 0
                      },
                      {
                        "bin_start": 641683000.4,
                        "bin_end": 641683000.5,
                        "count": 0
                      }
                    ]
                  }
                },
                {
                  "name": "_deepnote_index_column",
                  "dtype": "int64"
                }
              ],
              "rows_top": [
                {
                  "imdb_id": "tt1298650",
                  "budget": 380000000,
                  "revenue": 1021683000,
                  "original_title": "Pirates of the Caribbean: On Stranger Tides",
                  "cast": "Johnny Depp|PenÃ©lope Cruz|Geoffrey Rush|Ian McShane|Kevin McNally",
                  "director": "Rob Marshall",
                  "tagline": "Live Forever Or Die Trying.",
                  "overview": "Captain Jack Sparrow crosses paths with a woman from his past, and he's not sure if it's love -- or if she's a ruthless con artist who's using him to find the fabled Fountain of Youth. When she forces him aboard the Queen Anne's Revenge, the ship of the formidable pirate Blackbeard, Jack finds himself on an unexpected adventure in which he doesn't know who to fear more: Blackbeard or the woman from his past.",
                  "runtime": 136,
                  "genres": "Adventure|Action|Fantasy",
                  "production_companies": "Walt Disney Pictures|Jerry Bruckheimer Films|Moving Picture Company (MPC)",
                  "release_date": "2011-05-11T00:00:00.000000",
                  "vote_average": 6.3,
                  "release_year": 2011,
                  "profit": 641683000,
                  "_deepnote_index_column": 723
                }
              ],
              "rows_bottom": null
            },
            "text/plain": "       imdb_id     budget     revenue  \\\n723  tt1298650  380000000  1021683000   \n\n                                  original_title  \\\n723  Pirates of the Caribbean: On Stranger Tides   \n\n                                                  cast      director  \\\n723  Johnny Depp|PenÃ©lope Cruz|Geoffrey Rush|Ian M...  Rob Marshall   \n\n                         tagline  \\\n723  Live Forever Or Die Trying.   \n\n                                              overview  runtime  \\\n723  Captain Jack Sparrow crosses paths with a woma...      136   \n\n                       genres  \\\n723  Adventure|Action|Fantasy   \n\n                                  production_companies release_date  \\\n723  Walt Disney Pictures|Jerry Bruckheimer Films|M...   2011-05-11   \n\n     vote_average  release_year     profit  \n723           6.3          2011  641683000  ",
            "text/html": "<div>\n<style scoped>\n    .dataframe tbody tr th:only-of-type {\n        vertical-align: middle;\n    }\n\n    .dataframe tbody tr th {\n        vertical-align: top;\n    }\n\n    .dataframe thead th {\n        text-align: right;\n    }\n</style>\n<table border=\"1\" class=\"dataframe\">\n  <thead>\n    <tr style=\"text-align: right;\">\n      <th></th>\n      <th>imdb_id</th>\n      <th>budget</th>\n      <th>revenue</th>\n      <th>original_title</th>\n      <th>cast</th>\n      <th>director</th>\n      <th>tagline</th>\n      <th>overview</th>\n      <th>runtime</th>\n      <th>genres</th>\n      <th>production_companies</th>\n      <th>release_date</th>\n      <th>vote_average</th>\n      <th>release_year</th>\n      <th>profit</th>\n    </tr>\n  </thead>\n  <tbody>\n    <tr>\n      <th>723</th>\n      <td>tt1298650</td>\n      <td>380000000</td>\n      <td>1021683000</td>\n      <td>Pirates of the Caribbean: On Stranger Tides</td>\n      <td>Johnny Depp|PenÃ©lope Cruz|Geoffrey Rush|Ian M...</td>\n      <td>Rob Marshall</td>\n      <td>Live Forever Or Die Trying.</td>\n      <td>Captain Jack Sparrow crosses paths with a woma...</td>\n      <td>136</td>\n      <td>Adventure|Action|Fantasy</td>\n      <td>Walt Disney Pictures|Jerry Bruckheimer Films|M...</td>\n      <td>2011-05-11</td>\n      <td>6.3</td>\n      <td>2011</td>\n      <td>641683000</td>\n    </tr>\n  </tbody>\n</table>\n</div>"
          },
          "metadata": {}
        }
      ]
    },
    {
      "cell_type": "markdown",
      "source": "ВАРИАНТ 2",
      "metadata": {
        "colab_type": "text",
        "id": "K7L3nbRXVp-X",
        "cell_id": "00009-ffa231d1-a7d7-4df3-8351-65a441591933",
        "deepnote_cell_type": "markdown"
      }
    },
    {
      "cell_type": "code",
      "metadata": {
        "colab": {},
        "colab_type": "code",
        "id": "OGaoQI7rVp-X",
        "cell_id": "00010-b687603f-bdb0-4727-a2a9-e9e34704ad2b",
        "deepnote_to_be_reexecuted": false,
        "source_hash": "40c74539",
        "execution_millis": 0,
        "execution_start": 1615836199122,
        "deepnote_cell_type": "code"
      },
      "source": "# можно добавлять разные варианты решения",
      "execution_count": 7,
      "outputs": []
    },
    {
      "cell_type": "markdown",
      "source": "# 2. Какой из фильмов самый длительный (в минутах)?",
      "metadata": {
        "colab_type": "text",
        "id": "FNRbbI3vVp-c",
        "cell_id": "00011-a846284a-50f6-4900-9fa2-01d3dcd65c16",
        "deepnote_cell_type": "markdown"
      }
    },
    {
      "cell_type": "code",
      "metadata": {
        "colab": {},
        "colab_type": "code",
        "id": "vHAoEXNTVp-d",
        "cell_id": "00012-58b08442-92fc-4568-90ee-7a4c7eb3d46c",
        "deepnote_to_be_reexecuted": false,
        "source_hash": "d949df0e",
        "execution_millis": 0,
        "execution_start": 1615836199123,
        "deepnote_cell_type": "code"
      },
      "source": "# думаю логику работы с этим словарем вы уже поняли, \n# по этому не буду больше его дублировать\nanswers['2'] = 'Gods and Generals (tt0279111)'",
      "execution_count": 8,
      "outputs": []
    },
    {
      "cell_type": "code",
      "metadata": {
        "colab": {},
        "colab_type": "code",
        "id": "ot-VX2XrVp-g",
        "cell_id": "00013-e5e043ca-4365-49c8-bf57-ea0bf8060412",
        "deepnote_to_be_reexecuted": false,
        "source_hash": "5f759f40",
        "execution_millis": 20,
        "execution_start": 1615836199123,
        "deepnote_cell_type": "code"
      },
      "source": "data.loc[data.runtime == data.runtime.max()]",
      "execution_count": 9,
      "outputs": [
        {
          "name": "stderr",
          "text": "/shared-libs/python3.7/py/lib/python3.7/site-packages/numpy/lib/histograms.py:822: RuntimeWarning: divide by zero encountered in double_scalars\n  norm = n_equal_bins / _unsigned_subtract(last_edge, first_edge)\n/shared-libs/python3.7/py/lib/python3.7/site-packages/numpy/lib/histograms.py:850: RuntimeWarning: invalid value encountered in multiply\n  f_indices = _unsigned_subtract(tmp_a, first_edge) * norm\n",
          "output_type": "stream"
        },
        {
          "output_type": "execute_result",
          "execution_count": 9,
          "data": {
            "application/vnd.deepnote.dataframe.v2+json": {
              "row_count": 1,
              "column_count": 15,
              "columns": [
                {
                  "name": "imdb_id",
                  "dtype": "object",
                  "stats": {
                    "unique_count": 1,
                    "nan_count": 0,
                    "categories": [
                      {
                        "name": "tt0279111",
                        "count": 1
                      }
                    ]
                  }
                },
                {
                  "name": "budget",
                  "dtype": "int64",
                  "stats": {
                    "unique_count": 1,
                    "nan_count": 0,
                    "min": 56000000,
                    "max": 56000000,
                    "histogram": [
                      {
                        "bin_start": 55999999.5,
                        "bin_end": 55999999.6,
                        "count": 0
                      },
                      {
                        "bin_start": 55999999.6,
                        "bin_end": 55999999.7,
                        "count": 0
                      },
                      {
                        "bin_start": 55999999.7,
                        "bin_end": 55999999.8,
                        "count": 0
                      },
                      {
                        "bin_start": 55999999.8,
                        "bin_end": 55999999.9,
                        "count": 0
                      },
                      {
                        "bin_start": 55999999.9,
                        "bin_end": 56000000,
                        "count": 0
                      },
                      {
                        "bin_start": 56000000,
                        "bin_end": 56000000.1,
                        "count": 1
                      },
                      {
                        "bin_start": 56000000.1,
                        "bin_end": 56000000.2,
                        "count": 0
                      },
                      {
                        "bin_start": 56000000.2,
                        "bin_end": 56000000.3,
                        "count": 0
                      },
                      {
                        "bin_start": 56000000.3,
                        "bin_end": 56000000.4,
                        "count": 0
                      },
                      {
                        "bin_start": 56000000.4,
                        "bin_end": 56000000.5,
                        "count": 0
                      }
                    ]
                  }
                },
                {
                  "name": "revenue",
                  "dtype": "int64",
                  "stats": {
                    "unique_count": 1,
                    "nan_count": 0,
                    "min": 12923936,
                    "max": 12923936,
                    "histogram": [
                      {
                        "bin_start": 12923935.5,
                        "bin_end": 12923935.6,
                        "count": 0
                      },
                      {
                        "bin_start": 12923935.6,
                        "bin_end": 12923935.7,
                        "count": 0
                      },
                      {
                        "bin_start": 12923935.7,
                        "bin_end": 12923935.8,
                        "count": 0
                      },
                      {
                        "bin_start": 12923935.8,
                        "bin_end": 12923935.9,
                        "count": 0
                      },
                      {
                        "bin_start": 12923935.9,
                        "bin_end": 12923936,
                        "count": 0
                      },
                      {
                        "bin_start": 12923936,
                        "bin_end": 12923936.1,
                        "count": 1
                      },
                      {
                        "bin_start": 12923936.1,
                        "bin_end": 12923936.2,
                        "count": 0
                      },
                      {
                        "bin_start": 12923936.2,
                        "bin_end": 12923936.3,
                        "count": 0
                      },
                      {
                        "bin_start": 12923936.3,
                        "bin_end": 12923936.4,
                        "count": 0
                      },
                      {
                        "bin_start": 12923936.4,
                        "bin_end": 12923936.5,
                        "count": 0
                      }
                    ]
                  }
                },
                {
                  "name": "original_title",
                  "dtype": "object",
                  "stats": {
                    "unique_count": 1,
                    "nan_count": 0,
                    "categories": [
                      {
                        "name": "Gods and Generals",
                        "count": 1
                      }
                    ]
                  }
                },
                {
                  "name": "cast",
                  "dtype": "object",
                  "stats": {
                    "unique_count": 1,
                    "nan_count": 0,
                    "categories": [
                      {
                        "name": "Stephen Lang|Jeff Daniels|Robert Duvall|Kevin Conway|C. Thomas Howell",
                        "count": 1
                      }
                    ]
                  }
                },
                {
                  "name": "director",
                  "dtype": "object",
                  "stats": {
                    "unique_count": 1,
                    "nan_count": 0,
                    "categories": [
                      {
                        "name": "Ronald F. Maxwell",
                        "count": 1
                      }
                    ]
                  }
                },
                {
                  "name": "tagline",
                  "dtype": "object",
                  "stats": {
                    "unique_count": 1,
                    "nan_count": 0,
                    "categories": [
                      {
                        "name": "The nations heart was touched by...",
                        "count": 1
                      }
                    ]
                  }
                },
                {
                  "name": "overview",
                  "dtype": "object",
                  "stats": {
                    "unique_count": 1,
                    "nan_count": 0,
                    "categories": [
                      {
                        "name": "The film centers mostly around the personal and professional life of Thomas \"Stonewall\" Jackson, a brilliant if eccentric Confederate general, from the outbreak of the American Civil War until its halfway point when Jackson is killed accidentally by his own soldiers in May 1863 during his greatest victory.",
                        "count": 1
                      }
                    ]
                  }
                },
                {
                  "name": "runtime",
                  "dtype": "int64",
                  "stats": {
                    "unique_count": 1,
                    "nan_count": 0,
                    "min": 214,
                    "max": 214,
                    "histogram": [
                      {
                        "bin_start": 213.5,
                        "bin_end": 213.6,
                        "count": 0
                      },
                      {
                        "bin_start": 213.6,
                        "bin_end": 213.7,
                        "count": 0
                      },
                      {
                        "bin_start": 213.7,
                        "bin_end": 213.8,
                        "count": 0
                      },
                      {
                        "bin_start": 213.8,
                        "bin_end": 213.9,
                        "count": 0
                      },
                      {
                        "bin_start": 213.9,
                        "bin_end": 214,
                        "count": 0
                      },
                      {
                        "bin_start": 214,
                        "bin_end": 214.1,
                        "count": 1
                      },
                      {
                        "bin_start": 214.1,
                        "bin_end": 214.2,
                        "count": 0
                      },
                      {
                        "bin_start": 214.2,
                        "bin_end": 214.3,
                        "count": 0
                      },
                      {
                        "bin_start": 214.3,
                        "bin_end": 214.4,
                        "count": 0
                      },
                      {
                        "bin_start": 214.4,
                        "bin_end": 214.5,
                        "count": 0
                      }
                    ]
                  }
                },
                {
                  "name": "genres",
                  "dtype": "object",
                  "stats": {
                    "unique_count": 1,
                    "nan_count": 0,
                    "categories": [
                      {
                        "name": "Drama|History|War",
                        "count": 1
                      }
                    ]
                  }
                },
                {
                  "name": "production_companies",
                  "dtype": "object",
                  "stats": {
                    "unique_count": 1,
                    "nan_count": 0,
                    "categories": [
                      {
                        "name": "Turner Pictures|Antietam Filmworks",
                        "count": 1
                      }
                    ]
                  }
                },
                {
                  "name": "release_date",
                  "dtype": "datetime64[ns]",
                  "stats": {
                    "unique_count": 1,
                    "nan_count": 0,
                    "min": "2003-02-21T00:00:00.000000",
                    "max": "2003-02-21T00:00:00.000000",
                    "histogram": null
                  }
                },
                {
                  "name": "vote_average",
                  "dtype": "float64",
                  "stats": {
                    "unique_count": 1,
                    "nan_count": 0,
                    "min": 5.8,
                    "max": 5.8,
                    "histogram": [
                      {
                        "bin_start": 5.3,
                        "bin_end": 5.3999999999999995,
                        "count": 0
                      },
                      {
                        "bin_start": 5.3999999999999995,
                        "bin_end": 5.5,
                        "count": 0
                      },
                      {
                        "bin_start": 5.5,
                        "bin_end": 5.6,
                        "count": 0
                      },
                      {
                        "bin_start": 5.6,
                        "bin_end": 5.7,
                        "count": 0
                      },
                      {
                        "bin_start": 5.7,
                        "bin_end": 5.8,
                        "count": 0
                      },
                      {
                        "bin_start": 5.8,
                        "bin_end": 5.9,
                        "count": 1
                      },
                      {
                        "bin_start": 5.9,
                        "bin_end": 6,
                        "count": 0
                      },
                      {
                        "bin_start": 6,
                        "bin_end": 6.1,
                        "count": 0
                      },
                      {
                        "bin_start": 6.1,
                        "bin_end": 6.2,
                        "count": 0
                      },
                      {
                        "bin_start": 6.2,
                        "bin_end": 6.3,
                        "count": 0
                      }
                    ]
                  }
                },
                {
                  "name": "release_year",
                  "dtype": "int64",
                  "stats": {
                    "unique_count": 1,
                    "nan_count": 0,
                    "min": 2003,
                    "max": 2003,
                    "histogram": [
                      {
                        "bin_start": 2002.5,
                        "bin_end": 2002.6,
                        "count": 0
                      },
                      {
                        "bin_start": 2002.6,
                        "bin_end": 2002.7,
                        "count": 0
                      },
                      {
                        "bin_start": 2002.7,
                        "bin_end": 2002.8,
                        "count": 0
                      },
                      {
                        "bin_start": 2002.8,
                        "bin_end": 2002.9,
                        "count": 0
                      },
                      {
                        "bin_start": 2002.9,
                        "bin_end": 2003,
                        "count": 0
                      },
                      {
                        "bin_start": 2003,
                        "bin_end": 2003.1,
                        "count": 1
                      },
                      {
                        "bin_start": 2003.1,
                        "bin_end": 2003.2,
                        "count": 0
                      },
                      {
                        "bin_start": 2003.2,
                        "bin_end": 2003.3,
                        "count": 0
                      },
                      {
                        "bin_start": 2003.3,
                        "bin_end": 2003.4,
                        "count": 0
                      },
                      {
                        "bin_start": 2003.4,
                        "bin_end": 2003.5,
                        "count": 0
                      }
                    ]
                  }
                },
                {
                  "name": "profit",
                  "dtype": "int64",
                  "stats": {
                    "unique_count": 1,
                    "nan_count": 0,
                    "min": -43076064,
                    "max": -43076064,
                    "histogram": [
                      {
                        "bin_start": -43076064.5,
                        "bin_end": -43076064.4,
                        "count": 0
                      },
                      {
                        "bin_start": -43076064.4,
                        "bin_end": -43076064.3,
                        "count": 0
                      },
                      {
                        "bin_start": -43076064.3,
                        "bin_end": -43076064.2,
                        "count": 0
                      },
                      {
                        "bin_start": -43076064.2,
                        "bin_end": -43076064.1,
                        "count": 0
                      },
                      {
                        "bin_start": -43076064.1,
                        "bin_end": -43076064,
                        "count": 0
                      },
                      {
                        "bin_start": -43076064,
                        "bin_end": -43076063.9,
                        "count": 1
                      },
                      {
                        "bin_start": -43076063.9,
                        "bin_end": -43076063.8,
                        "count": 0
                      },
                      {
                        "bin_start": -43076063.8,
                        "bin_end": -43076063.7,
                        "count": 0
                      },
                      {
                        "bin_start": -43076063.7,
                        "bin_end": -43076063.6,
                        "count": 0
                      },
                      {
                        "bin_start": -43076063.6,
                        "bin_end": -43076063.5,
                        "count": 0
                      }
                    ]
                  }
                },
                {
                  "name": "_deepnote_index_column",
                  "dtype": "int64"
                }
              ],
              "rows_top": [
                {
                  "imdb_id": "tt0279111",
                  "budget": 56000000,
                  "revenue": 12923936,
                  "original_title": "Gods and Generals",
                  "cast": "Stephen Lang|Jeff Daniels|Robert Duvall|Kevin Conway|C. Thomas Howell",
                  "director": "Ronald F. Maxwell",
                  "tagline": "The nations heart was touched by...",
                  "overview": "The film centers mostly around the personal and professional life of Thomas \"Stonewall\" Jackson, a brilliant if eccentric Confederate general, from the outbreak of the American Civil War until its halfway point when Jackson is killed accidentally by his own soldiers in May 1863 during his greatest victory.",
                  "runtime": 214,
                  "genres": "Drama|History|War",
                  "production_companies": "Turner Pictures|Antietam Filmworks",
                  "release_date": "2003-02-21T00:00:00.000000",
                  "vote_average": 5.8,
                  "release_year": 2003,
                  "profit": -43076064,
                  "_deepnote_index_column": 1157
                }
              ],
              "rows_bottom": null
            },
            "text/plain": "        imdb_id    budget   revenue     original_title  \\\n1157  tt0279111  56000000  12923936  Gods and Generals   \n\n                                                   cast           director  \\\n1157  Stephen Lang|Jeff Daniels|Robert Duvall|Kevin ...  Ronald F. Maxwell   \n\n                                  tagline  \\\n1157  The nations heart was touched by...   \n\n                                               overview  runtime  \\\n1157  The film centers mostly around the personal an...      214   \n\n                 genres                production_companies release_date  \\\n1157  Drama|History|War  Turner Pictures|Antietam Filmworks   2003-02-21   \n\n      vote_average  release_year    profit  \n1157           5.8          2003 -43076064  ",
            "text/html": "<div>\n<style scoped>\n    .dataframe tbody tr th:only-of-type {\n        vertical-align: middle;\n    }\n\n    .dataframe tbody tr th {\n        vertical-align: top;\n    }\n\n    .dataframe thead th {\n        text-align: right;\n    }\n</style>\n<table border=\"1\" class=\"dataframe\">\n  <thead>\n    <tr style=\"text-align: right;\">\n      <th></th>\n      <th>imdb_id</th>\n      <th>budget</th>\n      <th>revenue</th>\n      <th>original_title</th>\n      <th>cast</th>\n      <th>director</th>\n      <th>tagline</th>\n      <th>overview</th>\n      <th>runtime</th>\n      <th>genres</th>\n      <th>production_companies</th>\n      <th>release_date</th>\n      <th>vote_average</th>\n      <th>release_year</th>\n      <th>profit</th>\n    </tr>\n  </thead>\n  <tbody>\n    <tr>\n      <th>1157</th>\n      <td>tt0279111</td>\n      <td>56000000</td>\n      <td>12923936</td>\n      <td>Gods and Generals</td>\n      <td>Stephen Lang|Jeff Daniels|Robert Duvall|Kevin ...</td>\n      <td>Ronald F. Maxwell</td>\n      <td>The nations heart was touched by...</td>\n      <td>The film centers mostly around the personal an...</td>\n      <td>214</td>\n      <td>Drama|History|War</td>\n      <td>Turner Pictures|Antietam Filmworks</td>\n      <td>2003-02-21</td>\n      <td>5.8</td>\n      <td>2003</td>\n      <td>-43076064</td>\n    </tr>\n  </tbody>\n</table>\n</div>"
          },
          "metadata": {}
        }
      ]
    },
    {
      "cell_type": "markdown",
      "source": "# 3. Какой из фильмов самый короткий (в минутах)?\n\n\n\n",
      "metadata": {
        "colab_type": "text",
        "id": "bapLlpW8Vp-k",
        "cell_id": "00014-34d8c7ea-7054-4241-bf08-8da4d1f918b6",
        "deepnote_cell_type": "markdown"
      }
    },
    {
      "cell_type": "code",
      "metadata": {
        "colab": {},
        "colab_type": "code",
        "id": "YBxaSHuAVp-l",
        "cell_id": "00015-d044d3e2-f814-4af6-8a58-85f0e2723caa",
        "deepnote_to_be_reexecuted": false,
        "source_hash": "1563dd4",
        "execution_millis": 0,
        "execution_start": 1615836199131,
        "deepnote_cell_type": "code"
      },
      "source": "answers['3'] = 'Winnie the Pooh (tt1449283)'",
      "execution_count": 10,
      "outputs": []
    },
    {
      "cell_type": "code",
      "metadata": {
        "tags": [],
        "cell_id": "00016-031230f6-9903-494b-8e1e-b23a06ad5ce7",
        "deepnote_to_be_reexecuted": false,
        "source_hash": "30bee249",
        "execution_millis": 33,
        "execution_start": 1615836199171,
        "deepnote_cell_type": "code"
      },
      "source": "data.loc[data.runtime == data.runtime.min()]",
      "execution_count": 11,
      "outputs": [
        {
          "name": "stderr",
          "text": "/shared-libs/python3.7/py/lib/python3.7/site-packages/numpy/lib/histograms.py:822: RuntimeWarning: divide by zero encountered in double_scalars\n  norm = n_equal_bins / _unsigned_subtract(last_edge, first_edge)\n/shared-libs/python3.7/py/lib/python3.7/site-packages/numpy/lib/histograms.py:850: RuntimeWarning: invalid value encountered in multiply\n  f_indices = _unsigned_subtract(tmp_a, first_edge) * norm\n",
          "output_type": "stream"
        },
        {
          "output_type": "execute_result",
          "execution_count": 11,
          "data": {
            "application/vnd.deepnote.dataframe.v2+json": {
              "row_count": 1,
              "column_count": 15,
              "columns": [
                {
                  "name": "imdb_id",
                  "dtype": "object",
                  "stats": {
                    "unique_count": 1,
                    "nan_count": 0,
                    "categories": [
                      {
                        "name": "tt1449283",
                        "count": 1
                      }
                    ]
                  }
                },
                {
                  "name": "budget",
                  "dtype": "int64",
                  "stats": {
                    "unique_count": 1,
                    "nan_count": 0,
                    "min": 30000000,
                    "max": 30000000,
                    "histogram": [
                      {
                        "bin_start": 29999999.5,
                        "bin_end": 29999999.6,
                        "count": 0
                      },
                      {
                        "bin_start": 29999999.6,
                        "bin_end": 29999999.7,
                        "count": 0
                      },
                      {
                        "bin_start": 29999999.7,
                        "bin_end": 29999999.8,
                        "count": 0
                      },
                      {
                        "bin_start": 29999999.8,
                        "bin_end": 29999999.9,
                        "count": 0
                      },
                      {
                        "bin_start": 29999999.9,
                        "bin_end": 30000000,
                        "count": 0
                      },
                      {
                        "bin_start": 30000000,
                        "bin_end": 30000000.1,
                        "count": 1
                      },
                      {
                        "bin_start": 30000000.1,
                        "bin_end": 30000000.2,
                        "count": 0
                      },
                      {
                        "bin_start": 30000000.2,
                        "bin_end": 30000000.3,
                        "count": 0
                      },
                      {
                        "bin_start": 30000000.3,
                        "bin_end": 30000000.4,
                        "count": 0
                      },
                      {
                        "bin_start": 30000000.4,
                        "bin_end": 30000000.5,
                        "count": 0
                      }
                    ]
                  }
                },
                {
                  "name": "revenue",
                  "dtype": "int64",
                  "stats": {
                    "unique_count": 1,
                    "nan_count": 0,
                    "min": 14460000,
                    "max": 14460000,
                    "histogram": [
                      {
                        "bin_start": 14459999.5,
                        "bin_end": 14459999.6,
                        "count": 0
                      },
                      {
                        "bin_start": 14459999.6,
                        "bin_end": 14459999.7,
                        "count": 0
                      },
                      {
                        "bin_start": 14459999.7,
                        "bin_end": 14459999.8,
                        "count": 0
                      },
                      {
                        "bin_start": 14459999.8,
                        "bin_end": 14459999.9,
                        "count": 0
                      },
                      {
                        "bin_start": 14459999.9,
                        "bin_end": 14460000,
                        "count": 0
                      },
                      {
                        "bin_start": 14460000,
                        "bin_end": 14460000.1,
                        "count": 1
                      },
                      {
                        "bin_start": 14460000.1,
                        "bin_end": 14460000.2,
                        "count": 0
                      },
                      {
                        "bin_start": 14460000.2,
                        "bin_end": 14460000.3,
                        "count": 0
                      },
                      {
                        "bin_start": 14460000.3,
                        "bin_end": 14460000.4,
                        "count": 0
                      },
                      {
                        "bin_start": 14460000.4,
                        "bin_end": 14460000.5,
                        "count": 0
                      }
                    ]
                  }
                },
                {
                  "name": "original_title",
                  "dtype": "object",
                  "stats": {
                    "unique_count": 1,
                    "nan_count": 0,
                    "categories": [
                      {
                        "name": "Winnie the Pooh",
                        "count": 1
                      }
                    ]
                  }
                },
                {
                  "name": "cast",
                  "dtype": "object",
                  "stats": {
                    "unique_count": 1,
                    "nan_count": 0,
                    "categories": [
                      {
                        "name": "Jim Cummings|Travis Oates|Jim Cummings|Bud Luckey|Craig Ferguson",
                        "count": 1
                      }
                    ]
                  }
                },
                {
                  "name": "director",
                  "dtype": "object",
                  "stats": {
                    "unique_count": 1,
                    "nan_count": 0,
                    "categories": [
                      {
                        "name": "Stephen Anderson|Don Hall",
                        "count": 1
                      }
                    ]
                  }
                },
                {
                  "name": "tagline",
                  "dtype": "object",
                  "stats": {
                    "unique_count": 1,
                    "nan_count": 0,
                    "categories": [
                      {
                        "name": "Oh Pooh.",
                        "count": 1
                      }
                    ]
                  }
                },
                {
                  "name": "overview",
                  "dtype": "object",
                  "stats": {
                    "unique_count": 1,
                    "nan_count": 0,
                    "categories": [
                      {
                        "name": "During an ordinary day in Hundred Acre Wood, Winnie the Pooh sets out to find some honey. Misinterpreting a note from Christopher Robin, Pooh convinces Tigger, Rabbit, Piglet, Owl, Kanga, Roo, and Eeyore that their young friend has been captured by a creature named \"Backson\" and they set out to save him.",
                        "count": 1
                      }
                    ]
                  }
                },
                {
                  "name": "runtime",
                  "dtype": "int64",
                  "stats": {
                    "unique_count": 1,
                    "nan_count": 0,
                    "min": 63,
                    "max": 63,
                    "histogram": [
                      {
                        "bin_start": 62.5,
                        "bin_end": 62.6,
                        "count": 0
                      },
                      {
                        "bin_start": 62.6,
                        "bin_end": 62.7,
                        "count": 0
                      },
                      {
                        "bin_start": 62.7,
                        "bin_end": 62.8,
                        "count": 0
                      },
                      {
                        "bin_start": 62.8,
                        "bin_end": 62.9,
                        "count": 0
                      },
                      {
                        "bin_start": 62.9,
                        "bin_end": 63,
                        "count": 0
                      },
                      {
                        "bin_start": 63,
                        "bin_end": 63.1,
                        "count": 1
                      },
                      {
                        "bin_start": 63.1,
                        "bin_end": 63.2,
                        "count": 0
                      },
                      {
                        "bin_start": 63.2,
                        "bin_end": 63.3,
                        "count": 0
                      },
                      {
                        "bin_start": 63.3,
                        "bin_end": 63.4,
                        "count": 0
                      },
                      {
                        "bin_start": 63.4,
                        "bin_end": 63.5,
                        "count": 0
                      }
                    ]
                  }
                },
                {
                  "name": "genres",
                  "dtype": "object",
                  "stats": {
                    "unique_count": 1,
                    "nan_count": 0,
                    "categories": [
                      {
                        "name": "Animation|Family",
                        "count": 1
                      }
                    ]
                  }
                },
                {
                  "name": "production_companies",
                  "dtype": "object",
                  "stats": {
                    "unique_count": 1,
                    "nan_count": 0,
                    "categories": [
                      {
                        "name": "Walt Disney Pictures|Walt Disney Animation Studios",
                        "count": 1
                      }
                    ]
                  }
                },
                {
                  "name": "release_date",
                  "dtype": "datetime64[ns]",
                  "stats": {
                    "unique_count": 1,
                    "nan_count": 0,
                    "min": "2011-04-13T00:00:00.000000",
                    "max": "2011-04-13T00:00:00.000000",
                    "histogram": null
                  }
                },
                {
                  "name": "vote_average",
                  "dtype": "float64",
                  "stats": {
                    "unique_count": 1,
                    "nan_count": 0,
                    "min": 6.8,
                    "max": 6.8,
                    "histogram": [
                      {
                        "bin_start": 6.3,
                        "bin_end": 6.3999999999999995,
                        "count": 0
                      },
                      {
                        "bin_start": 6.3999999999999995,
                        "bin_end": 6.5,
                        "count": 0
                      },
                      {
                        "bin_start": 6.5,
                        "bin_end": 6.6,
                        "count": 0
                      },
                      {
                        "bin_start": 6.6,
                        "bin_end": 6.7,
                        "count": 0
                      },
                      {
                        "bin_start": 6.7,
                        "bin_end": 6.8,
                        "count": 0
                      },
                      {
                        "bin_start": 6.8,
                        "bin_end": 6.9,
                        "count": 1
                      },
                      {
                        "bin_start": 6.9,
                        "bin_end": 7,
                        "count": 0
                      },
                      {
                        "bin_start": 7,
                        "bin_end": 7.1,
                        "count": 0
                      },
                      {
                        "bin_start": 7.1,
                        "bin_end": 7.2,
                        "count": 0
                      },
                      {
                        "bin_start": 7.2,
                        "bin_end": 7.3,
                        "count": 0
                      }
                    ]
                  }
                },
                {
                  "name": "release_year",
                  "dtype": "int64",
                  "stats": {
                    "unique_count": 1,
                    "nan_count": 0,
                    "min": 2011,
                    "max": 2011,
                    "histogram": [
                      {
                        "bin_start": 2010.5,
                        "bin_end": 2010.6,
                        "count": 0
                      },
                      {
                        "bin_start": 2010.6,
                        "bin_end": 2010.7,
                        "count": 0
                      },
                      {
                        "bin_start": 2010.7,
                        "bin_end": 2010.8,
                        "count": 0
                      },
                      {
                        "bin_start": 2010.8,
                        "bin_end": 2010.9,
                        "count": 0
                      },
                      {
                        "bin_start": 2010.9,
                        "bin_end": 2011,
                        "count": 0
                      },
                      {
                        "bin_start": 2011,
                        "bin_end": 2011.1,
                        "count": 1
                      },
                      {
                        "bin_start": 2011.1,
                        "bin_end": 2011.2,
                        "count": 0
                      },
                      {
                        "bin_start": 2011.2,
                        "bin_end": 2011.3,
                        "count": 0
                      },
                      {
                        "bin_start": 2011.3,
                        "bin_end": 2011.4,
                        "count": 0
                      },
                      {
                        "bin_start": 2011.4,
                        "bin_end": 2011.5,
                        "count": 0
                      }
                    ]
                  }
                },
                {
                  "name": "profit",
                  "dtype": "int64",
                  "stats": {
                    "unique_count": 1,
                    "nan_count": 0,
                    "min": -15540000,
                    "max": -15540000,
                    "histogram": [
                      {
                        "bin_start": -15540000.5,
                        "bin_end": -15540000.4,
                        "count": 0
                      },
                      {
                        "bin_start": -15540000.4,
                        "bin_end": -15540000.3,
                        "count": 0
                      },
                      {
                        "bin_start": -15540000.3,
                        "bin_end": -15540000.2,
                        "count": 0
                      },
                      {
                        "bin_start": -15540000.2,
                        "bin_end": -15540000.1,
                        "count": 0
                      },
                      {
                        "bin_start": -15540000.1,
                        "bin_end": -15540000,
                        "count": 0
                      },
                      {
                        "bin_start": -15540000,
                        "bin_end": -15539999.9,
                        "count": 1
                      },
                      {
                        "bin_start": -15539999.9,
                        "bin_end": -15539999.8,
                        "count": 0
                      },
                      {
                        "bin_start": -15539999.8,
                        "bin_end": -15539999.7,
                        "count": 0
                      },
                      {
                        "bin_start": -15539999.7,
                        "bin_end": -15539999.6,
                        "count": 0
                      },
                      {
                        "bin_start": -15539999.6,
                        "bin_end": -15539999.5,
                        "count": 0
                      }
                    ]
                  }
                },
                {
                  "name": "_deepnote_index_column",
                  "dtype": "int64"
                }
              ],
              "rows_top": [
                {
                  "imdb_id": "tt1449283",
                  "budget": 30000000,
                  "revenue": 14460000,
                  "original_title": "Winnie the Pooh",
                  "cast": "Jim Cummings|Travis Oates|Jim Cummings|Bud Luckey|Craig Ferguson",
                  "director": "Stephen Anderson|Don Hall",
                  "tagline": "Oh Pooh.",
                  "overview": "During an ordinary day in Hundred Acre Wood, Winnie the Pooh sets out to find some honey. Misinterpreting a note from Christopher Robin, Pooh convinces Tigger, Rabbit, Piglet, Owl, Kanga, Roo, and Eeyore that their young friend has been captured by a creature named \"Backson\" and they set out to save him.",
                  "runtime": 63,
                  "genres": "Animation|Family",
                  "production_companies": "Walt Disney Pictures|Walt Disney Animation Studios",
                  "release_date": "2011-04-13T00:00:00.000000",
                  "vote_average": 6.8,
                  "release_year": 2011,
                  "profit": -15540000,
                  "_deepnote_index_column": 768
                }
              ],
              "rows_bottom": null
            },
            "text/plain": "       imdb_id    budget   revenue   original_title  \\\n768  tt1449283  30000000  14460000  Winnie the Pooh   \n\n                                                  cast  \\\n768  Jim Cummings|Travis Oates|Jim Cummings|Bud Luc...   \n\n                      director   tagline  \\\n768  Stephen Anderson|Don Hall  Oh Pooh.   \n\n                                              overview  runtime  \\\n768  During an ordinary day in Hundred Acre Wood, W...       63   \n\n               genres                               production_companies  \\\n768  Animation|Family  Walt Disney Pictures|Walt Disney Animation Stu...   \n\n    release_date  vote_average  release_year    profit  \n768   2011-04-13           6.8          2011 -15540000  ",
            "text/html": "<div>\n<style scoped>\n    .dataframe tbody tr th:only-of-type {\n        vertical-align: middle;\n    }\n\n    .dataframe tbody tr th {\n        vertical-align: top;\n    }\n\n    .dataframe thead th {\n        text-align: right;\n    }\n</style>\n<table border=\"1\" class=\"dataframe\">\n  <thead>\n    <tr style=\"text-align: right;\">\n      <th></th>\n      <th>imdb_id</th>\n      <th>budget</th>\n      <th>revenue</th>\n      <th>original_title</th>\n      <th>cast</th>\n      <th>director</th>\n      <th>tagline</th>\n      <th>overview</th>\n      <th>runtime</th>\n      <th>genres</th>\n      <th>production_companies</th>\n      <th>release_date</th>\n      <th>vote_average</th>\n      <th>release_year</th>\n      <th>profit</th>\n    </tr>\n  </thead>\n  <tbody>\n    <tr>\n      <th>768</th>\n      <td>tt1449283</td>\n      <td>30000000</td>\n      <td>14460000</td>\n      <td>Winnie the Pooh</td>\n      <td>Jim Cummings|Travis Oates|Jim Cummings|Bud Luc...</td>\n      <td>Stephen Anderson|Don Hall</td>\n      <td>Oh Pooh.</td>\n      <td>During an ordinary day in Hundred Acre Wood, W...</td>\n      <td>63</td>\n      <td>Animation|Family</td>\n      <td>Walt Disney Pictures|Walt Disney Animation Stu...</td>\n      <td>2011-04-13</td>\n      <td>6.8</td>\n      <td>2011</td>\n      <td>-15540000</td>\n    </tr>\n  </tbody>\n</table>\n</div>"
          },
          "metadata": {}
        }
      ]
    },
    {
      "cell_type": "markdown",
      "source": "# 4. Какова средняя длительность фильмов?\n",
      "metadata": {
        "colab_type": "text",
        "id": "TfQbxbfNVp-p",
        "cell_id": "00016-13b2a00b-4ad3-49ae-8dab-a9b471b55a78",
        "deepnote_cell_type": "markdown"
      }
    },
    {
      "cell_type": "code",
      "metadata": {
        "colab": {},
        "colab_type": "code",
        "id": "5K6dKZYVVp-q",
        "cell_id": "00017-a4c8c664-f2c4-49d6-9a81-6b694abbd028",
        "deepnote_to_be_reexecuted": false,
        "source_hash": "a52ceb39",
        "execution_millis": 0,
        "execution_start": 1615836199179,
        "deepnote_cell_type": "code"
      },
      "source": "answers['4'] = '110'",
      "execution_count": 12,
      "outputs": []
    },
    {
      "cell_type": "code",
      "metadata": {
        "tags": [],
        "cell_id": "00019-6092eb51-db3d-4eab-b65b-e36152a4a485",
        "deepnote_to_be_reexecuted": false,
        "source_hash": "d835514f",
        "execution_millis": 23,
        "execution_start": 1615836199182,
        "deepnote_cell_type": "code"
      },
      "source": "print(round(data.runtime.mean(), 0))",
      "execution_count": 13,
      "outputs": [
        {
          "name": "stdout",
          "text": "110.0\n",
          "output_type": "stream"
        }
      ]
    },
    {
      "cell_type": "markdown",
      "source": "# 5. Каково медианное значение длительности фильмов? ",
      "metadata": {
        "colab_type": "text",
        "id": "r5TvbnT_Vp-u",
        "cell_id": "00018-f417544d-162c-4ddd-b656-1cba4d81fe86",
        "deepnote_cell_type": "markdown"
      }
    },
    {
      "cell_type": "code",
      "metadata": {
        "colab": {},
        "colab_type": "code",
        "id": "iBROplKnVp-v",
        "cell_id": "00019-7bb03a16-3130-47cb-8b8c-546e47fcfd33",
        "deepnote_to_be_reexecuted": false,
        "source_hash": "3f00c0eb",
        "execution_millis": 8,
        "execution_start": 1615836199183,
        "deepnote_cell_type": "code"
      },
      "source": "answers['5'] = '107'",
      "execution_count": 14,
      "outputs": []
    },
    {
      "cell_type": "code",
      "metadata": {
        "tags": [],
        "cell_id": "00022-21ad8814-e166-4695-9b56-1596fd8ff701",
        "deepnote_to_be_reexecuted": false,
        "source_hash": "c7ecf565",
        "execution_millis": 16,
        "execution_start": 1615836199193,
        "deepnote_cell_type": "code"
      },
      "source": "print(data.runtime.median())",
      "execution_count": 15,
      "outputs": [
        {
          "name": "stdout",
          "text": "107.0\n",
          "output_type": "stream"
        }
      ]
    },
    {
      "cell_type": "markdown",
      "source": "# 6. Какой самый прибыльный фильм?\n#### Внимание! Здесь и далее под «прибылью» или «убытками» понимается разность между сборами и бюджетом фильма. (прибыль = сборы - бюджет) в нашем датасете это будет (profit = revenue - budget) ",
      "metadata": {
        "colab_type": "text",
        "id": "39P-deDSVp-y",
        "cell_id": "00020-ad23aa4e-d42e-4e30-863f-edeb27bc6b8d",
        "deepnote_cell_type": "markdown"
      }
    },
    {
      "cell_type": "code",
      "metadata": {
        "tags": [],
        "cell_id": "00024-ec1f2458-7915-494c-b37b-47e739188391",
        "deepnote_to_be_reexecuted": false,
        "source_hash": "6f46bfc6",
        "execution_millis": 0,
        "execution_start": 1615836199198,
        "deepnote_cell_type": "code"
      },
      "source": "answers['6'] = 'Avatar (tt0499549)'",
      "execution_count": 16,
      "outputs": []
    },
    {
      "cell_type": "code",
      "metadata": {
        "colab": {},
        "colab_type": "code",
        "id": "UYZh4T9WVp-y",
        "cell_id": "00021-813e447d-441d-4140-a51c-040fef6ba5f2",
        "deepnote_to_be_reexecuted": false,
        "source_hash": "1738cab6",
        "execution_millis": 50,
        "execution_start": 1615836199200,
        "deepnote_cell_type": "code"
      },
      "source": "# лучше код получения столбца profit вынести в Предобработку что в начале\ndata.loc[data.profit == data.profit.max()]",
      "execution_count": 17,
      "outputs": [
        {
          "name": "stderr",
          "text": "/shared-libs/python3.7/py/lib/python3.7/site-packages/numpy/lib/histograms.py:822: RuntimeWarning: divide by zero encountered in double_scalars\n  norm = n_equal_bins / _unsigned_subtract(last_edge, first_edge)\n/shared-libs/python3.7/py/lib/python3.7/site-packages/numpy/lib/histograms.py:850: RuntimeWarning: invalid value encountered in multiply\n  f_indices = _unsigned_subtract(tmp_a, first_edge) * norm\n",
          "output_type": "stream"
        },
        {
          "output_type": "execute_result",
          "execution_count": 17,
          "data": {
            "application/vnd.deepnote.dataframe.v2+json": {
              "row_count": 1,
              "column_count": 15,
              "columns": [
                {
                  "name": "imdb_id",
                  "dtype": "object",
                  "stats": {
                    "unique_count": 1,
                    "nan_count": 0,
                    "categories": [
                      {
                        "name": "tt0499549",
                        "count": 1
                      }
                    ]
                  }
                },
                {
                  "name": "budget",
                  "dtype": "int64",
                  "stats": {
                    "unique_count": 1,
                    "nan_count": 0,
                    "min": 237000000,
                    "max": 237000000,
                    "histogram": [
                      {
                        "bin_start": 236999999.5,
                        "bin_end": 236999999.6,
                        "count": 0
                      },
                      {
                        "bin_start": 236999999.6,
                        "bin_end": 236999999.7,
                        "count": 0
                      },
                      {
                        "bin_start": 236999999.7,
                        "bin_end": 236999999.8,
                        "count": 0
                      },
                      {
                        "bin_start": 236999999.8,
                        "bin_end": 236999999.9,
                        "count": 0
                      },
                      {
                        "bin_start": 236999999.9,
                        "bin_end": 237000000,
                        "count": 0
                      },
                      {
                        "bin_start": 237000000,
                        "bin_end": 237000000.1,
                        "count": 1
                      },
                      {
                        "bin_start": 237000000.1,
                        "bin_end": 237000000.2,
                        "count": 0
                      },
                      {
                        "bin_start": 237000000.2,
                        "bin_end": 237000000.3,
                        "count": 0
                      },
                      {
                        "bin_start": 237000000.3,
                        "bin_end": 237000000.4,
                        "count": 0
                      },
                      {
                        "bin_start": 237000000.4,
                        "bin_end": 237000000.5,
                        "count": 0
                      }
                    ]
                  }
                },
                {
                  "name": "revenue",
                  "dtype": "int64",
                  "stats": {
                    "unique_count": 1,
                    "nan_count": 0,
                    "min": 2781505847,
                    "max": 2781505847,
                    "histogram": [
                      {
                        "bin_start": 2781505846.5,
                        "bin_end": 2781505846.6,
                        "count": 0
                      },
                      {
                        "bin_start": 2781505846.6,
                        "bin_end": 2781505846.7,
                        "count": 0
                      },
                      {
                        "bin_start": 2781505846.7,
                        "bin_end": 2781505846.8,
                        "count": 0
                      },
                      {
                        "bin_start": 2781505846.8,
                        "bin_end": 2781505846.9,
                        "count": 0
                      },
                      {
                        "bin_start": 2781505846.9,
                        "bin_end": 2781505847,
                        "count": 0
                      },
                      {
                        "bin_start": 2781505847,
                        "bin_end": 2781505847.1,
                        "count": 1
                      },
                      {
                        "bin_start": 2781505847.1,
                        "bin_end": 2781505847.2,
                        "count": 0
                      },
                      {
                        "bin_start": 2781505847.2,
                        "bin_end": 2781505847.3,
                        "count": 0
                      },
                      {
                        "bin_start": 2781505847.3,
                        "bin_end": 2781505847.4,
                        "count": 0
                      },
                      {
                        "bin_start": 2781505847.4,
                        "bin_end": 2781505847.5,
                        "count": 0
                      }
                    ]
                  }
                },
                {
                  "name": "original_title",
                  "dtype": "object",
                  "stats": {
                    "unique_count": 1,
                    "nan_count": 0,
                    "categories": [
                      {
                        "name": "Avatar",
                        "count": 1
                      }
                    ]
                  }
                },
                {
                  "name": "cast",
                  "dtype": "object",
                  "stats": {
                    "unique_count": 1,
                    "nan_count": 0,
                    "categories": [
                      {
                        "name": "Sam Worthington|Zoe Saldana|Sigourney Weaver|Stephen Lang|Michelle Rodriguez",
                        "count": 1
                      }
                    ]
                  }
                },
                {
                  "name": "director",
                  "dtype": "object",
                  "stats": {
                    "unique_count": 1,
                    "nan_count": 0,
                    "categories": [
                      {
                        "name": "James Cameron",
                        "count": 1
                      }
                    ]
                  }
                },
                {
                  "name": "tagline",
                  "dtype": "object",
                  "stats": {
                    "unique_count": 1,
                    "nan_count": 0,
                    "categories": [
                      {
                        "name": "Enter the World of Pandora.",
                        "count": 1
                      }
                    ]
                  }
                },
                {
                  "name": "overview",
                  "dtype": "object",
                  "stats": {
                    "unique_count": 1,
                    "nan_count": 0,
                    "categories": [
                      {
                        "name": "In the 22nd century, a paraplegic Marine is dispatched to the moon Pandora on a unique mission, but becomes torn between following orders and protecting an alien civilization.",
                        "count": 1
                      }
                    ]
                  }
                },
                {
                  "name": "runtime",
                  "dtype": "int64",
                  "stats": {
                    "unique_count": 1,
                    "nan_count": 0,
                    "min": 162,
                    "max": 162,
                    "histogram": [
                      {
                        "bin_start": 161.5,
                        "bin_end": 161.6,
                        "count": 0
                      },
                      {
                        "bin_start": 161.6,
                        "bin_end": 161.7,
                        "count": 0
                      },
                      {
                        "bin_start": 161.7,
                        "bin_end": 161.8,
                        "count": 0
                      },
                      {
                        "bin_start": 161.8,
                        "bin_end": 161.9,
                        "count": 0
                      },
                      {
                        "bin_start": 161.9,
                        "bin_end": 162,
                        "count": 0
                      },
                      {
                        "bin_start": 162,
                        "bin_end": 162.1,
                        "count": 1
                      },
                      {
                        "bin_start": 162.1,
                        "bin_end": 162.2,
                        "count": 0
                      },
                      {
                        "bin_start": 162.2,
                        "bin_end": 162.3,
                        "count": 0
                      },
                      {
                        "bin_start": 162.3,
                        "bin_end": 162.4,
                        "count": 0
                      },
                      {
                        "bin_start": 162.4,
                        "bin_end": 162.5,
                        "count": 0
                      }
                    ]
                  }
                },
                {
                  "name": "genres",
                  "dtype": "object",
                  "stats": {
                    "unique_count": 1,
                    "nan_count": 0,
                    "categories": [
                      {
                        "name": "Action|Adventure|Fantasy|Science Fiction",
                        "count": 1
                      }
                    ]
                  }
                },
                {
                  "name": "production_companies",
                  "dtype": "object",
                  "stats": {
                    "unique_count": 1,
                    "nan_count": 0,
                    "categories": [
                      {
                        "name": "Ingenious Film Partners|Twentieth Century Fox Film Corporation|Dune Entertainment|Lightstorm Entertainment",
                        "count": 1
                      }
                    ]
                  }
                },
                {
                  "name": "release_date",
                  "dtype": "datetime64[ns]",
                  "stats": {
                    "unique_count": 1,
                    "nan_count": 0,
                    "min": "2009-12-10T00:00:00.000000",
                    "max": "2009-12-10T00:00:00.000000",
                    "histogram": null
                  }
                },
                {
                  "name": "vote_average",
                  "dtype": "float64",
                  "stats": {
                    "unique_count": 1,
                    "nan_count": 0,
                    "min": 7.1,
                    "max": 7.1,
                    "histogram": [
                      {
                        "bin_start": 6.6,
                        "bin_end": 6.699999999999999,
                        "count": 0
                      },
                      {
                        "bin_start": 6.699999999999999,
                        "bin_end": 6.8,
                        "count": 0
                      },
                      {
                        "bin_start": 6.8,
                        "bin_end": 6.8999999999999995,
                        "count": 0
                      },
                      {
                        "bin_start": 6.8999999999999995,
                        "bin_end": 7,
                        "count": 0
                      },
                      {
                        "bin_start": 7,
                        "bin_end": 7.1,
                        "count": 0
                      },
                      {
                        "bin_start": 7.1,
                        "bin_end": 7.199999999999999,
                        "count": 1
                      },
                      {
                        "bin_start": 7.199999999999999,
                        "bin_end": 7.3,
                        "count": 0
                      },
                      {
                        "bin_start": 7.3,
                        "bin_end": 7.3999999999999995,
                        "count": 0
                      },
                      {
                        "bin_start": 7.3999999999999995,
                        "bin_end": 7.5,
                        "count": 0
                      },
                      {
                        "bin_start": 7.5,
                        "bin_end": 7.6,
                        "count": 0
                      }
                    ]
                  }
                },
                {
                  "name": "release_year",
                  "dtype": "int64",
                  "stats": {
                    "unique_count": 1,
                    "nan_count": 0,
                    "min": 2009,
                    "max": 2009,
                    "histogram": [
                      {
                        "bin_start": 2008.5,
                        "bin_end": 2008.6,
                        "count": 0
                      },
                      {
                        "bin_start": 2008.6,
                        "bin_end": 2008.7,
                        "count": 0
                      },
                      {
                        "bin_start": 2008.7,
                        "bin_end": 2008.8,
                        "count": 0
                      },
                      {
                        "bin_start": 2008.8,
                        "bin_end": 2008.9,
                        "count": 0
                      },
                      {
                        "bin_start": 2008.9,
                        "bin_end": 2009,
                        "count": 0
                      },
                      {
                        "bin_start": 2009,
                        "bin_end": 2009.1,
                        "count": 1
                      },
                      {
                        "bin_start": 2009.1,
                        "bin_end": 2009.2,
                        "count": 0
                      },
                      {
                        "bin_start": 2009.2,
                        "bin_end": 2009.3,
                        "count": 0
                      },
                      {
                        "bin_start": 2009.3,
                        "bin_end": 2009.4,
                        "count": 0
                      },
                      {
                        "bin_start": 2009.4,
                        "bin_end": 2009.5,
                        "count": 0
                      }
                    ]
                  }
                },
                {
                  "name": "profit",
                  "dtype": "int64",
                  "stats": {
                    "unique_count": 1,
                    "nan_count": 0,
                    "min": 2544505847,
                    "max": 2544505847,
                    "histogram": [
                      {
                        "bin_start": 2544505846.5,
                        "bin_end": 2544505846.6,
                        "count": 0
                      },
                      {
                        "bin_start": 2544505846.6,
                        "bin_end": 2544505846.7,
                        "count": 0
                      },
                      {
                        "bin_start": 2544505846.7,
                        "bin_end": 2544505846.8,
                        "count": 0
                      },
                      {
                        "bin_start": 2544505846.8,
                        "bin_end": 2544505846.9,
                        "count": 0
                      },
                      {
                        "bin_start": 2544505846.9,
                        "bin_end": 2544505847,
                        "count": 0
                      },
                      {
                        "bin_start": 2544505847,
                        "bin_end": 2544505847.1,
                        "count": 1
                      },
                      {
                        "bin_start": 2544505847.1,
                        "bin_end": 2544505847.2,
                        "count": 0
                      },
                      {
                        "bin_start": 2544505847.2,
                        "bin_end": 2544505847.3,
                        "count": 0
                      },
                      {
                        "bin_start": 2544505847.3,
                        "bin_end": 2544505847.4,
                        "count": 0
                      },
                      {
                        "bin_start": 2544505847.4,
                        "bin_end": 2544505847.5,
                        "count": 0
                      }
                    ]
                  }
                },
                {
                  "name": "_deepnote_index_column",
                  "dtype": "int64"
                }
              ],
              "rows_top": [
                {
                  "imdb_id": "tt0499549",
                  "budget": 237000000,
                  "revenue": 2781505847,
                  "original_title": "Avatar",
                  "cast": "Sam Worthington|Zoe Saldana|Sigourney Weaver|Stephen Lang|Michelle Rodriguez",
                  "director": "James Cameron",
                  "tagline": "Enter the World of Pandora.",
                  "overview": "In the 22nd century, a paraplegic Marine is dispatched to the moon Pandora on a unique mission, but becomes torn between following orders and protecting an alien civilization.",
                  "runtime": 162,
                  "genres": "Action|Adventure|Fantasy|Science Fiction",
                  "production_companies": "Ingenious Film Partners|Twentieth Century Fox Film Corporation|Dune Entertainment|Lightstorm Entertainment",
                  "release_date": "2009-12-10T00:00:00.000000",
                  "vote_average": 7.1,
                  "release_year": 2009,
                  "profit": 2544505847,
                  "_deepnote_index_column": 239
                }
              ],
              "rows_bottom": null
            },
            "text/plain": "       imdb_id     budget     revenue original_title  \\\n239  tt0499549  237000000  2781505847         Avatar   \n\n                                                  cast       director  \\\n239  Sam Worthington|Zoe Saldana|Sigourney Weaver|S...  James Cameron   \n\n                         tagline  \\\n239  Enter the World of Pandora.   \n\n                                              overview  runtime  \\\n239  In the 22nd century, a paraplegic Marine is di...      162   \n\n                                       genres  \\\n239  Action|Adventure|Fantasy|Science Fiction   \n\n                                  production_companies release_date  \\\n239  Ingenious Film Partners|Twentieth Century Fox ...   2009-12-10   \n\n     vote_average  release_year      profit  \n239           7.1          2009  2544505847  ",
            "text/html": "<div>\n<style scoped>\n    .dataframe tbody tr th:only-of-type {\n        vertical-align: middle;\n    }\n\n    .dataframe tbody tr th {\n        vertical-align: top;\n    }\n\n    .dataframe thead th {\n        text-align: right;\n    }\n</style>\n<table border=\"1\" class=\"dataframe\">\n  <thead>\n    <tr style=\"text-align: right;\">\n      <th></th>\n      <th>imdb_id</th>\n      <th>budget</th>\n      <th>revenue</th>\n      <th>original_title</th>\n      <th>cast</th>\n      <th>director</th>\n      <th>tagline</th>\n      <th>overview</th>\n      <th>runtime</th>\n      <th>genres</th>\n      <th>production_companies</th>\n      <th>release_date</th>\n      <th>vote_average</th>\n      <th>release_year</th>\n      <th>profit</th>\n    </tr>\n  </thead>\n  <tbody>\n    <tr>\n      <th>239</th>\n      <td>tt0499549</td>\n      <td>237000000</td>\n      <td>2781505847</td>\n      <td>Avatar</td>\n      <td>Sam Worthington|Zoe Saldana|Sigourney Weaver|S...</td>\n      <td>James Cameron</td>\n      <td>Enter the World of Pandora.</td>\n      <td>In the 22nd century, a paraplegic Marine is di...</td>\n      <td>162</td>\n      <td>Action|Adventure|Fantasy|Science Fiction</td>\n      <td>Ingenious Film Partners|Twentieth Century Fox ...</td>\n      <td>2009-12-10</td>\n      <td>7.1</td>\n      <td>2009</td>\n      <td>2544505847</td>\n    </tr>\n  </tbody>\n</table>\n</div>"
          },
          "metadata": {}
        }
      ]
    },
    {
      "cell_type": "markdown",
      "source": "# 7. Какой фильм самый убыточный? ",
      "metadata": {
        "colab_type": "text",
        "id": "M99JmIX4Vp-2",
        "cell_id": "00022-c9f3af36-9651-4682-885a-8c8005be20e7",
        "deepnote_cell_type": "markdown"
      }
    },
    {
      "cell_type": "code",
      "metadata": {
        "colab": {},
        "colab_type": "code",
        "id": "w-D2m4XPVp-3",
        "cell_id": "00023-5e52c589-a8e0-405b-a9ab-1dfbf5b30667",
        "deepnote_to_be_reexecuted": false,
        "source_hash": "f3dd3b27",
        "execution_millis": 1,
        "execution_start": 1615836199240,
        "deepnote_cell_type": "code"
      },
      "source": "answers['7'] = 'The Lone Ranger (tt1210819)'",
      "execution_count": 18,
      "outputs": []
    },
    {
      "cell_type": "code",
      "metadata": {
        "tags": [],
        "cell_id": "00028-4e4949ff-0c7f-4b8c-a580-c33beb736d68",
        "deepnote_to_be_reexecuted": false,
        "source_hash": "c457d5b4",
        "execution_millis": 45,
        "execution_start": 1615836199247,
        "deepnote_cell_type": "code"
      },
      "source": "data.loc[data.profit == data.profit.min()]",
      "execution_count": 19,
      "outputs": [
        {
          "name": "stderr",
          "text": "/shared-libs/python3.7/py/lib/python3.7/site-packages/numpy/lib/histograms.py:822: RuntimeWarning: divide by zero encountered in double_scalars\n  norm = n_equal_bins / _unsigned_subtract(last_edge, first_edge)\n/shared-libs/python3.7/py/lib/python3.7/site-packages/numpy/lib/histograms.py:850: RuntimeWarning: invalid value encountered in multiply\n  f_indices = _unsigned_subtract(tmp_a, first_edge) * norm\n",
          "output_type": "stream"
        },
        {
          "output_type": "execute_result",
          "execution_count": 19,
          "data": {
            "application/vnd.deepnote.dataframe.v2+json": {
              "row_count": 1,
              "column_count": 15,
              "columns": [
                {
                  "name": "imdb_id",
                  "dtype": "object",
                  "stats": {
                    "unique_count": 1,
                    "nan_count": 0,
                    "categories": [
                      {
                        "name": "tt1210819",
                        "count": 1
                      }
                    ]
                  }
                },
                {
                  "name": "budget",
                  "dtype": "int64",
                  "stats": {
                    "unique_count": 1,
                    "nan_count": 0,
                    "min": 255000000,
                    "max": 255000000,
                    "histogram": [
                      {
                        "bin_start": 254999999.5,
                        "bin_end": 254999999.6,
                        "count": 0
                      },
                      {
                        "bin_start": 254999999.6,
                        "bin_end": 254999999.7,
                        "count": 0
                      },
                      {
                        "bin_start": 254999999.7,
                        "bin_end": 254999999.8,
                        "count": 0
                      },
                      {
                        "bin_start": 254999999.8,
                        "bin_end": 254999999.9,
                        "count": 0
                      },
                      {
                        "bin_start": 254999999.9,
                        "bin_end": 255000000,
                        "count": 0
                      },
                      {
                        "bin_start": 255000000,
                        "bin_end": 255000000.1,
                        "count": 1
                      },
                      {
                        "bin_start": 255000000.1,
                        "bin_end": 255000000.2,
                        "count": 0
                      },
                      {
                        "bin_start": 255000000.2,
                        "bin_end": 255000000.3,
                        "count": 0
                      },
                      {
                        "bin_start": 255000000.3,
                        "bin_end": 255000000.4,
                        "count": 0
                      },
                      {
                        "bin_start": 255000000.4,
                        "bin_end": 255000000.5,
                        "count": 0
                      }
                    ]
                  }
                },
                {
                  "name": "revenue",
                  "dtype": "int64",
                  "stats": {
                    "unique_count": 1,
                    "nan_count": 0,
                    "min": 89289910,
                    "max": 89289910,
                    "histogram": [
                      {
                        "bin_start": 89289909.5,
                        "bin_end": 89289909.6,
                        "count": 0
                      },
                      {
                        "bin_start": 89289909.6,
                        "bin_end": 89289909.7,
                        "count": 0
                      },
                      {
                        "bin_start": 89289909.7,
                        "bin_end": 89289909.8,
                        "count": 0
                      },
                      {
                        "bin_start": 89289909.8,
                        "bin_end": 89289909.9,
                        "count": 0
                      },
                      {
                        "bin_start": 89289909.9,
                        "bin_end": 89289910,
                        "count": 0
                      },
                      {
                        "bin_start": 89289910,
                        "bin_end": 89289910.1,
                        "count": 1
                      },
                      {
                        "bin_start": 89289910.1,
                        "bin_end": 89289910.2,
                        "count": 0
                      },
                      {
                        "bin_start": 89289910.2,
                        "bin_end": 89289910.3,
                        "count": 0
                      },
                      {
                        "bin_start": 89289910.3,
                        "bin_end": 89289910.4,
                        "count": 0
                      },
                      {
                        "bin_start": 89289910.4,
                        "bin_end": 89289910.5,
                        "count": 0
                      }
                    ]
                  }
                },
                {
                  "name": "original_title",
                  "dtype": "object",
                  "stats": {
                    "unique_count": 1,
                    "nan_count": 0,
                    "categories": [
                      {
                        "name": "The Lone Ranger",
                        "count": 1
                      }
                    ]
                  }
                },
                {
                  "name": "cast",
                  "dtype": "object",
                  "stats": {
                    "unique_count": 1,
                    "nan_count": 0,
                    "categories": [
                      {
                        "name": "Johnny Depp|Armie Hammer|William Fichtner|Helena Bonham Carter|James Badge Dale",
                        "count": 1
                      }
                    ]
                  }
                },
                {
                  "name": "director",
                  "dtype": "object",
                  "stats": {
                    "unique_count": 1,
                    "nan_count": 0,
                    "categories": [
                      {
                        "name": "Gore Verbinski",
                        "count": 1
                      }
                    ]
                  }
                },
                {
                  "name": "tagline",
                  "dtype": "object",
                  "stats": {
                    "unique_count": 1,
                    "nan_count": 0,
                    "categories": [
                      {
                        "name": "Never Take Off the Mask",
                        "count": 1
                      }
                    ]
                  }
                },
                {
                  "name": "overview",
                  "dtype": "object",
                  "stats": {
                    "unique_count": 1,
                    "nan_count": 0,
                    "categories": [
                      {
                        "name": "The Texas Rangers chase down a gang of outlaws led by Butch Cavendish, but the gang ambushes the Rangers, seemingly killing them all. One survivor is found, however, by an American Indian named Tonto, who nurses him back to health. The Ranger, donning a mask and riding a white stallion named Silver, teams up with Tonto to bring the unscrupulous gang and others of that ilk to justice.",
                        "count": 1
                      }
                    ]
                  }
                },
                {
                  "name": "runtime",
                  "dtype": "int64",
                  "stats": {
                    "unique_count": 1,
                    "nan_count": 0,
                    "min": 149,
                    "max": 149,
                    "histogram": [
                      {
                        "bin_start": 148.5,
                        "bin_end": 148.6,
                        "count": 0
                      },
                      {
                        "bin_start": 148.6,
                        "bin_end": 148.7,
                        "count": 0
                      },
                      {
                        "bin_start": 148.7,
                        "bin_end": 148.8,
                        "count": 0
                      },
                      {
                        "bin_start": 148.8,
                        "bin_end": 148.9,
                        "count": 0
                      },
                      {
                        "bin_start": 148.9,
                        "bin_end": 149,
                        "count": 0
                      },
                      {
                        "bin_start": 149,
                        "bin_end": 149.1,
                        "count": 1
                      },
                      {
                        "bin_start": 149.1,
                        "bin_end": 149.2,
                        "count": 0
                      },
                      {
                        "bin_start": 149.2,
                        "bin_end": 149.3,
                        "count": 0
                      },
                      {
                        "bin_start": 149.3,
                        "bin_end": 149.4,
                        "count": 0
                      },
                      {
                        "bin_start": 149.4,
                        "bin_end": 149.5,
                        "count": 0
                      }
                    ]
                  }
                },
                {
                  "name": "genres",
                  "dtype": "object",
                  "stats": {
                    "unique_count": 1,
                    "nan_count": 0,
                    "categories": [
                      {
                        "name": "Action|Adventure|Western",
                        "count": 1
                      }
                    ]
                  }
                },
                {
                  "name": "production_companies",
                  "dtype": "object",
                  "stats": {
                    "unique_count": 1,
                    "nan_count": 0,
                    "categories": [
                      {
                        "name": "Walt Disney Pictures|Jerry Bruckheimer Films|Infinitum Nihil|Silver Bullet Productions (II)|Blind Wink Productions",
                        "count": 1
                      }
                    ]
                  }
                },
                {
                  "name": "release_date",
                  "dtype": "datetime64[ns]",
                  "stats": {
                    "unique_count": 1,
                    "nan_count": 0,
                    "min": "2013-07-03T00:00:00.000000",
                    "max": "2013-07-03T00:00:00.000000",
                    "histogram": null
                  }
                },
                {
                  "name": "vote_average",
                  "dtype": "float64",
                  "stats": {
                    "unique_count": 1,
                    "nan_count": 0,
                    "min": 6,
                    "max": 6,
                    "histogram": [
                      {
                        "bin_start": 5.5,
                        "bin_end": 5.6,
                        "count": 0
                      },
                      {
                        "bin_start": 5.6,
                        "bin_end": 5.7,
                        "count": 0
                      },
                      {
                        "bin_start": 5.7,
                        "bin_end": 5.8,
                        "count": 0
                      },
                      {
                        "bin_start": 5.8,
                        "bin_end": 5.9,
                        "count": 0
                      },
                      {
                        "bin_start": 5.9,
                        "bin_end": 6,
                        "count": 0
                      },
                      {
                        "bin_start": 6,
                        "bin_end": 6.1,
                        "count": 1
                      },
                      {
                        "bin_start": 6.1,
                        "bin_end": 6.2,
                        "count": 0
                      },
                      {
                        "bin_start": 6.2,
                        "bin_end": 6.3,
                        "count": 0
                      },
                      {
                        "bin_start": 6.3,
                        "bin_end": 6.4,
                        "count": 0
                      },
                      {
                        "bin_start": 6.4,
                        "bin_end": 6.5,
                        "count": 0
                      }
                    ]
                  }
                },
                {
                  "name": "release_year",
                  "dtype": "int64",
                  "stats": {
                    "unique_count": 1,
                    "nan_count": 0,
                    "min": 2013,
                    "max": 2013,
                    "histogram": [
                      {
                        "bin_start": 2012.5,
                        "bin_end": 2012.6,
                        "count": 0
                      },
                      {
                        "bin_start": 2012.6,
                        "bin_end": 2012.7,
                        "count": 0
                      },
                      {
                        "bin_start": 2012.7,
                        "bin_end": 2012.8,
                        "count": 0
                      },
                      {
                        "bin_start": 2012.8,
                        "bin_end": 2012.9,
                        "count": 0
                      },
                      {
                        "bin_start": 2012.9,
                        "bin_end": 2013,
                        "count": 0
                      },
                      {
                        "bin_start": 2013,
                        "bin_end": 2013.1,
                        "count": 1
                      },
                      {
                        "bin_start": 2013.1,
                        "bin_end": 2013.2,
                        "count": 0
                      },
                      {
                        "bin_start": 2013.2,
                        "bin_end": 2013.3,
                        "count": 0
                      },
                      {
                        "bin_start": 2013.3,
                        "bin_end": 2013.4,
                        "count": 0
                      },
                      {
                        "bin_start": 2013.4,
                        "bin_end": 2013.5,
                        "count": 0
                      }
                    ]
                  }
                },
                {
                  "name": "profit",
                  "dtype": "int64",
                  "stats": {
                    "unique_count": 1,
                    "nan_count": 0,
                    "min": -165710090,
                    "max": -165710090,
                    "histogram": [
                      {
                        "bin_start": -165710090.5,
                        "bin_end": -165710090.4,
                        "count": 0
                      },
                      {
                        "bin_start": -165710090.4,
                        "bin_end": -165710090.3,
                        "count": 0
                      },
                      {
                        "bin_start": -165710090.3,
                        "bin_end": -165710090.2,
                        "count": 0
                      },
                      {
                        "bin_start": -165710090.2,
                        "bin_end": -165710090.1,
                        "count": 0
                      },
                      {
                        "bin_start": -165710090.1,
                        "bin_end": -165710090,
                        "count": 0
                      },
                      {
                        "bin_start": -165710090,
                        "bin_end": -165710089.9,
                        "count": 1
                      },
                      {
                        "bin_start": -165710089.9,
                        "bin_end": -165710089.8,
                        "count": 0
                      },
                      {
                        "bin_start": -165710089.8,
                        "bin_end": -165710089.7,
                        "count": 0
                      },
                      {
                        "bin_start": -165710089.7,
                        "bin_end": -165710089.6,
                        "count": 0
                      },
                      {
                        "bin_start": -165710089.6,
                        "bin_end": -165710089.5,
                        "count": 0
                      }
                    ]
                  }
                },
                {
                  "name": "_deepnote_index_column",
                  "dtype": "int64"
                }
              ],
              "rows_top": [
                {
                  "imdb_id": "tt1210819",
                  "budget": 255000000,
                  "revenue": 89289910,
                  "original_title": "The Lone Ranger",
                  "cast": "Johnny Depp|Armie Hammer|William Fichtner|Helena Bonham Carter|James Badge Dale",
                  "director": "Gore Verbinski",
                  "tagline": "Never Take Off the Mask",
                  "overview": "The Texas Rangers chase down a gang of outlaws led by Butch Cavendish, but the gang ambushes the Rangers, seemingly killing them all. One survivor is found, however, by an American Indian named Tonto, who nurses him back to health. The Ranger, donning a mask and riding a white stallion named Silver, teams up with Tonto to bring the unscrupulous gang and others of that ilk to justice.",
                  "runtime": 149,
                  "genres": "Action|Adventure|Western",
                  "production_companies": "Walt Disney Pictures|Jerry Bruckheimer Films|Infinitum Nihil|Silver Bullet Productions (II)|Blind Wink Productions",
                  "release_date": "2013-07-03T00:00:00.000000",
                  "vote_average": 6,
                  "release_year": 2013,
                  "profit": -165710090,
                  "_deepnote_index_column": 1245
                }
              ],
              "rows_bottom": null
            },
            "text/plain": "        imdb_id     budget   revenue   original_title  \\\n1245  tt1210819  255000000  89289910  The Lone Ranger   \n\n                                                   cast        director  \\\n1245  Johnny Depp|Armie Hammer|William Fichtner|Hele...  Gore Verbinski   \n\n                      tagline  \\\n1245  Never Take Off the Mask   \n\n                                               overview  runtime  \\\n1245  The Texas Rangers chase down a gang of outlaws...      149   \n\n                        genres  \\\n1245  Action|Adventure|Western   \n\n                                   production_companies release_date  \\\n1245  Walt Disney Pictures|Jerry Bruckheimer Films|I...   2013-07-03   \n\n      vote_average  release_year     profit  \n1245           6.0          2013 -165710090  ",
            "text/html": "<div>\n<style scoped>\n    .dataframe tbody tr th:only-of-type {\n        vertical-align: middle;\n    }\n\n    .dataframe tbody tr th {\n        vertical-align: top;\n    }\n\n    .dataframe thead th {\n        text-align: right;\n    }\n</style>\n<table border=\"1\" class=\"dataframe\">\n  <thead>\n    <tr style=\"text-align: right;\">\n      <th></th>\n      <th>imdb_id</th>\n      <th>budget</th>\n      <th>revenue</th>\n      <th>original_title</th>\n      <th>cast</th>\n      <th>director</th>\n      <th>tagline</th>\n      <th>overview</th>\n      <th>runtime</th>\n      <th>genres</th>\n      <th>production_companies</th>\n      <th>release_date</th>\n      <th>vote_average</th>\n      <th>release_year</th>\n      <th>profit</th>\n    </tr>\n  </thead>\n  <tbody>\n    <tr>\n      <th>1245</th>\n      <td>tt1210819</td>\n      <td>255000000</td>\n      <td>89289910</td>\n      <td>The Lone Ranger</td>\n      <td>Johnny Depp|Armie Hammer|William Fichtner|Hele...</td>\n      <td>Gore Verbinski</td>\n      <td>Never Take Off the Mask</td>\n      <td>The Texas Rangers chase down a gang of outlaws...</td>\n      <td>149</td>\n      <td>Action|Adventure|Western</td>\n      <td>Walt Disney Pictures|Jerry Bruckheimer Films|I...</td>\n      <td>2013-07-03</td>\n      <td>6.0</td>\n      <td>2013</td>\n      <td>-165710090</td>\n    </tr>\n  </tbody>\n</table>\n</div>"
          },
          "metadata": {}
        }
      ]
    },
    {
      "cell_type": "markdown",
      "source": "# 8. У скольких фильмов из датасета объем сборов оказался выше бюджета?",
      "metadata": {
        "colab_type": "text",
        "id": "wEOM5ERVVp-6",
        "cell_id": "00024-4ada3bec-b6e5-43c7-bb4e-d289dab17801",
        "deepnote_cell_type": "markdown"
      }
    },
    {
      "cell_type": "code",
      "metadata": {
        "colab": {},
        "colab_type": "code",
        "id": "y00_7HD6Vp-7",
        "cell_id": "00025-d25e30f3-9913-49e1-a835-882015167e4f",
        "deepnote_to_be_reexecuted": false,
        "source_hash": "7bfc769e",
        "execution_millis": 2,
        "execution_start": 1615836199284,
        "deepnote_cell_type": "code"
      },
      "source": "answers['8'] = '1478'",
      "execution_count": 20,
      "outputs": []
    },
    {
      "cell_type": "code",
      "metadata": {
        "tags": [],
        "cell_id": "00031-69591a10-6986-48ea-8040-a74e6283ba5b",
        "deepnote_to_be_reexecuted": false,
        "source_hash": "9b925198",
        "execution_millis": 34,
        "execution_start": 1615836199330,
        "deepnote_cell_type": "code"
      },
      "source": "print(data.imdb_id.loc[data.revenue > data.budget].count())",
      "execution_count": 21,
      "outputs": [
        {
          "name": "stdout",
          "text": "1478\n",
          "output_type": "stream"
        }
      ]
    },
    {
      "cell_type": "markdown",
      "source": "# 9. Какой фильм оказался самым кассовым в 2008 году?",
      "metadata": {
        "colab_type": "text",
        "id": "xhpspA9KVp_A",
        "cell_id": "00026-75f1ac51-8ee4-414b-8c39-88b59ea0b8dc",
        "deepnote_cell_type": "markdown"
      }
    },
    {
      "cell_type": "code",
      "metadata": {
        "colab": {},
        "colab_type": "code",
        "id": "MoUyQr9RVp_B",
        "cell_id": "00027-c02682d0-aab5-4121-9d7c-fd6b018a6c2a",
        "deepnote_to_be_reexecuted": false,
        "source_hash": "5af3c48a",
        "execution_millis": 0,
        "execution_start": 1615836199331,
        "deepnote_cell_type": "code"
      },
      "source": "answers['9'] = 'The Dark Knight (tt0468569)'",
      "execution_count": 22,
      "outputs": []
    },
    {
      "cell_type": "code",
      "metadata": {
        "tags": [],
        "cell_id": "00034-db20a6e9-6042-440f-bb66-168b7757b174",
        "deepnote_to_be_reexecuted": false,
        "source_hash": "8533bde3",
        "execution_millis": 33,
        "execution_start": 1615836199331,
        "deepnote_cell_type": "code"
      },
      "source": "data.loc[data.revenue == data.revenue.loc[data.release_year == 2008].max()]",
      "execution_count": 23,
      "outputs": [
        {
          "name": "stderr",
          "text": "/shared-libs/python3.7/py/lib/python3.7/site-packages/numpy/lib/histograms.py:822: RuntimeWarning: divide by zero encountered in double_scalars\n  norm = n_equal_bins / _unsigned_subtract(last_edge, first_edge)\n/shared-libs/python3.7/py/lib/python3.7/site-packages/numpy/lib/histograms.py:850: RuntimeWarning: invalid value encountered in multiply\n  f_indices = _unsigned_subtract(tmp_a, first_edge) * norm\n",
          "output_type": "stream"
        },
        {
          "output_type": "execute_result",
          "execution_count": 23,
          "data": {
            "application/vnd.deepnote.dataframe.v2+json": {
              "row_count": 1,
              "column_count": 15,
              "columns": [
                {
                  "name": "imdb_id",
                  "dtype": "object",
                  "stats": {
                    "unique_count": 1,
                    "nan_count": 0,
                    "categories": [
                      {
                        "name": "tt0468569",
                        "count": 1
                      }
                    ]
                  }
                },
                {
                  "name": "budget",
                  "dtype": "int64",
                  "stats": {
                    "unique_count": 1,
                    "nan_count": 0,
                    "min": 185000000,
                    "max": 185000000,
                    "histogram": [
                      {
                        "bin_start": 184999999.5,
                        "bin_end": 184999999.6,
                        "count": 0
                      },
                      {
                        "bin_start": 184999999.6,
                        "bin_end": 184999999.7,
                        "count": 0
                      },
                      {
                        "bin_start": 184999999.7,
                        "bin_end": 184999999.8,
                        "count": 0
                      },
                      {
                        "bin_start": 184999999.8,
                        "bin_end": 184999999.9,
                        "count": 0
                      },
                      {
                        "bin_start": 184999999.9,
                        "bin_end": 185000000,
                        "count": 0
                      },
                      {
                        "bin_start": 185000000,
                        "bin_end": 185000000.1,
                        "count": 1
                      },
                      {
                        "bin_start": 185000000.1,
                        "bin_end": 185000000.2,
                        "count": 0
                      },
                      {
                        "bin_start": 185000000.2,
                        "bin_end": 185000000.3,
                        "count": 0
                      },
                      {
                        "bin_start": 185000000.3,
                        "bin_end": 185000000.4,
                        "count": 0
                      },
                      {
                        "bin_start": 185000000.4,
                        "bin_end": 185000000.5,
                        "count": 0
                      }
                    ]
                  }
                },
                {
                  "name": "revenue",
                  "dtype": "int64",
                  "stats": {
                    "unique_count": 1,
                    "nan_count": 0,
                    "min": 1001921825,
                    "max": 1001921825,
                    "histogram": [
                      {
                        "bin_start": 1001921824.5,
                        "bin_end": 1001921824.6,
                        "count": 0
                      },
                      {
                        "bin_start": 1001921824.6,
                        "bin_end": 1001921824.7,
                        "count": 0
                      },
                      {
                        "bin_start": 1001921824.7,
                        "bin_end": 1001921824.8,
                        "count": 0
                      },
                      {
                        "bin_start": 1001921824.8,
                        "bin_end": 1001921824.9,
                        "count": 0
                      },
                      {
                        "bin_start": 1001921824.9,
                        "bin_end": 1001921825,
                        "count": 0
                      },
                      {
                        "bin_start": 1001921825,
                        "bin_end": 1001921825.1,
                        "count": 1
                      },
                      {
                        "bin_start": 1001921825.1,
                        "bin_end": 1001921825.2,
                        "count": 0
                      },
                      {
                        "bin_start": 1001921825.2,
                        "bin_end": 1001921825.3,
                        "count": 0
                      },
                      {
                        "bin_start": 1001921825.3,
                        "bin_end": 1001921825.4,
                        "count": 0
                      },
                      {
                        "bin_start": 1001921825.4,
                        "bin_end": 1001921825.5,
                        "count": 0
                      }
                    ]
                  }
                },
                {
                  "name": "original_title",
                  "dtype": "object",
                  "stats": {
                    "unique_count": 1,
                    "nan_count": 0,
                    "categories": [
                      {
                        "name": "The Dark Knight",
                        "count": 1
                      }
                    ]
                  }
                },
                {
                  "name": "cast",
                  "dtype": "object",
                  "stats": {
                    "unique_count": 1,
                    "nan_count": 0,
                    "categories": [
                      {
                        "name": "Christian Bale|Michael Caine|Heath Ledger|Aaron Eckhart|Gary Oldman",
                        "count": 1
                      }
                    ]
                  }
                },
                {
                  "name": "director",
                  "dtype": "object",
                  "stats": {
                    "unique_count": 1,
                    "nan_count": 0,
                    "categories": [
                      {
                        "name": "Christopher Nolan",
                        "count": 1
                      }
                    ]
                  }
                },
                {
                  "name": "tagline",
                  "dtype": "object",
                  "stats": {
                    "unique_count": 1,
                    "nan_count": 0,
                    "categories": [
                      {
                        "name": "Why So Serious?",
                        "count": 1
                      }
                    ]
                  }
                },
                {
                  "name": "overview",
                  "dtype": "object",
                  "stats": {
                    "unique_count": 1,
                    "nan_count": 0,
                    "categories": [
                      {
                        "name": "Batman raises the stakes in his war on crime. With the help of Lt. Jim Gordon and District Attorney Harvey Dent, Batman sets out to dismantle the remaining criminal organizations that plague the streets. The partnership proves to be effective, but they soon find themselves prey to a reign of chaos unleashed by a rising criminal mastermind known to the terrified citizens of Gotham as the Joker.",
                        "count": 1
                      }
                    ]
                  }
                },
                {
                  "name": "runtime",
                  "dtype": "int64",
                  "stats": {
                    "unique_count": 1,
                    "nan_count": 0,
                    "min": 152,
                    "max": 152,
                    "histogram": [
                      {
                        "bin_start": 151.5,
                        "bin_end": 151.6,
                        "count": 0
                      },
                      {
                        "bin_start": 151.6,
                        "bin_end": 151.7,
                        "count": 0
                      },
                      {
                        "bin_start": 151.7,
                        "bin_end": 151.8,
                        "count": 0
                      },
                      {
                        "bin_start": 151.8,
                        "bin_end": 151.9,
                        "count": 0
                      },
                      {
                        "bin_start": 151.9,
                        "bin_end": 152,
                        "count": 0
                      },
                      {
                        "bin_start": 152,
                        "bin_end": 152.1,
                        "count": 1
                      },
                      {
                        "bin_start": 152.1,
                        "bin_end": 152.2,
                        "count": 0
                      },
                      {
                        "bin_start": 152.2,
                        "bin_end": 152.3,
                        "count": 0
                      },
                      {
                        "bin_start": 152.3,
                        "bin_end": 152.4,
                        "count": 0
                      },
                      {
                        "bin_start": 152.4,
                        "bin_end": 152.5,
                        "count": 0
                      }
                    ]
                  }
                },
                {
                  "name": "genres",
                  "dtype": "object",
                  "stats": {
                    "unique_count": 1,
                    "nan_count": 0,
                    "categories": [
                      {
                        "name": "Drama|Action|Crime|Thriller",
                        "count": 1
                      }
                    ]
                  }
                },
                {
                  "name": "production_companies",
                  "dtype": "object",
                  "stats": {
                    "unique_count": 1,
                    "nan_count": 0,
                    "categories": [
                      {
                        "name": "DC Comics|Legendary Pictures|Warner Bros.|Syncopy",
                        "count": 1
                      }
                    ]
                  }
                },
                {
                  "name": "release_date",
                  "dtype": "datetime64[ns]",
                  "stats": {
                    "unique_count": 1,
                    "nan_count": 0,
                    "min": "2008-07-16T00:00:00.000000",
                    "max": "2008-07-16T00:00:00.000000",
                    "histogram": null
                  }
                },
                {
                  "name": "vote_average",
                  "dtype": "float64",
                  "stats": {
                    "unique_count": 1,
                    "nan_count": 0,
                    "min": 8.1,
                    "max": 8.1,
                    "histogram": [
                      {
                        "bin_start": 7.6,
                        "bin_end": 7.699999999999999,
                        "count": 0
                      },
                      {
                        "bin_start": 7.699999999999999,
                        "bin_end": 7.8,
                        "count": 0
                      },
                      {
                        "bin_start": 7.8,
                        "bin_end": 7.8999999999999995,
                        "count": 0
                      },
                      {
                        "bin_start": 7.8999999999999995,
                        "bin_end": 8,
                        "count": 0
                      },
                      {
                        "bin_start": 8,
                        "bin_end": 8.1,
                        "count": 0
                      },
                      {
                        "bin_start": 8.1,
                        "bin_end": 8.2,
                        "count": 1
                      },
                      {
                        "bin_start": 8.2,
                        "bin_end": 8.299999999999999,
                        "count": 0
                      },
                      {
                        "bin_start": 8.299999999999999,
                        "bin_end": 8.4,
                        "count": 0
                      },
                      {
                        "bin_start": 8.4,
                        "bin_end": 8.5,
                        "count": 0
                      },
                      {
                        "bin_start": 8.5,
                        "bin_end": 8.6,
                        "count": 0
                      }
                    ]
                  }
                },
                {
                  "name": "release_year",
                  "dtype": "int64",
                  "stats": {
                    "unique_count": 1,
                    "nan_count": 0,
                    "min": 2008,
                    "max": 2008,
                    "histogram": [
                      {
                        "bin_start": 2007.5,
                        "bin_end": 2007.6,
                        "count": 0
                      },
                      {
                        "bin_start": 2007.6,
                        "bin_end": 2007.7,
                        "count": 0
                      },
                      {
                        "bin_start": 2007.7,
                        "bin_end": 2007.8,
                        "count": 0
                      },
                      {
                        "bin_start": 2007.8,
                        "bin_end": 2007.9,
                        "count": 0
                      },
                      {
                        "bin_start": 2007.9,
                        "bin_end": 2008,
                        "count": 0
                      },
                      {
                        "bin_start": 2008,
                        "bin_end": 2008.1,
                        "count": 1
                      },
                      {
                        "bin_start": 2008.1,
                        "bin_end": 2008.2,
                        "count": 0
                      },
                      {
                        "bin_start": 2008.2,
                        "bin_end": 2008.3,
                        "count": 0
                      },
                      {
                        "bin_start": 2008.3,
                        "bin_end": 2008.4,
                        "count": 0
                      },
                      {
                        "bin_start": 2008.4,
                        "bin_end": 2008.5,
                        "count": 0
                      }
                    ]
                  }
                },
                {
                  "name": "profit",
                  "dtype": "int64",
                  "stats": {
                    "unique_count": 1,
                    "nan_count": 0,
                    "min": 816921825,
                    "max": 816921825,
                    "histogram": [
                      {
                        "bin_start": 816921824.5,
                        "bin_end": 816921824.6,
                        "count": 0
                      },
                      {
                        "bin_start": 816921824.6,
                        "bin_end": 816921824.7,
                        "count": 0
                      },
                      {
                        "bin_start": 816921824.7,
                        "bin_end": 816921824.8,
                        "count": 0
                      },
                      {
                        "bin_start": 816921824.8,
                        "bin_end": 816921824.9,
                        "count": 0
                      },
                      {
                        "bin_start": 816921824.9,
                        "bin_end": 816921825,
                        "count": 0
                      },
                      {
                        "bin_start": 816921825,
                        "bin_end": 816921825.1,
                        "count": 1
                      },
                      {
                        "bin_start": 816921825.1,
                        "bin_end": 816921825.2,
                        "count": 0
                      },
                      {
                        "bin_start": 816921825.2,
                        "bin_end": 816921825.3,
                        "count": 0
                      },
                      {
                        "bin_start": 816921825.3,
                        "bin_end": 816921825.4,
                        "count": 0
                      },
                      {
                        "bin_start": 816921825.4,
                        "bin_end": 816921825.5,
                        "count": 0
                      }
                    ]
                  }
                },
                {
                  "name": "_deepnote_index_column",
                  "dtype": "int64"
                }
              ],
              "rows_top": [
                {
                  "imdb_id": "tt0468569",
                  "budget": 185000000,
                  "revenue": 1001921825,
                  "original_title": "The Dark Knight",
                  "cast": "Christian Bale|Michael Caine|Heath Ledger|Aaron Eckhart|Gary Oldman",
                  "director": "Christopher Nolan",
                  "tagline": "Why So Serious?",
                  "overview": "Batman raises the stakes in his war on crime. With the help of Lt. Jim Gordon and District Attorney Harvey Dent, Batman sets out to dismantle the remaining criminal organizations that plague the streets. The partnership proves to be effective, but they soon find themselves prey to a reign of chaos unleashed by a rising criminal mastermind known to the terrified citizens of Gotham as the Joker.",
                  "runtime": 152,
                  "genres": "Drama|Action|Crime|Thriller",
                  "production_companies": "DC Comics|Legendary Pictures|Warner Bros.|Syncopy",
                  "release_date": "2008-07-16T00:00:00.000000",
                  "vote_average": 8.1,
                  "release_year": 2008,
                  "profit": 816921825,
                  "_deepnote_index_column": 599
                }
              ],
              "rows_bottom": null
            },
            "text/plain": "       imdb_id     budget     revenue   original_title  \\\n599  tt0468569  185000000  1001921825  The Dark Knight   \n\n                                                  cast           director  \\\n599  Christian Bale|Michael Caine|Heath Ledger|Aaro...  Christopher Nolan   \n\n             tagline                                           overview  \\\n599  Why So Serious?  Batman raises the stakes in his war on crime. ...   \n\n     runtime                       genres  \\\n599      152  Drama|Action|Crime|Thriller   \n\n                                  production_companies release_date  \\\n599  DC Comics|Legendary Pictures|Warner Bros.|Syncopy   2008-07-16   \n\n     vote_average  release_year     profit  \n599           8.1          2008  816921825  ",
            "text/html": "<div>\n<style scoped>\n    .dataframe tbody tr th:only-of-type {\n        vertical-align: middle;\n    }\n\n    .dataframe tbody tr th {\n        vertical-align: top;\n    }\n\n    .dataframe thead th {\n        text-align: right;\n    }\n</style>\n<table border=\"1\" class=\"dataframe\">\n  <thead>\n    <tr style=\"text-align: right;\">\n      <th></th>\n      <th>imdb_id</th>\n      <th>budget</th>\n      <th>revenue</th>\n      <th>original_title</th>\n      <th>cast</th>\n      <th>director</th>\n      <th>tagline</th>\n      <th>overview</th>\n      <th>runtime</th>\n      <th>genres</th>\n      <th>production_companies</th>\n      <th>release_date</th>\n      <th>vote_average</th>\n      <th>release_year</th>\n      <th>profit</th>\n    </tr>\n  </thead>\n  <tbody>\n    <tr>\n      <th>599</th>\n      <td>tt0468569</td>\n      <td>185000000</td>\n      <td>1001921825</td>\n      <td>The Dark Knight</td>\n      <td>Christian Bale|Michael Caine|Heath Ledger|Aaro...</td>\n      <td>Christopher Nolan</td>\n      <td>Why So Serious?</td>\n      <td>Batman raises the stakes in his war on crime. ...</td>\n      <td>152</td>\n      <td>Drama|Action|Crime|Thriller</td>\n      <td>DC Comics|Legendary Pictures|Warner Bros.|Syncopy</td>\n      <td>2008-07-16</td>\n      <td>8.1</td>\n      <td>2008</td>\n      <td>816921825</td>\n    </tr>\n  </tbody>\n</table>\n</div>"
          },
          "metadata": {}
        }
      ]
    },
    {
      "cell_type": "markdown",
      "source": "# 10. Самый убыточный фильм за период с 2012 по 2014 г. (включительно)?\n",
      "metadata": {
        "colab_type": "text",
        "id": "Zi4hDKidVp_F",
        "cell_id": "00028-20c4c7e9-b220-4059-bd70-99fead6c3747",
        "deepnote_cell_type": "markdown"
      }
    },
    {
      "cell_type": "code",
      "metadata": {
        "colab": {},
        "colab_type": "code",
        "id": "XqyRmufJVp_F",
        "cell_id": "00029-a6fdd8cc-3a7b-48a7-a447-a9c804ab9696",
        "deepnote_to_be_reexecuted": false,
        "source_hash": "c9c0b102",
        "execution_millis": 2,
        "execution_start": 1615836199342,
        "deepnote_cell_type": "code"
      },
      "source": "answers['10'] = 'The Lone Ranger (tt1210819)'",
      "execution_count": 24,
      "outputs": []
    },
    {
      "cell_type": "code",
      "metadata": {
        "tags": [],
        "cell_id": "00037-bcec7fcf-4e2d-4f90-91da-b0b087488bfa",
        "deepnote_to_be_reexecuted": false,
        "source_hash": "e2d0da3d",
        "execution_millis": 59,
        "execution_start": 1615836199357,
        "deepnote_cell_type": "code"
      },
      "source": "data.loc[data.profit == data.profit.loc[(data.release_year >= 2012) & (data.release_year <= 2014)].min()]",
      "execution_count": 25,
      "outputs": [
        {
          "name": "stderr",
          "text": "/shared-libs/python3.7/py/lib/python3.7/site-packages/numpy/lib/histograms.py:822: RuntimeWarning: divide by zero encountered in double_scalars\n  norm = n_equal_bins / _unsigned_subtract(last_edge, first_edge)\n/shared-libs/python3.7/py/lib/python3.7/site-packages/numpy/lib/histograms.py:850: RuntimeWarning: invalid value encountered in multiply\n  f_indices = _unsigned_subtract(tmp_a, first_edge) * norm\n",
          "output_type": "stream"
        },
        {
          "output_type": "execute_result",
          "execution_count": 25,
          "data": {
            "application/vnd.deepnote.dataframe.v2+json": {
              "row_count": 1,
              "column_count": 15,
              "columns": [
                {
                  "name": "imdb_id",
                  "dtype": "object",
                  "stats": {
                    "unique_count": 1,
                    "nan_count": 0,
                    "categories": [
                      {
                        "name": "tt1210819",
                        "count": 1
                      }
                    ]
                  }
                },
                {
                  "name": "budget",
                  "dtype": "int64",
                  "stats": {
                    "unique_count": 1,
                    "nan_count": 0,
                    "min": 255000000,
                    "max": 255000000,
                    "histogram": [
                      {
                        "bin_start": 254999999.5,
                        "bin_end": 254999999.6,
                        "count": 0
                      },
                      {
                        "bin_start": 254999999.6,
                        "bin_end": 254999999.7,
                        "count": 0
                      },
                      {
                        "bin_start": 254999999.7,
                        "bin_end": 254999999.8,
                        "count": 0
                      },
                      {
                        "bin_start": 254999999.8,
                        "bin_end": 254999999.9,
                        "count": 0
                      },
                      {
                        "bin_start": 254999999.9,
                        "bin_end": 255000000,
                        "count": 0
                      },
                      {
                        "bin_start": 255000000,
                        "bin_end": 255000000.1,
                        "count": 1
                      },
                      {
                        "bin_start": 255000000.1,
                        "bin_end": 255000000.2,
                        "count": 0
                      },
                      {
                        "bin_start": 255000000.2,
                        "bin_end": 255000000.3,
                        "count": 0
                      },
                      {
                        "bin_start": 255000000.3,
                        "bin_end": 255000000.4,
                        "count": 0
                      },
                      {
                        "bin_start": 255000000.4,
                        "bin_end": 255000000.5,
                        "count": 0
                      }
                    ]
                  }
                },
                {
                  "name": "revenue",
                  "dtype": "int64",
                  "stats": {
                    "unique_count": 1,
                    "nan_count": 0,
                    "min": 89289910,
                    "max": 89289910,
                    "histogram": [
                      {
                        "bin_start": 89289909.5,
                        "bin_end": 89289909.6,
                        "count": 0
                      },
                      {
                        "bin_start": 89289909.6,
                        "bin_end": 89289909.7,
                        "count": 0
                      },
                      {
                        "bin_start": 89289909.7,
                        "bin_end": 89289909.8,
                        "count": 0
                      },
                      {
                        "bin_start": 89289909.8,
                        "bin_end": 89289909.9,
                        "count": 0
                      },
                      {
                        "bin_start": 89289909.9,
                        "bin_end": 89289910,
                        "count": 0
                      },
                      {
                        "bin_start": 89289910,
                        "bin_end": 89289910.1,
                        "count": 1
                      },
                      {
                        "bin_start": 89289910.1,
                        "bin_end": 89289910.2,
                        "count": 0
                      },
                      {
                        "bin_start": 89289910.2,
                        "bin_end": 89289910.3,
                        "count": 0
                      },
                      {
                        "bin_start": 89289910.3,
                        "bin_end": 89289910.4,
                        "count": 0
                      },
                      {
                        "bin_start": 89289910.4,
                        "bin_end": 89289910.5,
                        "count": 0
                      }
                    ]
                  }
                },
                {
                  "name": "original_title",
                  "dtype": "object",
                  "stats": {
                    "unique_count": 1,
                    "nan_count": 0,
                    "categories": [
                      {
                        "name": "The Lone Ranger",
                        "count": 1
                      }
                    ]
                  }
                },
                {
                  "name": "cast",
                  "dtype": "object",
                  "stats": {
                    "unique_count": 1,
                    "nan_count": 0,
                    "categories": [
                      {
                        "name": "Johnny Depp|Armie Hammer|William Fichtner|Helena Bonham Carter|James Badge Dale",
                        "count": 1
                      }
                    ]
                  }
                },
                {
                  "name": "director",
                  "dtype": "object",
                  "stats": {
                    "unique_count": 1,
                    "nan_count": 0,
                    "categories": [
                      {
                        "name": "Gore Verbinski",
                        "count": 1
                      }
                    ]
                  }
                },
                {
                  "name": "tagline",
                  "dtype": "object",
                  "stats": {
                    "unique_count": 1,
                    "nan_count": 0,
                    "categories": [
                      {
                        "name": "Never Take Off the Mask",
                        "count": 1
                      }
                    ]
                  }
                },
                {
                  "name": "overview",
                  "dtype": "object",
                  "stats": {
                    "unique_count": 1,
                    "nan_count": 0,
                    "categories": [
                      {
                        "name": "The Texas Rangers chase down a gang of outlaws led by Butch Cavendish, but the gang ambushes the Rangers, seemingly killing them all. One survivor is found, however, by an American Indian named Tonto, who nurses him back to health. The Ranger, donning a mask and riding a white stallion named Silver, teams up with Tonto to bring the unscrupulous gang and others of that ilk to justice.",
                        "count": 1
                      }
                    ]
                  }
                },
                {
                  "name": "runtime",
                  "dtype": "int64",
                  "stats": {
                    "unique_count": 1,
                    "nan_count": 0,
                    "min": 149,
                    "max": 149,
                    "histogram": [
                      {
                        "bin_start": 148.5,
                        "bin_end": 148.6,
                        "count": 0
                      },
                      {
                        "bin_start": 148.6,
                        "bin_end": 148.7,
                        "count": 0
                      },
                      {
                        "bin_start": 148.7,
                        "bin_end": 148.8,
                        "count": 0
                      },
                      {
                        "bin_start": 148.8,
                        "bin_end": 148.9,
                        "count": 0
                      },
                      {
                        "bin_start": 148.9,
                        "bin_end": 149,
                        "count": 0
                      },
                      {
                        "bin_start": 149,
                        "bin_end": 149.1,
                        "count": 1
                      },
                      {
                        "bin_start": 149.1,
                        "bin_end": 149.2,
                        "count": 0
                      },
                      {
                        "bin_start": 149.2,
                        "bin_end": 149.3,
                        "count": 0
                      },
                      {
                        "bin_start": 149.3,
                        "bin_end": 149.4,
                        "count": 0
                      },
                      {
                        "bin_start": 149.4,
                        "bin_end": 149.5,
                        "count": 0
                      }
                    ]
                  }
                },
                {
                  "name": "genres",
                  "dtype": "object",
                  "stats": {
                    "unique_count": 1,
                    "nan_count": 0,
                    "categories": [
                      {
                        "name": "Action|Adventure|Western",
                        "count": 1
                      }
                    ]
                  }
                },
                {
                  "name": "production_companies",
                  "dtype": "object",
                  "stats": {
                    "unique_count": 1,
                    "nan_count": 0,
                    "categories": [
                      {
                        "name": "Walt Disney Pictures|Jerry Bruckheimer Films|Infinitum Nihil|Silver Bullet Productions (II)|Blind Wink Productions",
                        "count": 1
                      }
                    ]
                  }
                },
                {
                  "name": "release_date",
                  "dtype": "datetime64[ns]",
                  "stats": {
                    "unique_count": 1,
                    "nan_count": 0,
                    "min": "2013-07-03T00:00:00.000000",
                    "max": "2013-07-03T00:00:00.000000",
                    "histogram": null
                  }
                },
                {
                  "name": "vote_average",
                  "dtype": "float64",
                  "stats": {
                    "unique_count": 1,
                    "nan_count": 0,
                    "min": 6,
                    "max": 6,
                    "histogram": [
                      {
                        "bin_start": 5.5,
                        "bin_end": 5.6,
                        "count": 0
                      },
                      {
                        "bin_start": 5.6,
                        "bin_end": 5.7,
                        "count": 0
                      },
                      {
                        "bin_start": 5.7,
                        "bin_end": 5.8,
                        "count": 0
                      },
                      {
                        "bin_start": 5.8,
                        "bin_end": 5.9,
                        "count": 0
                      },
                      {
                        "bin_start": 5.9,
                        "bin_end": 6,
                        "count": 0
                      },
                      {
                        "bin_start": 6,
                        "bin_end": 6.1,
                        "count": 1
                      },
                      {
                        "bin_start": 6.1,
                        "bin_end": 6.2,
                        "count": 0
                      },
                      {
                        "bin_start": 6.2,
                        "bin_end": 6.3,
                        "count": 0
                      },
                      {
                        "bin_start": 6.3,
                        "bin_end": 6.4,
                        "count": 0
                      },
                      {
                        "bin_start": 6.4,
                        "bin_end": 6.5,
                        "count": 0
                      }
                    ]
                  }
                },
                {
                  "name": "release_year",
                  "dtype": "int64",
                  "stats": {
                    "unique_count": 1,
                    "nan_count": 0,
                    "min": 2013,
                    "max": 2013,
                    "histogram": [
                      {
                        "bin_start": 2012.5,
                        "bin_end": 2012.6,
                        "count": 0
                      },
                      {
                        "bin_start": 2012.6,
                        "bin_end": 2012.7,
                        "count": 0
                      },
                      {
                        "bin_start": 2012.7,
                        "bin_end": 2012.8,
                        "count": 0
                      },
                      {
                        "bin_start": 2012.8,
                        "bin_end": 2012.9,
                        "count": 0
                      },
                      {
                        "bin_start": 2012.9,
                        "bin_end": 2013,
                        "count": 0
                      },
                      {
                        "bin_start": 2013,
                        "bin_end": 2013.1,
                        "count": 1
                      },
                      {
                        "bin_start": 2013.1,
                        "bin_end": 2013.2,
                        "count": 0
                      },
                      {
                        "bin_start": 2013.2,
                        "bin_end": 2013.3,
                        "count": 0
                      },
                      {
                        "bin_start": 2013.3,
                        "bin_end": 2013.4,
                        "count": 0
                      },
                      {
                        "bin_start": 2013.4,
                        "bin_end": 2013.5,
                        "count": 0
                      }
                    ]
                  }
                },
                {
                  "name": "profit",
                  "dtype": "int64",
                  "stats": {
                    "unique_count": 1,
                    "nan_count": 0,
                    "min": -165710090,
                    "max": -165710090,
                    "histogram": [
                      {
                        "bin_start": -165710090.5,
                        "bin_end": -165710090.4,
                        "count": 0
                      },
                      {
                        "bin_start": -165710090.4,
                        "bin_end": -165710090.3,
                        "count": 0
                      },
                      {
                        "bin_start": -165710090.3,
                        "bin_end": -165710090.2,
                        "count": 0
                      },
                      {
                        "bin_start": -165710090.2,
                        "bin_end": -165710090.1,
                        "count": 0
                      },
                      {
                        "bin_start": -165710090.1,
                        "bin_end": -165710090,
                        "count": 0
                      },
                      {
                        "bin_start": -165710090,
                        "bin_end": -165710089.9,
                        "count": 1
                      },
                      {
                        "bin_start": -165710089.9,
                        "bin_end": -165710089.8,
                        "count": 0
                      },
                      {
                        "bin_start": -165710089.8,
                        "bin_end": -165710089.7,
                        "count": 0
                      },
                      {
                        "bin_start": -165710089.7,
                        "bin_end": -165710089.6,
                        "count": 0
                      },
                      {
                        "bin_start": -165710089.6,
                        "bin_end": -165710089.5,
                        "count": 0
                      }
                    ]
                  }
                },
                {
                  "name": "_deepnote_index_column",
                  "dtype": "int64"
                }
              ],
              "rows_top": [
                {
                  "imdb_id": "tt1210819",
                  "budget": 255000000,
                  "revenue": 89289910,
                  "original_title": "The Lone Ranger",
                  "cast": "Johnny Depp|Armie Hammer|William Fichtner|Helena Bonham Carter|James Badge Dale",
                  "director": "Gore Verbinski",
                  "tagline": "Never Take Off the Mask",
                  "overview": "The Texas Rangers chase down a gang of outlaws led by Butch Cavendish, but the gang ambushes the Rangers, seemingly killing them all. One survivor is found, however, by an American Indian named Tonto, who nurses him back to health. The Ranger, donning a mask and riding a white stallion named Silver, teams up with Tonto to bring the unscrupulous gang and others of that ilk to justice.",
                  "runtime": 149,
                  "genres": "Action|Adventure|Western",
                  "production_companies": "Walt Disney Pictures|Jerry Bruckheimer Films|Infinitum Nihil|Silver Bullet Productions (II)|Blind Wink Productions",
                  "release_date": "2013-07-03T00:00:00.000000",
                  "vote_average": 6,
                  "release_year": 2013,
                  "profit": -165710090,
                  "_deepnote_index_column": 1245
                }
              ],
              "rows_bottom": null
            },
            "text/plain": "        imdb_id     budget   revenue   original_title  \\\n1245  tt1210819  255000000  89289910  The Lone Ranger   \n\n                                                   cast        director  \\\n1245  Johnny Depp|Armie Hammer|William Fichtner|Hele...  Gore Verbinski   \n\n                      tagline  \\\n1245  Never Take Off the Mask   \n\n                                               overview  runtime  \\\n1245  The Texas Rangers chase down a gang of outlaws...      149   \n\n                        genres  \\\n1245  Action|Adventure|Western   \n\n                                   production_companies release_date  \\\n1245  Walt Disney Pictures|Jerry Bruckheimer Films|I...   2013-07-03   \n\n      vote_average  release_year     profit  \n1245           6.0          2013 -165710090  ",
            "text/html": "<div>\n<style scoped>\n    .dataframe tbody tr th:only-of-type {\n        vertical-align: middle;\n    }\n\n    .dataframe tbody tr th {\n        vertical-align: top;\n    }\n\n    .dataframe thead th {\n        text-align: right;\n    }\n</style>\n<table border=\"1\" class=\"dataframe\">\n  <thead>\n    <tr style=\"text-align: right;\">\n      <th></th>\n      <th>imdb_id</th>\n      <th>budget</th>\n      <th>revenue</th>\n      <th>original_title</th>\n      <th>cast</th>\n      <th>director</th>\n      <th>tagline</th>\n      <th>overview</th>\n      <th>runtime</th>\n      <th>genres</th>\n      <th>production_companies</th>\n      <th>release_date</th>\n      <th>vote_average</th>\n      <th>release_year</th>\n      <th>profit</th>\n    </tr>\n  </thead>\n  <tbody>\n    <tr>\n      <th>1245</th>\n      <td>tt1210819</td>\n      <td>255000000</td>\n      <td>89289910</td>\n      <td>The Lone Ranger</td>\n      <td>Johnny Depp|Armie Hammer|William Fichtner|Hele...</td>\n      <td>Gore Verbinski</td>\n      <td>Never Take Off the Mask</td>\n      <td>The Texas Rangers chase down a gang of outlaws...</td>\n      <td>149</td>\n      <td>Action|Adventure|Western</td>\n      <td>Walt Disney Pictures|Jerry Bruckheimer Films|I...</td>\n      <td>2013-07-03</td>\n      <td>6.0</td>\n      <td>2013</td>\n      <td>-165710090</td>\n    </tr>\n  </tbody>\n</table>\n</div>"
          },
          "metadata": {}
        }
      ]
    },
    {
      "cell_type": "markdown",
      "source": "# 11. Какого жанра фильмов больше всего?",
      "metadata": {
        "colab_type": "text",
        "id": "EA7Sa9dkVp_I",
        "cell_id": "00030-07bc0b81-3117-465c-9182-a28bce284312",
        "deepnote_cell_type": "markdown"
      }
    },
    {
      "cell_type": "code",
      "metadata": {
        "tags": [],
        "cell_id": "00040-55bb3812-583a-45eb-a270-b844d8a1fbb8",
        "deepnote_to_be_reexecuted": false,
        "source_hash": "b2bc3c5d",
        "execution_millis": 1,
        "execution_start": 1615836199397,
        "deepnote_cell_type": "code"
      },
      "source": "answers['11'] = 'Drama'",
      "execution_count": 26,
      "outputs": []
    },
    {
      "cell_type": "code",
      "metadata": {
        "colab": {},
        "colab_type": "code",
        "id": "zsJAwJ8QVp_J",
        "cell_id": "00031-d5704070-010b-410a-b152-a01026d3334b",
        "deepnote_to_be_reexecuted": false,
        "source_hash": "e6319955",
        "execution_millis": 30,
        "execution_start": 1615836199426,
        "deepnote_cell_type": "code"
      },
      "source": "# эту задачу тоже можно решать разными подходами, попробуй реализовать разные варианты\n# если будешь добавлять функцию - выноси ее в предобработку что в начале\n\nprint(data.genres.apply(unpack).explode().value_counts().index[0])",
      "execution_count": 27,
      "outputs": [
        {
          "name": "stdout",
          "text": "Drama\n",
          "output_type": "stream"
        }
      ]
    },
    {
      "cell_type": "markdown",
      "source": "ВАРИАНТ 2",
      "metadata": {
        "colab_type": "text",
        "id": "Ax6g2C8SVp_M",
        "cell_id": "00032-09cd1c61-9cd7-4d76-9693-53e63ed24764",
        "deepnote_cell_type": "markdown"
      }
    },
    {
      "cell_type": "code",
      "metadata": {
        "colab": {},
        "colab_type": "code",
        "id": "otO3SbrSVp_N",
        "cell_id": "00033-243f0889-0c3f-467a-a40e-c02010f2850c",
        "deepnote_to_be_reexecuted": false,
        "source_hash": "b623e53d",
        "execution_millis": 0,
        "execution_start": 1615836199427,
        "deepnote_cell_type": "code"
      },
      "source": "",
      "execution_count": 27,
      "outputs": []
    },
    {
      "cell_type": "markdown",
      "source": "# 12. Фильмы какого жанра чаще всего становятся прибыльными? ",
      "metadata": {
        "colab_type": "text",
        "id": "T9_bPWpkVp_Q",
        "cell_id": "00034-89423716-4b5a-4677-a1bd-d45e5c9a03b3",
        "deepnote_cell_type": "markdown"
      }
    },
    {
      "cell_type": "code",
      "metadata": {
        "tags": [],
        "cell_id": "00044-94806449-b03f-40b4-90cd-bbae9d0cab06",
        "deepnote_to_be_reexecuted": false,
        "source_hash": "3d87428b",
        "execution_millis": 0,
        "execution_start": 1615836199427,
        "deepnote_cell_type": "code"
      },
      "source": "answers['12'] = 'Drama'",
      "execution_count": 28,
      "outputs": []
    },
    {
      "cell_type": "code",
      "metadata": {
        "colab": {},
        "colab_type": "code",
        "id": "Tmt8MaK1Vp_R",
        "cell_id": "00035-1d7750d9-85a2-45f3-80e1-a44e56293574",
        "deepnote_to_be_reexecuted": false,
        "source_hash": "40fc1f25",
        "execution_millis": 22,
        "execution_start": 1615836199434,
        "deepnote_cell_type": "code"
      },
      "source": "print(data.loc[data.profit > 0].genres.apply(unpack).explode().value_counts().index[0])",
      "execution_count": 29,
      "outputs": [
        {
          "name": "stdout",
          "text": "Drama\n",
          "output_type": "stream"
        }
      ]
    },
    {
      "cell_type": "markdown",
      "source": "# 13. У какого режиссера самые большие суммарные кассовые сборы?",
      "metadata": {
        "colab_type": "text",
        "id": "0F23bgsDVp_U",
        "cell_id": "00036-3d34da4b-f615-44cb-afff-b72c450c8556",
        "deepnote_cell_type": "markdown"
      }
    },
    {
      "cell_type": "code",
      "metadata": {
        "tags": [],
        "cell_id": "00048-d8bf2071-cd72-4bd9-bb48-57aa2bc336ff",
        "deepnote_to_be_reexecuted": false,
        "source_hash": "428e2a0c",
        "execution_millis": 0,
        "execution_start": 1615836199437,
        "deepnote_cell_type": "code"
      },
      "source": "answers['13'] = 'Peter Jackson'",
      "execution_count": 30,
      "outputs": []
    },
    {
      "cell_type": "code",
      "metadata": {
        "colab": {},
        "colab_type": "code",
        "id": "K6Z3J8ygVp_X",
        "cell_id": "00037-eda0ffff-899b-4e23-9866-23f090333281",
        "deepnote_to_be_reexecuted": false,
        "source_hash": "195b3d64",
        "execution_millis": 98,
        "execution_start": 1615836199444,
        "deepnote_cell_type": "code"
      },
      "source": "director_unpack = data.director.apply(unpack).explode()\ndirector_unpack.name = 'director_unpack'\nconcatenated = pd.concat([data, director_unpack], axis=1)\nprint(concatenated.groupby(['director_unpack'])['revenue'].sum().sort_values(ascending=False).index[0])",
      "execution_count": 31,
      "outputs": [
        {
          "name": "stdout",
          "text": "Peter Jackson\n",
          "output_type": "stream"
        }
      ]
    },
    {
      "cell_type": "markdown",
      "source": "# 14. Какой режисер снял больше всего фильмов в стиле Action?",
      "metadata": {
        "colab_type": "text",
        "id": "PsYC9FgRVp_a",
        "cell_id": "00038-39aae1d4-a630-4003-b9c7-fc903cdee77e",
        "deepnote_cell_type": "markdown"
      }
    },
    {
      "cell_type": "code",
      "metadata": {
        "tags": [],
        "cell_id": "00050-6b134f57-3b2b-4c28-bc6d-b10b5e50a0be",
        "deepnote_to_be_reexecuted": false,
        "source_hash": "93bb8cfd",
        "execution_millis": 4,
        "execution_start": 1615836199456,
        "deepnote_cell_type": "code"
      },
      "source": "answers['14'] = 'Robert Rodriguez'",
      "execution_count": 32,
      "outputs": []
    },
    {
      "cell_type": "code",
      "metadata": {
        "colab": {},
        "colab_type": "code",
        "id": "wd2M-wHeVp_b",
        "cell_id": "00039-bfcf8e75-1a02-4e34-aed7-da742030c065",
        "deepnote_to_be_reexecuted": false,
        "source_hash": "de31bdbd",
        "execution_millis": 81,
        "execution_start": 1615836199462,
        "deepnote_cell_type": "code"
      },
      "source": "print(concatenated.loc[concatenated.genres.str.contains('Action')]['director_unpack'].value_counts().index[0])",
      "execution_count": 33,
      "outputs": [
        {
          "name": "stdout",
          "text": "Robert Rodriguez\n",
          "output_type": "stream"
        }
      ]
    },
    {
      "cell_type": "markdown",
      "source": "# 15. Фильмы с каким актером принесли самые высокие кассовые сборы в 2012 году? ",
      "metadata": {
        "colab_type": "text",
        "id": "PQ0KciD7Vp_f",
        "cell_id": "00040-d2f63103-e8df-49a4-84da-a912baeede7f",
        "deepnote_cell_type": "markdown"
      }
    },
    {
      "cell_type": "code",
      "metadata": {
        "tags": [],
        "cell_id": "00053-93570309-2e2d-47d9-9cae-531d9d1554a8",
        "deepnote_to_be_reexecuted": false,
        "source_hash": "afca8d88",
        "execution_millis": 6,
        "execution_start": 1615836199468,
        "deepnote_cell_type": "code"
      },
      "source": "answers['15'] = 'Chris Hemsworth'",
      "execution_count": 34,
      "outputs": []
    },
    {
      "cell_type": "code",
      "metadata": {
        "colab": {},
        "colab_type": "code",
        "id": "aga62oeKVp_g",
        "cell_id": "00041-78422e07-68ef-4e85-ae9f-17ae50d9a4ad",
        "deepnote_to_be_reexecuted": false,
        "source_hash": "3eaacfe2",
        "execution_millis": 64,
        "execution_start": 1615836199479,
        "deepnote_cell_type": "code"
      },
      "source": "data_actor = data.loc[data.release_year == 2012].copy()\ndata_actor['cast'] = data_actor['cast'].str.split(\"|\")\ndata_actor = data_actor.explode('cast')\nprint(data_actor.groupby(['cast'])['revenue'].sum().sort_values(ascending=False).index[0])",
      "execution_count": 35,
      "outputs": [
        {
          "name": "stdout",
          "text": "Chris Hemsworth\n",
          "output_type": "stream"
        }
      ]
    },
    {
      "cell_type": "markdown",
      "source": "# 16. Какой актер снялся в большем количестве высокобюджетных фильмов?",
      "metadata": {
        "colab_type": "text",
        "id": "mWHyyL7QVp_j",
        "cell_id": "00042-d9477591-efea-4715-b2d6-c7cce9e435f9",
        "deepnote_cell_type": "markdown"
      }
    },
    {
      "cell_type": "code",
      "metadata": {
        "tags": [],
        "cell_id": "00056-e1169b6f-4f46-48f1-9060-51076fa55337",
        "deepnote_to_be_reexecuted": false,
        "source_hash": "789fed8d",
        "execution_millis": 5,
        "execution_start": 1615836199489,
        "deepnote_cell_type": "code"
      },
      "source": "answers['16'] = 'Matt Damon'",
      "execution_count": 36,
      "outputs": []
    },
    {
      "cell_type": "code",
      "metadata": {
        "colab": {},
        "colab_type": "code",
        "id": "qQtmHKTFVp_k",
        "cell_id": "00043-d4f3bab5-adc6-4f96-85c2-9e539f85610a",
        "deepnote_to_be_reexecuted": false,
        "source_hash": "699e01c3",
        "execution_millis": 51,
        "execution_start": 1615836199496,
        "deepnote_cell_type": "code"
      },
      "source": "data_actor = data.copy()\ndata_actor['cast'] = data_actor['cast'].str.split('|')\ndata_actor = data_actor.explode('cast')\nprint(data_actor.loc[data_actor.budget > data_actor.budget.mean()]['cast'].value_counts().idxmax())",
      "execution_count": 37,
      "outputs": [
        {
          "name": "stdout",
          "text": "Matt Damon\n",
          "output_type": "stream"
        }
      ]
    },
    {
      "cell_type": "markdown",
      "source": "# 17. В фильмах какого жанра больше всего снимался Nicolas Cage? ",
      "metadata": {
        "colab_type": "text",
        "id": "NIh6AaW5Vp_n",
        "cell_id": "00044-e8aab55c-b74a-4364-a559-1c6204d1e0a2",
        "deepnote_cell_type": "markdown"
      }
    },
    {
      "cell_type": "code",
      "metadata": {
        "tags": [],
        "cell_id": "00059-10bab704-5a3c-409c-8d9f-3554d95123d6",
        "deepnote_to_be_reexecuted": false,
        "source_hash": "ee6fa83b",
        "execution_millis": 1,
        "execution_start": 1615836199557,
        "deepnote_cell_type": "code"
      },
      "source": "answers['17'] = 'Action'",
      "execution_count": 38,
      "outputs": []
    },
    {
      "cell_type": "code",
      "metadata": {
        "colab": {},
        "colab_type": "code",
        "id": "H74SJDIBVp_n",
        "cell_id": "00045-2b1bcc5c-dea5-4164-8c9c-8b757afc0281",
        "deepnote_to_be_reexecuted": false,
        "source_hash": "c27713db",
        "execution_millis": 10,
        "output_cleared": false,
        "execution_start": 1615836199558,
        "deepnote_cell_type": "code"
      },
      "source": "data_nicolos = data.loc[data['cast'].str.contains('Nicolas Cage')].copy()\ndata_nicolos['genres'] = data_nicolos['genres'].str.split('|')\ndata_nicolos = data_nicolos.explode('genres')\nprint(data_nicolos['genres'].value_counts().idxmax())",
      "execution_count": 39,
      "outputs": [
        {
          "name": "stdout",
          "text": "Action\n",
          "output_type": "stream"
        }
      ]
    },
    {
      "cell_type": "markdown",
      "source": "# 18. Самый убыточный фильм от Paramount Pictures",
      "metadata": {
        "colab_type": "text",
        "id": "RqOmPRfWVp_q",
        "cell_id": "00046-6800358f-6c87-47e4-9db6-3df160bae909",
        "deepnote_cell_type": "markdown"
      }
    },
    {
      "cell_type": "code",
      "metadata": {
        "tags": [],
        "cell_id": "00062-6938087d-944d-4054-b933-6ff8bb36e22d",
        "deepnote_to_be_reexecuted": false,
        "source_hash": "d17774dc",
        "execution_millis": 1,
        "execution_start": 1615836199559,
        "deepnote_cell_type": "code"
      },
      "source": "answers['18'] = 'K-19: The Widowmaker (tt0267626)'",
      "execution_count": 40,
      "outputs": []
    },
    {
      "cell_type": "code",
      "metadata": {
        "colab": {},
        "colab_type": "code",
        "id": "9E_B0Y96Vp_r",
        "cell_id": "00047-3d1e3342-2bd0-4f25-bab8-0fbb75f88d90",
        "deepnote_to_be_reexecuted": false,
        "source_hash": "49a19b3e",
        "execution_millis": 47,
        "execution_start": 1615836199586,
        "deepnote_cell_type": "code"
      },
      "source": "data_paramount = data.loc[data.production_companies.str.contains('Paramount Pictures')].copy()\ndata_paramount.loc[data_paramount.profit == data_paramount.profit.min()]",
      "execution_count": 41,
      "outputs": [
        {
          "name": "stderr",
          "text": "/shared-libs/python3.7/py/lib/python3.7/site-packages/numpy/lib/histograms.py:822: RuntimeWarning: divide by zero encountered in double_scalars\n  norm = n_equal_bins / _unsigned_subtract(last_edge, first_edge)\n/shared-libs/python3.7/py/lib/python3.7/site-packages/numpy/lib/histograms.py:850: RuntimeWarning: invalid value encountered in multiply\n  f_indices = _unsigned_subtract(tmp_a, first_edge) * norm\n",
          "output_type": "stream"
        },
        {
          "output_type": "execute_result",
          "execution_count": 41,
          "data": {
            "application/vnd.deepnote.dataframe.v2+json": {
              "row_count": 1,
              "column_count": 15,
              "columns": [
                {
                  "name": "imdb_id",
                  "dtype": "object",
                  "stats": {
                    "unique_count": 1,
                    "nan_count": 0,
                    "categories": [
                      {
                        "name": "tt0267626",
                        "count": 1
                      }
                    ]
                  }
                },
                {
                  "name": "budget",
                  "dtype": "int64",
                  "stats": {
                    "unique_count": 1,
                    "nan_count": 0,
                    "min": 100000000,
                    "max": 100000000,
                    "histogram": [
                      {
                        "bin_start": 99999999.5,
                        "bin_end": 99999999.6,
                        "count": 0
                      },
                      {
                        "bin_start": 99999999.6,
                        "bin_end": 99999999.7,
                        "count": 0
                      },
                      {
                        "bin_start": 99999999.7,
                        "bin_end": 99999999.8,
                        "count": 0
                      },
                      {
                        "bin_start": 99999999.8,
                        "bin_end": 99999999.9,
                        "count": 0
                      },
                      {
                        "bin_start": 99999999.9,
                        "bin_end": 100000000,
                        "count": 0
                      },
                      {
                        "bin_start": 100000000,
                        "bin_end": 100000000.1,
                        "count": 1
                      },
                      {
                        "bin_start": 100000000.1,
                        "bin_end": 100000000.2,
                        "count": 0
                      },
                      {
                        "bin_start": 100000000.2,
                        "bin_end": 100000000.3,
                        "count": 0
                      },
                      {
                        "bin_start": 100000000.3,
                        "bin_end": 100000000.4,
                        "count": 0
                      },
                      {
                        "bin_start": 100000000.4,
                        "bin_end": 100000000.5,
                        "count": 0
                      }
                    ]
                  }
                },
                {
                  "name": "revenue",
                  "dtype": "int64",
                  "stats": {
                    "unique_count": 1,
                    "nan_count": 0,
                    "min": 35168966,
                    "max": 35168966,
                    "histogram": [
                      {
                        "bin_start": 35168965.5,
                        "bin_end": 35168965.6,
                        "count": 0
                      },
                      {
                        "bin_start": 35168965.6,
                        "bin_end": 35168965.7,
                        "count": 0
                      },
                      {
                        "bin_start": 35168965.7,
                        "bin_end": 35168965.8,
                        "count": 0
                      },
                      {
                        "bin_start": 35168965.8,
                        "bin_end": 35168965.9,
                        "count": 0
                      },
                      {
                        "bin_start": 35168965.9,
                        "bin_end": 35168966,
                        "count": 0
                      },
                      {
                        "bin_start": 35168966,
                        "bin_end": 35168966.1,
                        "count": 1
                      },
                      {
                        "bin_start": 35168966.1,
                        "bin_end": 35168966.2,
                        "count": 0
                      },
                      {
                        "bin_start": 35168966.2,
                        "bin_end": 35168966.3,
                        "count": 0
                      },
                      {
                        "bin_start": 35168966.3,
                        "bin_end": 35168966.4,
                        "count": 0
                      },
                      {
                        "bin_start": 35168966.4,
                        "bin_end": 35168966.5,
                        "count": 0
                      }
                    ]
                  }
                },
                {
                  "name": "original_title",
                  "dtype": "object",
                  "stats": {
                    "unique_count": 1,
                    "nan_count": 0,
                    "categories": [
                      {
                        "name": "K-19: The Widowmaker",
                        "count": 1
                      }
                    ]
                  }
                },
                {
                  "name": "cast",
                  "dtype": "object",
                  "stats": {
                    "unique_count": 1,
                    "nan_count": 0,
                    "categories": [
                      {
                        "name": "Harrison Ford|Liam Neeson|Peter Sarsgaard|Joss Ackland|John Shrapnel",
                        "count": 1
                      }
                    ]
                  }
                },
                {
                  "name": "director",
                  "dtype": "object",
                  "stats": {
                    "unique_count": 1,
                    "nan_count": 0,
                    "categories": [
                      {
                        "name": "Kathryn Bigelow",
                        "count": 1
                      }
                    ]
                  }
                },
                {
                  "name": "tagline",
                  "dtype": "object",
                  "stats": {
                    "unique_count": 1,
                    "nan_count": 0,
                    "categories": [
                      {
                        "name": "Fate has found its hero.",
                        "count": 1
                      }
                    ]
                  }
                },
                {
                  "name": "overview",
                  "dtype": "object",
                  "stats": {
                    "unique_count": 1,
                    "nan_count": 0,
                    "categories": [
                      {
                        "name": "When Russia's first nuclear submarine malfunctions on its maiden voyage, the crew must race to save the ship and prevent a nuclear disaster.",
                        "count": 1
                      }
                    ]
                  }
                },
                {
                  "name": "runtime",
                  "dtype": "int64",
                  "stats": {
                    "unique_count": 1,
                    "nan_count": 0,
                    "min": 138,
                    "max": 138,
                    "histogram": [
                      {
                        "bin_start": 137.5,
                        "bin_end": 137.6,
                        "count": 0
                      },
                      {
                        "bin_start": 137.6,
                        "bin_end": 137.7,
                        "count": 0
                      },
                      {
                        "bin_start": 137.7,
                        "bin_end": 137.8,
                        "count": 0
                      },
                      {
                        "bin_start": 137.8,
                        "bin_end": 137.9,
                        "count": 0
                      },
                      {
                        "bin_start": 137.9,
                        "bin_end": 138,
                        "count": 0
                      },
                      {
                        "bin_start": 138,
                        "bin_end": 138.1,
                        "count": 1
                      },
                      {
                        "bin_start": 138.1,
                        "bin_end": 138.2,
                        "count": 0
                      },
                      {
                        "bin_start": 138.2,
                        "bin_end": 138.3,
                        "count": 0
                      },
                      {
                        "bin_start": 138.3,
                        "bin_end": 138.4,
                        "count": 0
                      },
                      {
                        "bin_start": 138.4,
                        "bin_end": 138.5,
                        "count": 0
                      }
                    ]
                  }
                },
                {
                  "name": "genres",
                  "dtype": "object",
                  "stats": {
                    "unique_count": 1,
                    "nan_count": 0,
                    "categories": [
                      {
                        "name": "Thriller|Drama|History",
                        "count": 1
                      }
                    ]
                  }
                },
                {
                  "name": "production_companies",
                  "dtype": "object",
                  "stats": {
                    "unique_count": 1,
                    "nan_count": 0,
                    "categories": [
                      {
                        "name": "Paramount Pictures|Intermedia Films|National Geographic Society|New Regency Pictures|Palomar Pictures (II)",
                        "count": 1
                      }
                    ]
                  }
                },
                {
                  "name": "release_date",
                  "dtype": "datetime64[ns]",
                  "stats": {
                    "unique_count": 1,
                    "nan_count": 0,
                    "min": "2002-07-19T00:00:00.000000",
                    "max": "2002-07-19T00:00:00.000000",
                    "histogram": null
                  }
                },
                {
                  "name": "vote_average",
                  "dtype": "float64",
                  "stats": {
                    "unique_count": 1,
                    "nan_count": 0,
                    "min": 6,
                    "max": 6,
                    "histogram": [
                      {
                        "bin_start": 5.5,
                        "bin_end": 5.6,
                        "count": 0
                      },
                      {
                        "bin_start": 5.6,
                        "bin_end": 5.7,
                        "count": 0
                      },
                      {
                        "bin_start": 5.7,
                        "bin_end": 5.8,
                        "count": 0
                      },
                      {
                        "bin_start": 5.8,
                        "bin_end": 5.9,
                        "count": 0
                      },
                      {
                        "bin_start": 5.9,
                        "bin_end": 6,
                        "count": 0
                      },
                      {
                        "bin_start": 6,
                        "bin_end": 6.1,
                        "count": 1
                      },
                      {
                        "bin_start": 6.1,
                        "bin_end": 6.2,
                        "count": 0
                      },
                      {
                        "bin_start": 6.2,
                        "bin_end": 6.3,
                        "count": 0
                      },
                      {
                        "bin_start": 6.3,
                        "bin_end": 6.4,
                        "count": 0
                      },
                      {
                        "bin_start": 6.4,
                        "bin_end": 6.5,
                        "count": 0
                      }
                    ]
                  }
                },
                {
                  "name": "release_year",
                  "dtype": "int64",
                  "stats": {
                    "unique_count": 1,
                    "nan_count": 0,
                    "min": 2002,
                    "max": 2002,
                    "histogram": [
                      {
                        "bin_start": 2001.5,
                        "bin_end": 2001.6,
                        "count": 0
                      },
                      {
                        "bin_start": 2001.6,
                        "bin_end": 2001.7,
                        "count": 0
                      },
                      {
                        "bin_start": 2001.7,
                        "bin_end": 2001.8,
                        "count": 0
                      },
                      {
                        "bin_start": 2001.8,
                        "bin_end": 2001.9,
                        "count": 0
                      },
                      {
                        "bin_start": 2001.9,
                        "bin_end": 2002,
                        "count": 0
                      },
                      {
                        "bin_start": 2002,
                        "bin_end": 2002.1,
                        "count": 1
                      },
                      {
                        "bin_start": 2002.1,
                        "bin_end": 2002.2,
                        "count": 0
                      },
                      {
                        "bin_start": 2002.2,
                        "bin_end": 2002.3,
                        "count": 0
                      },
                      {
                        "bin_start": 2002.3,
                        "bin_end": 2002.4,
                        "count": 0
                      },
                      {
                        "bin_start": 2002.4,
                        "bin_end": 2002.5,
                        "count": 0
                      }
                    ]
                  }
                },
                {
                  "name": "profit",
                  "dtype": "int64",
                  "stats": {
                    "unique_count": 1,
                    "nan_count": 0,
                    "min": -64831034,
                    "max": -64831034,
                    "histogram": [
                      {
                        "bin_start": -64831034.5,
                        "bin_end": -64831034.4,
                        "count": 0
                      },
                      {
                        "bin_start": -64831034.4,
                        "bin_end": -64831034.3,
                        "count": 0
                      },
                      {
                        "bin_start": -64831034.3,
                        "bin_end": -64831034.2,
                        "count": 0
                      },
                      {
                        "bin_start": -64831034.2,
                        "bin_end": -64831034.1,
                        "count": 0
                      },
                      {
                        "bin_start": -64831034.1,
                        "bin_end": -64831034,
                        "count": 0
                      },
                      {
                        "bin_start": -64831034,
                        "bin_end": -64831033.9,
                        "count": 1
                      },
                      {
                        "bin_start": -64831033.9,
                        "bin_end": -64831033.8,
                        "count": 0
                      },
                      {
                        "bin_start": -64831033.8,
                        "bin_end": -64831033.7,
                        "count": 0
                      },
                      {
                        "bin_start": -64831033.7,
                        "bin_end": -64831033.6,
                        "count": 0
                      },
                      {
                        "bin_start": -64831033.6,
                        "bin_end": -64831033.5,
                        "count": 0
                      }
                    ]
                  }
                },
                {
                  "name": "_deepnote_index_column",
                  "dtype": "int64"
                }
              ],
              "rows_top": [
                {
                  "imdb_id": "tt0267626",
                  "budget": 100000000,
                  "revenue": 35168966,
                  "original_title": "K-19: The Widowmaker",
                  "cast": "Harrison Ford|Liam Neeson|Peter Sarsgaard|Joss Ackland|John Shrapnel",
                  "director": "Kathryn Bigelow",
                  "tagline": "Fate has found its hero.",
                  "overview": "When Russia's first nuclear submarine malfunctions on its maiden voyage, the crew must race to save the ship and prevent a nuclear disaster.",
                  "runtime": 138,
                  "genres": "Thriller|Drama|History",
                  "production_companies": "Paramount Pictures|Intermedia Films|National Geographic Society|New Regency Pictures|Palomar Pictures (II)",
                  "release_date": "2002-07-19T00:00:00.000000",
                  "vote_average": 6,
                  "release_year": 2002,
                  "profit": -64831034,
                  "_deepnote_index_column": 925
                }
              ],
              "rows_bottom": null
            },
            "text/plain": "       imdb_id     budget   revenue        original_title  \\\n925  tt0267626  100000000  35168966  K-19: The Widowmaker   \n\n                                                  cast         director  \\\n925  Harrison Ford|Liam Neeson|Peter Sarsgaard|Joss...  Kathryn Bigelow   \n\n                      tagline  \\\n925  Fate has found its hero.   \n\n                                              overview  runtime  \\\n925  When Russia's first nuclear submarine malfunct...      138   \n\n                     genres  \\\n925  Thriller|Drama|History   \n\n                                  production_companies release_date  \\\n925  Paramount Pictures|Intermedia Films|National G...   2002-07-19   \n\n     vote_average  release_year    profit  \n925           6.0          2002 -64831034  ",
            "text/html": "<div>\n<style scoped>\n    .dataframe tbody tr th:only-of-type {\n        vertical-align: middle;\n    }\n\n    .dataframe tbody tr th {\n        vertical-align: top;\n    }\n\n    .dataframe thead th {\n        text-align: right;\n    }\n</style>\n<table border=\"1\" class=\"dataframe\">\n  <thead>\n    <tr style=\"text-align: right;\">\n      <th></th>\n      <th>imdb_id</th>\n      <th>budget</th>\n      <th>revenue</th>\n      <th>original_title</th>\n      <th>cast</th>\n      <th>director</th>\n      <th>tagline</th>\n      <th>overview</th>\n      <th>runtime</th>\n      <th>genres</th>\n      <th>production_companies</th>\n      <th>release_date</th>\n      <th>vote_average</th>\n      <th>release_year</th>\n      <th>profit</th>\n    </tr>\n  </thead>\n  <tbody>\n    <tr>\n      <th>925</th>\n      <td>tt0267626</td>\n      <td>100000000</td>\n      <td>35168966</td>\n      <td>K-19: The Widowmaker</td>\n      <td>Harrison Ford|Liam Neeson|Peter Sarsgaard|Joss...</td>\n      <td>Kathryn Bigelow</td>\n      <td>Fate has found its hero.</td>\n      <td>When Russia's first nuclear submarine malfunct...</td>\n      <td>138</td>\n      <td>Thriller|Drama|History</td>\n      <td>Paramount Pictures|Intermedia Films|National G...</td>\n      <td>2002-07-19</td>\n      <td>6.0</td>\n      <td>2002</td>\n      <td>-64831034</td>\n    </tr>\n  </tbody>\n</table>\n</div>"
          },
          "metadata": {}
        }
      ]
    },
    {
      "cell_type": "markdown",
      "source": "# 19. Какой год стал самым успешным по суммарным кассовым сборам?",
      "metadata": {
        "colab_type": "text",
        "id": "vS8Ur6ddVp_u",
        "cell_id": "00048-96afd38e-a3fe-485d-84b6-287b0bb40714",
        "deepnote_cell_type": "markdown"
      }
    },
    {
      "cell_type": "code",
      "metadata": {
        "tags": [],
        "cell_id": "00065-d67192c8-909b-43a1-a438-2345072a8695",
        "deepnote_to_be_reexecuted": false,
        "source_hash": "929f4e86",
        "execution_millis": 0,
        "execution_start": 1615836199610,
        "deepnote_cell_type": "code"
      },
      "source": "answers['19'] = '2015'",
      "execution_count": 42,
      "outputs": []
    },
    {
      "cell_type": "code",
      "metadata": {
        "colab": {},
        "colab_type": "code",
        "id": "Dnbt4GdIVp_v",
        "cell_id": "00049-b2c195f0-ebd4-48ee-a24e-00407686716d",
        "deepnote_to_be_reexecuted": false,
        "source_hash": "9350453e",
        "execution_millis": 26,
        "execution_start": 1615836199610,
        "deepnote_cell_type": "code"
      },
      "source": "print(data.groupby(['release_year'])['revenue'].sum().sort_values(ascending=False).idxmax())",
      "execution_count": 43,
      "outputs": [
        {
          "name": "stdout",
          "text": "2015\n",
          "output_type": "stream"
        }
      ]
    },
    {
      "cell_type": "markdown",
      "source": "# 20. Какой самый прибыльный год для студии Warner Bros?",
      "metadata": {
        "colab_type": "text",
        "id": "JAzJh4QAVp_z",
        "cell_id": "00050-2c0c8ab8-b6fa-4302-ae5c-183e1cae6d6a",
        "deepnote_cell_type": "markdown"
      }
    },
    {
      "cell_type": "code",
      "metadata": {
        "tags": [],
        "cell_id": "00068-cc78e292-b246-4bdd-89aa-462d6562870e",
        "deepnote_to_be_reexecuted": false,
        "source_hash": "cab88d8",
        "execution_millis": 0,
        "execution_start": 1615836199611,
        "deepnote_cell_type": "code"
      },
      "source": "answers['20'] = '2014'",
      "execution_count": 44,
      "outputs": []
    },
    {
      "cell_type": "code",
      "metadata": {
        "colab": {},
        "colab_type": "code",
        "id": "wgVu02DEVp_0",
        "cell_id": "00051-14113b41-73b1-4fda-b372-b4f83772ca20",
        "deepnote_to_be_reexecuted": false,
        "source_hash": "4f7743dd",
        "execution_millis": 24,
        "execution_start": 1615836199612,
        "deepnote_cell_type": "code"
      },
      "source": "data_warner = data.loc[data.production_companies.str.contains('Warner Bros')].copy()\nprint(data_warner.groupby(['release_year'])['profit'].sum().sort_values(ascending=False).idxmax())",
      "execution_count": 45,
      "outputs": [
        {
          "name": "stdout",
          "text": "2014\n",
          "output_type": "stream"
        }
      ]
    },
    {
      "cell_type": "markdown",
      "source": "# 21. В каком месяце за все годы суммарно вышло больше всего фильмов?",
      "metadata": {
        "colab_type": "text",
        "id": "8Im1S2HRVp_4",
        "cell_id": "00052-6fc2f597-9e2e-41bc-af39-fcca8383a455",
        "deepnote_cell_type": "markdown"
      }
    },
    {
      "cell_type": "code",
      "metadata": {
        "tags": [],
        "cell_id": "00071-78bfe18e-496b-4f68-aed8-809aed74ea4f",
        "deepnote_to_be_reexecuted": false,
        "source_hash": "c7b52e73",
        "execution_millis": 0,
        "execution_start": 1615836199615,
        "deepnote_cell_type": "code"
      },
      "source": "answers['21'] = 'Сентябрь'",
      "execution_count": 46,
      "outputs": []
    },
    {
      "cell_type": "code",
      "metadata": {
        "colab": {},
        "colab_type": "code",
        "id": "lev6TH7gVp_4",
        "cell_id": "00053-c3cec773-8dd9-4cf5-9689-d6f224206053",
        "deepnote_to_be_reexecuted": false,
        "source_hash": "dee5ef09",
        "execution_millis": 18,
        "execution_start": 1615836199637,
        "deepnote_cell_type": "code"
      },
      "source": "print(data.release_date.dt.month.value_counts().sort_values(ascending=False).idxmax())",
      "execution_count": 47,
      "outputs": [
        {
          "name": "stdout",
          "text": "9\n",
          "output_type": "stream"
        }
      ]
    },
    {
      "cell_type": "markdown",
      "source": "# 22. Сколько суммарно вышло фильмов летом? (за июнь, июль, август)",
      "metadata": {
        "colab_type": "text",
        "id": "uAJsZ_NeVp_7",
        "cell_id": "00054-9ca10eb1-0986-4237-a6d2-db226c57d500",
        "deepnote_cell_type": "markdown"
      }
    },
    {
      "cell_type": "code",
      "metadata": {
        "tags": [],
        "cell_id": "00074-379fc8a2-e965-4880-924d-32a2e77621ab",
        "deepnote_to_be_reexecuted": false,
        "source_hash": "6857d522",
        "execution_millis": 0,
        "execution_start": 1615836199638,
        "deepnote_cell_type": "code"
      },
      "source": "answers['22'] = '450'",
      "execution_count": 48,
      "outputs": []
    },
    {
      "cell_type": "code",
      "metadata": {
        "colab": {},
        "colab_type": "code",
        "id": "Aa-hEREoVp_8",
        "cell_id": "00055-785308d7-b09b-486c-8206-65f7fef7be0c",
        "deepnote_to_be_reexecuted": false,
        "source_hash": "61073568",
        "execution_millis": 16,
        "execution_start": 1615836199639,
        "deepnote_cell_type": "code"
      },
      "source": "print(data.release_date.dt.month.value_counts().sort_index().loc[6:8].sum())",
      "execution_count": 49,
      "outputs": [
        {
          "name": "stdout",
          "text": "450\n",
          "output_type": "stream"
        }
      ]
    },
    {
      "cell_type": "markdown",
      "source": "# 23. Для какого режиссера зима – самое продуктивное время года? ",
      "metadata": {
        "colab_type": "text",
        "id": "G94ppOY1VqAA",
        "cell_id": "00056-6fa5a390-8667-412e-ab8c-0e1c8663eda8",
        "deepnote_cell_type": "markdown"
      }
    },
    {
      "cell_type": "code",
      "metadata": {
        "tags": [],
        "cell_id": "00077-cd3c8430-2389-4207-9d0b-9c17347d3b4e",
        "deepnote_to_be_reexecuted": false,
        "source_hash": "4288cddc",
        "execution_millis": 3,
        "execution_start": 1615836199641,
        "deepnote_cell_type": "code"
      },
      "source": "answers['23'] = 'Peter Jackson'",
      "execution_count": 50,
      "outputs": []
    },
    {
      "cell_type": "code",
      "metadata": {
        "colab": {},
        "colab_type": "code",
        "id": "RhNTsamuVqAB",
        "cell_id": "00057-c2ee6b85-e9ff-4d3d-ae11-98cb067d5a8d",
        "deepnote_to_be_reexecuted": false,
        "source_hash": "2d5a37be",
        "execution_millis": 18,
        "output_cleared": false,
        "execution_start": 1615836199649,
        "deepnote_cell_type": "code"
      },
      "source": "data_director = data.loc[data.release_date.dt.month.isin([1, 2, 12])].copy()\ndata_director['director'] = data_director['director'].str.split('|')\ndata_director = data_director.explode('director')\nprint(data_director['director'].value_counts().sort_values(ascending=False).idxmax())",
      "execution_count": 51,
      "outputs": [
        {
          "name": "stdout",
          "text": "Peter Jackson\n",
          "output_type": "stream"
        }
      ]
    },
    {
      "cell_type": "markdown",
      "source": "# 24. Какая студия дает самые длинные названия своим фильмам по количеству символов?",
      "metadata": {
        "colab_type": "text",
        "id": "RBo0JVjVVqAF",
        "cell_id": "00058-ad676f82-d134-4c37-a256-e0c638ee5d87",
        "deepnote_cell_type": "markdown"
      }
    },
    {
      "cell_type": "code",
      "metadata": {
        "tags": [],
        "cell_id": "00080-2eee0bca-81e6-4523-b1a8-f00bf90cfebb",
        "deepnote_to_be_reexecuted": false,
        "source_hash": "ab19937c",
        "execution_millis": 2,
        "execution_start": 1615836199659,
        "deepnote_cell_type": "code"
      },
      "source": "answers['24'] = 'Four By Two Productions'",
      "execution_count": 52,
      "outputs": []
    },
    {
      "cell_type": "code",
      "metadata": {
        "colab": {},
        "colab_type": "code",
        "id": "QRGS8L0iVqAG",
        "cell_id": "00059-07f28ca0-da77-43b1-920d-b587b89ae7e3",
        "deepnote_to_be_reexecuted": false,
        "source_hash": "ee2d645a",
        "execution_millis": 33,
        "output_cleared": false,
        "execution_start": 1615836199663,
        "deepnote_cell_type": "code"
      },
      "source": "data_companies = data.copy()\ndata_companies['prodaction_companies'] = data_companies['production_companies'].str.split('|')\ndata_companies = data_companies.explode('prodaction_companies')\ndata_companies['original_title'] = data_companies['original_title'].apply(len)\nprint(data_companies.groupby(['prodaction_companies'])['original_title'].mean().sort_values(ascending=False).idxmax())",
      "execution_count": 53,
      "outputs": [
        {
          "name": "stdout",
          "text": "Four By Two Productions\n",
          "output_type": "stream"
        }
      ]
    },
    {
      "cell_type": "markdown",
      "source": "# 25. Описание фильмов какой студии в среднем самые длинные по количеству слов?",
      "metadata": {
        "colab_type": "text",
        "id": "9G0hbvR7VqAK",
        "cell_id": "00060-f368da39-9d0d-4fa0-bc3a-8352e41e53fc",
        "deepnote_cell_type": "markdown"
      }
    },
    {
      "cell_type": "code",
      "metadata": {
        "tags": [],
        "cell_id": "00083-d36bbf6d-77e6-4d46-8dd0-9285044915b1",
        "deepnote_to_be_reexecuted": false,
        "source_hash": "fe148e33",
        "execution_millis": 1,
        "execution_start": 1615836199739,
        "deepnote_cell_type": "code"
      },
      "source": "answers['25'] = 'Midnight Picture Show'",
      "execution_count": 54,
      "outputs": []
    },
    {
      "cell_type": "code",
      "metadata": {
        "colab": {},
        "colab_type": "code",
        "id": "Ge2GsLNxVqAK",
        "cell_id": "00061-091ad18c-ac2b-4c88-b7d6-d6c4e1171ea2",
        "deepnote_to_be_reexecuted": false,
        "source_hash": "20931b04",
        "execution_millis": 31,
        "execution_start": 1615836199741,
        "deepnote_cell_type": "code"
      },
      "source": "data_companies['overview'] = data_companies['overview'].str.split(' ')\ndata_companies['overview'] = data_companies['overview'].apply(len)\nprint(data_companies.groupby(['prodaction_companies'])['overview'].mean().sort_values(ascending=False).idxmax())",
      "execution_count": 55,
      "outputs": [
        {
          "name": "stdout",
          "text": "Midnight Picture Show\n",
          "output_type": "stream"
        }
      ]
    },
    {
      "cell_type": "markdown",
      "source": "# 26. Какие фильмы входят в 1 процент лучших по рейтингу? \nпо vote_average",
      "metadata": {
        "colab_type": "text",
        "id": "FJ1AFt90VqAP",
        "cell_id": "00062-599a9d78-2354-4f95-b986-f26a8a9f7424",
        "deepnote_cell_type": "markdown"
      }
    },
    {
      "cell_type": "code",
      "metadata": {
        "tags": [],
        "cell_id": "00086-09c3f3da-39d6-4b89-ab27-83cf63d686f7",
        "deepnote_to_be_reexecuted": false,
        "source_hash": "9e92bd05",
        "execution_millis": 1,
        "execution_start": 1615836199756,
        "deepnote_cell_type": "code"
      },
      "source": "answers['26'] = 'Inside Out, The Dark Knight, 12 Years a Slave'",
      "execution_count": 56,
      "outputs": []
    },
    {
      "cell_type": "code",
      "metadata": {
        "colab": {},
        "colab_type": "code",
        "id": "8qmJVq4CVqAQ",
        "cell_id": "00063-7bb84ea7-4428-4bb9-abdc-1e1e835ce566",
        "deepnote_to_be_reexecuted": false,
        "source_hash": "4cc6a303",
        "execution_millis": 18,
        "execution_start": 1615836199757,
        "deepnote_cell_type": "code"
      },
      "source": "print(data.loc[data.vote_average > data.vote_average.quantile(0.99)][['original_title', 'vote_average']])",
      "execution_count": 57,
      "outputs": [
        {
          "name": "stdout",
          "text": "                                     original_title  vote_average\n9                                        Inside Out           8.0\n34                                             Room           8.0\n118                                    Interstellar           8.0\n119                         Guardians of the Galaxy           7.9\n125                              The Imitation Game           8.0\n128                                       Gone Girl           7.9\n138                        The Grand Budapest Hotel           7.9\n370                                       Inception           7.9\n599                                 The Dark Knight           8.1\n872                                     The Pianist           7.9\n1081  The Lord of the Rings: The Return of the King           7.9\n1183                        The Wolf of Wall Street           7.9\n1191                               12 Years a Slave           7.9\n1800                                        Memento           7.9\n",
          "output_type": "stream"
        }
      ]
    },
    {
      "cell_type": "markdown",
      "source": "# 27. Какие актеры чаще всего снимаются в одном фильме вместе?\n",
      "metadata": {
        "colab_type": "text",
        "id": "MdXsUXbCVqAV",
        "cell_id": "00064-808ade80-999b-4c13-b0e7-72f826e73ccc",
        "deepnote_cell_type": "markdown"
      }
    },
    {
      "cell_type": "code",
      "source": "answers['27'] = 'Daniel Radcliffe & Rupert Grint'",
      "metadata": {
        "tags": [],
        "cell_id": "00089-71896222-3354-46eb-8682-335444554197",
        "deepnote_to_be_reexecuted": false,
        "source_hash": "361ee25a",
        "execution_start": 1615836199758,
        "execution_millis": 1,
        "deepnote_cell_type": "code"
      },
      "outputs": [],
      "execution_count": 58
    },
    {
      "cell_type": "code",
      "metadata": {
        "tags": [],
        "cell_id": "00089-dc3166a2-3dc5-484b-b518-20508917213f",
        "deepnote_to_be_reexecuted": false,
        "source_hash": "a63d1691",
        "execution_millis": 70,
        "execution_start": 1615836199760,
        "deepnote_cell_type": "code"
      },
      "source": "data_pair = data.copy()\ndata_pair['cast'] = data_pair.cast.str.split('|').apply(lambda x: list(itertools.combinations(x, 2)))\ndata_pair2 = data_pair.explode('cast')\nprint(data_pair2.cast.value_counts().head())",
      "execution_count": 59,
      "outputs": [
        {
          "name": "stdout",
          "text": "(Daniel Radcliffe, Emma Watson)        8\n(Daniel Radcliffe, Rupert Grint)       8\n(Rupert Grint, Emma Watson)            7\n(Johnny Depp, Helena Bonham Carter)    6\n(Ben Stiller, Owen Wilson)             6\nName: cast, dtype: int64\n",
          "output_type": "stream"
        }
      ]
    },
    {
      "cell_type": "markdown",
      "source": "ВАРИАНТ 2",
      "metadata": {
        "colab_type": "text",
        "id": "4ymnxEVoVqAW",
        "cell_id": "00065-c3aceaee-d90e-45f2-b6d7-b8eb8b0faff7",
        "deepnote_cell_type": "markdown"
      }
    },
    {
      "cell_type": "markdown",
      "source": "# Submission",
      "metadata": {
        "colab_type": "text",
        "id": "U0nONFnGVqAX",
        "cell_id": "00066-fb21ce9e-9f51-4538-b9ba-d1c808d8fc8a",
        "deepnote_cell_type": "markdown"
      }
    },
    {
      "cell_type": "code",
      "metadata": {
        "colab": {},
        "colab_type": "code",
        "id": "IfcaRO9-VqAX",
        "outputId": "0f132912-32bb-4196-c98c-abfbc4ad5a5f",
        "cell_id": "00067-68981964-46fd-464a-b907-01cfa2e94580",
        "deepnote_to_be_reexecuted": false,
        "source_hash": "d3889c9a",
        "execution_millis": 31,
        "execution_start": 1615836199799,
        "deepnote_cell_type": "code"
      },
      "source": "# в конце можно посмотреть свои ответы к каждому вопросу\nanswers",
      "execution_count": 60,
      "outputs": [
        {
          "output_type": "execute_result",
          "execution_count": 60,
          "data": {
            "text/plain": "{'1': 'Pirates of the Caribbean: On Stranger Tides (tt1298650)',\n '2': 'Gods and Generals (tt0279111)',\n '3': 'Winnie the Pooh (tt1449283)',\n '4': '110',\n '5': '107',\n '6': 'Avatar (tt0499549)',\n '7': 'The Lone Ranger (tt1210819)',\n '8': '1478',\n '9': 'The Dark Knight (tt0468569)',\n '10': 'The Lone Ranger (tt1210819)',\n '11': 'Drama',\n '12': 'Drama',\n '13': 'Peter Jackson',\n '14': 'Robert Rodriguez',\n '15': 'Chris Hemsworth',\n '16': 'Matt Damon',\n '17': 'Action',\n '18': 'K-19: The Widowmaker (tt0267626)',\n '19': '2015',\n '20': '2014',\n '21': 'Сентябрь',\n '22': '450',\n '23': 'Peter Jackson',\n '24': 'Four By Two Productions',\n '25': 'Midnight Picture Show',\n '26': 'Inside Out, The Dark Knight, 12 Years a Slave',\n '27': 'Daniel Radcliffe & Rupert Grint'}"
          },
          "metadata": {}
        }
      ]
    },
    {
      "cell_type": "code",
      "metadata": {
        "colab": {},
        "colab_type": "code",
        "id": "SiRmHPl8VqAd",
        "cell_id": "00068-a1aabd38-fb5e-4648-92e7-77eb2671821c",
        "deepnote_to_be_reexecuted": false,
        "source_hash": "4fdb9fb2",
        "execution_millis": 24,
        "execution_start": 1615836199806,
        "deepnote_cell_type": "code"
      },
      "source": "# и убедиться что ничего не пропустил)\nlen(answers)",
      "execution_count": 61,
      "outputs": [
        {
          "output_type": "execute_result",
          "execution_count": 61,
          "data": {
            "text/plain": "27"
          },
          "metadata": {}
        }
      ]
    },
    {
      "cell_type": "markdown",
      "source": "<a style='text-decoration:none;line-height:16px;display:flex;color:#5B5B62;padding:10px;justify-content:end;' href='https://deepnote.com?utm_source=created-in-deepnote-cell&projectId=f3731b70-c8f2-470e-8ad9-9ed0fbf5df13' target=\"_blank\">\n<img style='display:inline;max-height:16px;margin:0px;margin-right:7.5px;' src='data:image/svg+xml;base64,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' > </img>\nCreated in <span style='font-weight:600;margin-left:4px;'>Deepnote</span></a>",
      "metadata": {
        "tags": [],
        "created_in_deepnote_cell": true,
        "deepnote_cell_type": "markdown"
      }
    }
  ],
  "nbformat": 4,
  "nbformat_minor": 1,
  "metadata": {
    "colab": {
      "name": "Copy of [SF-DST] Movies IMBD v4.1 TEMPLATE.ipynb",
      "provenance": []
    },
    "kernelspec": {
      "display_name": "Python 3",
      "language": "python",
      "name": "python3"
    },
    "language_info": {
      "codemirror_mode": {
        "name": "ipython",
        "version": 3
      },
      "file_extension": ".py",
      "mimetype": "text/x-python",
      "name": "python",
      "nbconvert_exporter": "python",
      "pygments_lexer": "ipython3",
      "version": "3.7.4"
    },
    "deepnote_notebook_id": "3aa84054-1996-4842-b655-0269cd80f110",
    "deepnote": {},
    "deepnote_execution_queue": []
  }
}