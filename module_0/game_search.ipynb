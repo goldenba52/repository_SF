{
 "cells": [
  {
   "cell_type": "code",
   "execution_count": 3,
   "metadata": {},
   "outputs": [],
   "source": [
    "import numpy as np\n",
    "\n",
    "left = 1  #присваиваем переменным left и right начальное и конечное значения числовой последовательности, где будем проводить поиск\n",
    "right = 100\n",
    "\n",
    "\n",
    "def game_core_v3(number, left, right):\n",
    "    '''Используем самый эффективный алгоритм поиска в отсортированных последовательностях\n",
    "    - бинарный поиск. Загаданное число каждый раз будем сравнивать со средним значением\n",
    "    последовательности. Если загаданное число больше среднего члена списка, тогда отбрасываем\n",
    "    левую половину последовательности. Если меньше - отбрасываем правую половину.\n",
    "    Если равно - Ура! число найдено!'''\n",
    "    count = 0                      #счетчик\n",
    "    list_number = [item for item in range(left, right+1)]  #строим отсортированный по возрастанию список целых чисел\n",
    "    low = 0                        #индекс первого члена списка\n",
    "    high = len(list_number) - 1    #индекс последнего члена списка\n",
    "\n",
    "    while True:\n",
    "        count += 1\n",
    "        mid = (low + high) // 2    #ищем средний элемент списка\n",
    "        target = list_number[mid]\n",
    "        if target == number:       #в условном операторе сравниваем средние значения с загаданным числом\n",
    "            return count\n",
    "        if target > number:\n",
    "            high = mid - 1\n",
    "        else:\n",
    "            low = mid + 1\n",
    "\n",
    "\n",
    "def score_game(game_core):\n",
    "    '''Запускаем игру 1000 раз, чтобы узнать, как быстро игра угадывает число'''\n",
    "    count_ls = []\n",
    "    np.random.seed(1)  # фиксируем RANDOM SEED, чтобы ваш эксперимент был воспроизводим!\n",
    "    random_array = np.random.randint(left,right + 1, size=(1000))\n",
    "    for number in random_array:\n",
    "        count_ls.append(game_core_v3(number, left, right))\n",
    "    score = int(np.mean(count_ls))\n",
    "    print(f\"Ваш алгоритм угадывает число в среднем за {score} попыток\")\n",
    "    return(score)"
   ]
  },
  {
   "cell_type": "code",
   "execution_count": 4,
   "metadata": {},
   "outputs": [
    {
     "name": "stdout",
     "output_type": "stream",
     "text": [
      "Ваш алгоритм угадывает число в среднем за 5 попыток\n"
     ]
    },
    {
     "data": {
      "text/plain": [
       "5"
      ]
     },
     "execution_count": 4,
     "metadata": {},
     "output_type": "execute_result"
    }
   ],
   "source": [
    "score_game(game_core_v3)"
   ]
  }
 ],
 "metadata": {
  "kernelspec": {
   "display_name": "Python 3",
   "language": "python",
   "name": "python3"
  },
  "language_info": {
   "codemirror_mode": {
    "name": "ipython",
    "version": 3
   },
   "file_extension": ".py",
   "mimetype": "text/x-python",
   "name": "python",
   "nbconvert_exporter": "python",
   "pygments_lexer": "ipython3",
   "version": "3.8.5"
  }
 },
 "nbformat": 4,
 "nbformat_minor": 4
}
